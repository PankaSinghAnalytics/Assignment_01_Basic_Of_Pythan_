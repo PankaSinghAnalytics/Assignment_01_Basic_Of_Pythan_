{
  "nbformat": 4,
  "nbformat_minor": 0,
  "metadata": {
    "colab": {
      "provenance": []
    },
    "kernelspec": {
      "name": "python3",
      "display_name": "Python 3"
    },
    "language_info": {
      "name": "python"
    }
  },
  "cells": [
    {
      "cell_type": "markdown",
      "source": [
        "# **Assignment 02 Data Types and Structures** ⭐\n",
        "\n",
        "\n"
      ],
      "metadata": {
        "id": "26KQGiCPFgBc"
      }
    },
    {
      "cell_type": "markdown",
      "source": [
        "##Q1. What are data structures, and why are they important?\n",
        "      >> Data structures are a specific way of organizing data in a specialized format on a computer so that the information can be organized, processed, stored, and retrieved quickly and effectively. They are a means of handling information, rendering the data for easy use.\n",
        "\n",
        "      Data structures are important because they allow computers to efficiently process large amounts of complex data by logically organizing data elements, which in turn leads to more streamlined and understandable code, enhancing the performance of software applications by optimizing data access and manipulation speeds.\n",
        "\n",
        "      Key points about the importance of data structures:\n",
        "      1. Efficient data handling.\n",
        "      2. Algorithm design foundation.\n",
        "      3. Code readability and maintainability.\n",
        "      4. Memory optimization.\n",
        "\n"
      ],
      "metadata": {
        "id": "L8XmUEGXF5QB"
      }
    },
    {
      "cell_type": "markdown",
      "source": [
        "##Q2. Explain the difference between mutable and immutable data types with examples?\n",
        "      >>Data types in Python are categorized into mutable and immutable data types. Mutable data types are those whose values can be changed, whereas immutable data types are ones in which the values can’t be changed.\n",
        "\n",
        "      Mutable Data Types – These data types can be changed after they are created. For example, in Python, lists and dictionaries are mutable data types. We can add, remove, or update elements in a mutable data type without creating a new object.\n",
        "      Ex>"
      ],
      "metadata": {
        "id": "P3dQrzfALHtL"
      }
    },
    {
      "cell_type": "code",
      "source": [
        "my_list = [1, 2, 3]\n",
        "my_list.append(4)\n",
        "print(my_list)\n"
      ],
      "metadata": {
        "colab": {
          "base_uri": "https://localhost:8080/"
        },
        "id": "dqxkaq22Myiy",
        "outputId": "32fbd2ab-22e4-4a77-9729-df2a6a370dba"
      },
      "execution_count": null,
      "outputs": [
        {
          "output_type": "stream",
          "name": "stdout",
          "text": [
            "[1, 2, 3, 4]\n"
          ]
        }
      ]
    },
    {
      "cell_type": "markdown",
      "source": [
        "Immutable Data Types – These data types cannot be changed after they are created. For example, in Python, strings and tuples are immutable data types. We cannot change the content of an immutable data type after it is created.\n",
        "Ex>\n"
      ],
      "metadata": {
        "id": "iS-LlN0DM43L"
      }
    },
    {
      "cell_type": "code",
      "source": [
        "my_str = \"Hello\"\n",
        "new_str = my_str + \" World\"\n",
        "print(my_str)\n",
        "print(new_str)\n"
      ],
      "metadata": {
        "colab": {
          "base_uri": "https://localhost:8080/"
        },
        "id": "mOdfJTkaNAHb",
        "outputId": "c6d686a3-a084-4b8f-dc82-f700e0e541ee"
      },
      "execution_count": null,
      "outputs": [
        {
          "output_type": "stream",
          "name": "stdout",
          "text": [
            "Hello\n",
            "Hello World\n"
          ]
        }
      ]
    },
    {
      "cell_type": "markdown",
      "source": [
        "##Q3 What are the main differences between lists and tuples in Python?\n",
        "     >>Lists are mutable, slower, and use more memory, while tuples are immutable, faster, and use less memory.\n",
        "\n",
        "     -->List is Mutable and Tuple is not (Cannot update an element, insert and delete elements)\n",
        "\n",
        "     -->Tuples are faster because of read only nature. Memory can be efficiently allocated and used for tuples.\n",
        "\n",
        "     \n",
        "\n"
      ],
      "metadata": {
        "id": "V5WLups4NKVr"
      }
    },
    {
      "cell_type": "markdown",
      "source": [
        "##Q4 Describe how dictionaries store data?\n",
        "     >>Dictionaries in Python store data as **key-value pairs** using a **hash\n",
        "       table** implementation. Each key is hashed to a unique memory location, allowing for **fast lookups, insertions, and deletions** with an average time complexity of **O(1)**. Keys must be **immutable** (e.g., strings, numbers, tuples), while values can be of any type.\n",
        "\n"
      ],
      "metadata": {
        "id": "PrZ-a-r-QX1O"
      }
    },
    {
      "cell_type": "markdown",
      "source": [
        "##Q5 Why might you use a set instead of a list in Python?\n",
        "     >>We might use a set instead of a list when we need to store unique elements and perform fast lookups (O(1) complexity). Sets also provide efficient mathematical operations like union and intersection, unlike lists."
      ],
      "metadata": {
        "id": "UzkT59WCRwUb"
      }
    },
    {
      "cell_type": "markdown",
      "source": [
        "##Q6  What is a string in Python, and how is it *different* from a list?\n",
        "      >>In Python, a string is a sequence of characters, while a list is a sequence of items that can be of any type. Strings are immutable, meaning their values cannot be changed after they are created, while lists are mutable and can be modified.\n"
      ],
      "metadata": {
        "id": "HgciBgB2Sjhh"
      }
    },
    {
      "cell_type": "markdown",
      "source": [
        "##Q7 How do tuples ensure data integrity in Python?\n",
        "     >>Tuples ensure data integrity in Python by being immutable, meaning their contents cannot be modified after creation. This prevents accidental changes, making them ideal for storing constant values, ensuring data consistency, and enabling safe use as dictionary keys or set elements."
      ],
      "metadata": {
        "id": "sRv3h0OXT7hU"
      }
    },
    {
      "cell_type": "markdown",
      "source": [
        "##Q8 What is a hash table, and how does it relate to dictionaries in Python?\n",
        "     >>A hash table is a data structure that stores key-value pairs using a **hashing function** to map keys to unique memory locations for fast retrieval. In Python, dictionaries are implemented as hash tables, allowing for **O(1) average-time complexity** for lookups, insertions, and deletions."
      ],
      "metadata": {
        "id": "PdIkdOpSVha6"
      }
    },
    {
      "cell_type": "markdown",
      "source": [
        "##Q9 Can lists contain different data types in Python?\n",
        "     >>Yes, lists in Python can contain different data types, including integers, floats, strings, booleans, other lists, tuples, dictionaries, and even functions. This flexibility makes lists highly versatile.\n",
        "\n",
        "Example:"
      ],
      "metadata": {
        "id": "zlBXSyVYWMsn"
      }
    },
    {
      "cell_type": "code",
      "source": [
        "my_list = [42, \"hello\", 3.14, True, [1, 2, 3], {\"key\": \"value\"}]\n",
        "print(my_list)\n",
        "\n"
      ],
      "metadata": {
        "colab": {
          "base_uri": "https://localhost:8080/"
        },
        "id": "KEBrRha2WiEe",
        "outputId": "8abed884-0202-405d-e319-9cf2f7d0d355"
      },
      "execution_count": null,
      "outputs": [
        {
          "output_type": "stream",
          "name": "stdout",
          "text": [
            "[42, 'hello', 3.14, True, [1, 2, 3], {'key': 'value'}]\n"
          ]
        }
      ]
    },
    {
      "cell_type": "markdown",
      "source": [
        "##Q10 Explain why strings are immutable in Python?\n",
        "      >>Strings are immutable in Python to ensure memory efficiency, consistency (for use as dictionary keys), and data integrity. Once created, a string cannot be changed, preventing accidental modifications and improving performance by reusing memory.\n",
        "      "
      ],
      "metadata": {
        "id": "jrqNtIr3Wn3J"
      }
    },
    {
      "cell_type": "markdown",
      "source": [
        "##Q11 What advantages do dictionaries offer over lists for certain tasks?\n",
        "      >>Dictionaries offer **faster lookups** (O(1) vs. O(n) in lists), **key-value pairing**, and automatic **key uniqueness**. They are ideal for **fast retrieval** and **associating related data**."
      ],
      "metadata": {
        "id": "VeLnMzWcco7C"
      }
    },
    {
      "cell_type": "markdown",
      "source": [
        "##Q12 Describe a scenario where using a tuple would be preferable over a list?\n",
        "      >>A tuple would be preferable over a list when we need to store **constant data** that should not be modified, such as **coordinates** (x, y, z) in a 3D space or **dates** (year, month, day) that should remain unchanged throughout the program. Tuples provide data integrity and are more **memory-efficient** and **faster** for such use cases."
      ],
      "metadata": {
        "id": "g9sdNVc9dxaM"
      }
    },
    {
      "cell_type": "markdown",
      "source": [
        "##Q13 How do sets handle duplicate values in Python?\n",
        "     >>Sets in Python automatically remove duplicate values. When we try to add a duplicate element, the set ignores it, ensuring that all elements in a set are unique.\n",
        "\n",
        "Example:\n",
        "\n"
      ],
      "metadata": {
        "id": "j0cTbrT5fpTH"
      }
    },
    {
      "cell_type": "code",
      "source": [
        "my_set = {1, 2, 3, 3, 4}\n",
        "print(my_set)"
      ],
      "metadata": {
        "colab": {
          "base_uri": "https://localhost:8080/"
        },
        "id": "kjMJrwvDgsKI",
        "outputId": "0d9b109f-8b9d-41d1-cf76-23edcfd88b07"
      },
      "execution_count": null,
      "outputs": [
        {
          "output_type": "stream",
          "name": "stdout",
          "text": [
            "{1, 2, 3, 4}\n"
          ]
        }
      ]
    },
    {
      "cell_type": "markdown",
      "source": [
        "##Q14 How does the \"in\" keyword work differently for lists and dictionaries?\n",
        "     >>For lists, the \"in\" keyword checks if an element is present. For dictionaries, it checks if a key exists, not the value.\n",
        "\n",
        "\n",
        "\n",
        "\n",
        "\n",
        "\n",
        "\n",
        "\n"
      ],
      "metadata": {
        "id": "2Vky9d4SguiM"
      }
    },
    {
      "cell_type": "markdown",
      "source": [
        "##Q15 Can you modify the elements of a tuple? Explain why or why not?\n",
        "     >>No, we cannot modify the elements of a tuple because tuples are immutable. Once created, their contents cannot be changed, added to, or removed, ensuring data integrity and allowing for efficient memory usage.\n"
      ],
      "metadata": {
        "id": "yimdte-RhlAS"
      }
    },
    {
      "cell_type": "markdown",
      "source": [
        "##Q16 What is a nested dictionary, and give an example of its use case?\n",
        "     >>A nested dictionary is a dictionary where values are other dictionaries. It's useful for storing hierarchical data, like user profiles or multi-level categories.\n"
      ],
      "metadata": {
        "id": "XElQAk8JiYJa"
      }
    },
    {
      "cell_type": "code",
      "source": [
        "students = {\n",
        "    \"Alice\": {\"age\": 20, \"grades\": [85, 90, 92]},\n",
        "    \"Bob\": {\"age\": 22, \"grades\": [88, 79, 91]},\n",
        "}\n",
        "\n",
        "print(students[\"Alice\"][\"grades\"])\n"
      ],
      "metadata": {
        "colab": {
          "base_uri": "https://localhost:8080/"
        },
        "id": "3VVhRzsSjgya",
        "outputId": "3947cd50-39b0-4c3a-e284-a46ad1316d41"
      },
      "execution_count": null,
      "outputs": [
        {
          "output_type": "stream",
          "name": "stdout",
          "text": [
            "[85, 90, 92]\n"
          ]
        }
      ]
    },
    {
      "cell_type": "markdown",
      "source": [
        "##Q17 Describe the time complexity of accessing elements in a dictionary?\n",
        "     >>The time complexity of accessing elements in a dictionary is **O(1)** on average, meaning it takes constant time to retrieve a value using its key. This is because dictionaries in Python are implemented using a **hash table**, which allows for efficient key-based lookup. However, in rare cases (like hash collisions), the time complexity could degrade to **O(n)**, but this is uncommon.\n"
      ],
      "metadata": {
        "id": "snspVQUrjlHv"
      }
    },
    {
      "cell_type": "markdown",
      "source": [
        "##Q18  In what situations are lists preferred over dictionaries?\n",
        "      >>**Lists** are preferred when **order matters**, we need **indexed access**, or when storing **multiple values** without key-value pairs.\n",
        "\n"
      ],
      "metadata": {
        "id": "hQrcPcFrk5mv"
      }
    },
    {
      "cell_type": "markdown",
      "source": [
        "##Q19 Why are dictionaries considered unordered, and how does that affect data retrieval?\n",
        "    >>Dictionaries are considered **unordered** because the keys in a dictionary are stored based on their **hash values** rather than in a predictable order. However, starting from Python 3.7, dictionaries **maintain insertion order**, meaning they remember the order in which keys were added, but the order is not guaranteed to be meaningful for data retrieval. This does not affect **data retrieval** as keys can still be accessed directly, but order-based operations (like sorting) are not inherently supported.\n",
        "\n",
        "---\n",
        "\n"
      ],
      "metadata": {
        "id": "XrePtSVElkGi"
      }
    },
    {
      "cell_type": "markdown",
      "source": [
        "##Q20 Explain the difference between a list and a dictionary in terms of data retrieval?\n",
        "     >>In a **list**, data is retrieved by **index** (position), while in a **dictionary**, data is retrieved by **key** (unique identifier). Lists are ordered, and dictionaries use hashing for fast access.\n",
        "\n",
        "     -->List: Elements are accessed by their index (position in the list). Retrieval time is O(1) when using the index.\n",
        "\n"
      ],
      "metadata": {
        "id": "jVd_WBnMmD7k"
      }
    },
    {
      "cell_type": "code",
      "source": [
        "my_list = [10, 20, 30]\n",
        "print(my_list[1])"
      ],
      "metadata": {
        "colab": {
          "base_uri": "https://localhost:8080/"
        },
        "id": "2Ab1pH-4mx6m",
        "outputId": "865e82c6-fca9-4c8f-d373-0981c4f0c362"
      },
      "execution_count": null,
      "outputs": [
        {
          "output_type": "stream",
          "name": "stdout",
          "text": [
            "20\n"
          ]
        }
      ]
    },
    {
      "cell_type": "markdown",
      "source": [
        "-->Dictionary: Elements are accessed by their key (unique identifier). Retrieval time is O(1) on average due to hash table implementation."
      ],
      "metadata": {
        "id": "ou-r581imzQK"
      }
    },
    {
      "cell_type": "code",
      "source": [
        "my_dict = {\"a\": 10, \"b\": 20}\n",
        "print(my_dict[\"b\"])\n"
      ],
      "metadata": {
        "colab": {
          "base_uri": "https://localhost:8080/"
        },
        "id": "tbJ6TT6Om2_s",
        "outputId": "7fc5f218-3869-4f60-8b48-32ab318ba8c1"
      },
      "execution_count": null,
      "outputs": [
        {
          "output_type": "stream",
          "name": "stdout",
          "text": [
            "20\n"
          ]
        }
      ]
    },
    {
      "cell_type": "markdown",
      "source": [
        "#**Practical Questions Data Types and Structures** ⭐\n",
        "\n",
        "                          \n",
        "\n"
      ],
      "metadata": {
        "id": "P4_wUl2ym4mU"
      }
    },
    {
      "cell_type": "markdown",
      "source": [
        "##Q1 Write a code to create a string with your name and print it?\n",
        "     >>\n",
        "     \n",
        "    "
      ],
      "metadata": {
        "id": "E7oXdLbenDVw"
      }
    },
    {
      "cell_type": "code",
      "source": [
        "name = \"Pankaj\"\n",
        "print(name)\n"
      ],
      "metadata": {
        "colab": {
          "base_uri": "https://localhost:8080/"
        },
        "id": "gf7PpMDRonnm",
        "outputId": "57d06c65-2a11-425e-dfb4-673fda3bb545"
      },
      "execution_count": null,
      "outputs": [
        {
          "output_type": "stream",
          "name": "stdout",
          "text": [
            "Pankaj\n"
          ]
        }
      ]
    },
    {
      "cell_type": "markdown",
      "source": [
        "##Q2 Write a code to find the length of the string 'Hello World\"?\n",
        "     >>\n",
        "\n"
      ],
      "metadata": {
        "id": "enHnarDKoweN"
      }
    },
    {
      "cell_type": "code",
      "source": [
        "string = \"Hello World\"\n",
        "length = len(string)\n",
        "print(length)\n"
      ],
      "metadata": {
        "colab": {
          "base_uri": "https://localhost:8080/"
        },
        "id": "2p6Wj2xbpEO5",
        "outputId": "9c892743-1634-4f1a-eb39-4a03d61a2778"
      },
      "execution_count": null,
      "outputs": [
        {
          "output_type": "stream",
          "name": "stdout",
          "text": [
            "11\n"
          ]
        }
      ]
    },
    {
      "cell_type": "markdown",
      "source": [
        "##Q3 Write a code to slice the first 3 characters from the string \"Python Programming\"?\n",
        "     >>"
      ],
      "metadata": {
        "id": "f97fjKtWpqWz"
      }
    },
    {
      "cell_type": "code",
      "source": [
        "string = \"Python Programming\"\n",
        "slice = string[:3]\n",
        "print(slice)\n"
      ],
      "metadata": {
        "colab": {
          "base_uri": "https://localhost:8080/"
        },
        "id": "7Nl5RUJ0qGlW",
        "outputId": "4a55cfbf-6e4c-4dce-9cc2-96141777264a"
      },
      "execution_count": null,
      "outputs": [
        {
          "output_type": "stream",
          "name": "stdout",
          "text": [
            "Pyt\n"
          ]
        }
      ]
    },
    {
      "cell_type": "markdown",
      "source": [
        "##Q4 Write a code to convert the string \"hello\" to uppercase?\n",
        "     >>"
      ],
      "metadata": {
        "id": "QL8UdPQDqQ2n"
      }
    },
    {
      "cell_type": "code",
      "source": [
        "string = \"hello\"\n",
        "uppercase_string = string.upper()\n",
        "print(uppercase_string)\n"
      ],
      "metadata": {
        "colab": {
          "base_uri": "https://localhost:8080/"
        },
        "id": "1SacPaGoqeZM",
        "outputId": "344d0708-6ca4-4a34-e81a-4ee7a51fd5ef"
      },
      "execution_count": null,
      "outputs": [
        {
          "output_type": "stream",
          "name": "stdout",
          "text": [
            "HELLO\n"
          ]
        }
      ]
    },
    {
      "cell_type": "markdown",
      "source": [
        "##Q5 Write a code to replace the word \"apple\" with \"orange\" in the string \"I like apple\" ?\n",
        "     >>"
      ],
      "metadata": {
        "id": "hxv9mtAiqicz"
      }
    },
    {
      "cell_type": "code",
      "source": [
        "string = \"I like apple\"\n",
        "updated_string = string.replace(\"apple\", \"orange\")\n",
        "print(updated_string)\n"
      ],
      "metadata": {
        "colab": {
          "base_uri": "https://localhost:8080/"
        },
        "id": "z2idZebtqyAe",
        "outputId": "0ecdb4f6-9dcb-4609-b8b7-a209edd37128"
      },
      "execution_count": null,
      "outputs": [
        {
          "output_type": "stream",
          "name": "stdout",
          "text": [
            "I like orange\n"
          ]
        }
      ]
    },
    {
      "cell_type": "markdown",
      "source": [
        "##Q6 Write a code to create a list with numbers 1 to 5 and print it?\n",
        "     >>"
      ],
      "metadata": {
        "id": "wXy2fV4rq5FF"
      }
    },
    {
      "cell_type": "code",
      "source": [
        "numbers = [1, 2, 3, 4, 5]\n",
        "print(numbers)\n"
      ],
      "metadata": {
        "colab": {
          "base_uri": "https://localhost:8080/"
        },
        "id": "zjyn_gm_rFAm",
        "outputId": "66c0c918-6567-49ae-f755-ba74399f0ece"
      },
      "execution_count": null,
      "outputs": [
        {
          "output_type": "stream",
          "name": "stdout",
          "text": [
            "[1, 2, 3, 4, 5]\n"
          ]
        }
      ]
    },
    {
      "cell_type": "markdown",
      "source": [
        "##Q7 Write a code to append the number 10 to the list [1, 2, 3, 4]?\n",
        "     >>\n",
        "\n"
      ],
      "metadata": {
        "id": "XnfzsycNrJD6"
      }
    },
    {
      "cell_type": "code",
      "source": [
        "my_list = [1, 2, 3, 4]\n",
        "my_list.append(10)\n",
        "print(my_list)\n"
      ],
      "metadata": {
        "colab": {
          "base_uri": "https://localhost:8080/"
        },
        "id": "k-boWYq6rV9V",
        "outputId": "46a4761d-8f99-4675-ac88-f736369c6c38"
      },
      "execution_count": null,
      "outputs": [
        {
          "output_type": "stream",
          "name": "stdout",
          "text": [
            "[1, 2, 3, 4, 10]\n"
          ]
        }
      ]
    },
    {
      "cell_type": "markdown",
      "source": [
        "##Q8 Write a code to remove the number 3 from the list [1, 2, 3, 4, 5]?\n",
        "     >>\n",
        "\n"
      ],
      "metadata": {
        "id": "-znAtBdUrY8c"
      }
    },
    {
      "cell_type": "code",
      "source": [
        "my_list = [1, 2, 3, 4, 5]\n",
        "my_list.remove(3)\n",
        "print(my_list)\n"
      ],
      "metadata": {
        "colab": {
          "base_uri": "https://localhost:8080/"
        },
        "id": "fLomuOwTrjXW",
        "outputId": "d89e38ec-eb9a-4c95-e853-94256f2d64d1"
      },
      "execution_count": null,
      "outputs": [
        {
          "output_type": "stream",
          "name": "stdout",
          "text": [
            "[1, 2, 4, 5]\n"
          ]
        }
      ]
    },
    {
      "cell_type": "markdown",
      "source": [
        "##Q9 Write a code to access the second element in the list ['a', 'b', 'c', 'd]?\n",
        "     >>"
      ],
      "metadata": {
        "id": "BZljARkUrrcO"
      }
    },
    {
      "cell_type": "code",
      "source": [
        "my_list = ['a', 'b', 'c', 'd']\n",
        "second_element = my_list[1]\n",
        "print(second_element)\n"
      ],
      "metadata": {
        "colab": {
          "base_uri": "https://localhost:8080/"
        },
        "id": "q8aL3KVtr3TB",
        "outputId": "3f975991-20a5-41bb-b72b-c430cb0ac177"
      },
      "execution_count": null,
      "outputs": [
        {
          "output_type": "stream",
          "name": "stdout",
          "text": [
            "b\n"
          ]
        }
      ]
    },
    {
      "cell_type": "markdown",
      "source": [
        "##Q10 Write a code to reverse the list [10, 20, 30, 40, 50]?\n",
        "      >>"
      ],
      "metadata": {
        "id": "DLuudnIXr_S8"
      }
    },
    {
      "cell_type": "code",
      "source": [
        "my_list = [10, 20, 30, 40, 50]\n",
        "my_list.reverse()\n",
        "print(my_list)\n"
      ],
      "metadata": {
        "colab": {
          "base_uri": "https://localhost:8080/"
        },
        "id": "HWB-vvEVsNnx",
        "outputId": "1b5973ea-1529-482b-e553-03461e9939a7"
      },
      "execution_count": null,
      "outputs": [
        {
          "output_type": "stream",
          "name": "stdout",
          "text": [
            "[50, 40, 30, 20, 10]\n"
          ]
        }
      ]
    },
    {
      "cell_type": "markdown",
      "source": [
        "##Q11 Write a code to create a tuple with the elements 100, 200, 300 and print it?\n",
        "      >>"
      ],
      "metadata": {
        "id": "VaXj4TVtsPg0"
      }
    },
    {
      "cell_type": "code",
      "source": [
        "my_tuple = (100, 200, 300)\n",
        "print(my_tuple)\n"
      ],
      "metadata": {
        "colab": {
          "base_uri": "https://localhost:8080/"
        },
        "id": "IBpp9xunsblK",
        "outputId": "a8598574-d001-45c3-c701-8179d076563b"
      },
      "execution_count": null,
      "outputs": [
        {
          "output_type": "stream",
          "name": "stdout",
          "text": [
            "(100, 200, 300)\n"
          ]
        }
      ]
    },
    {
      "cell_type": "markdown",
      "source": [
        "##Q12 Write a code to access the second-to-last element of the tuple ('red', 'green', blue, yellow)?\n",
        "      >>\n"
      ],
      "metadata": {
        "id": "bGrTw0K_sjL4"
      }
    },
    {
      "cell_type": "code",
      "source": [
        "my_tuple = ('red', 'green', 'blue', 'yellow')\n",
        "second_to_last = my_tuple[-2]\n",
        "print(second_to_last)\n"
      ],
      "metadata": {
        "colab": {
          "base_uri": "https://localhost:8080/"
        },
        "id": "g5-uur2IsryC",
        "outputId": "a66e7014-23dc-4e1c-fb7a-a95c3676f956"
      },
      "execution_count": null,
      "outputs": [
        {
          "output_type": "stream",
          "name": "stdout",
          "text": [
            "blue\n"
          ]
        }
      ]
    },
    {
      "cell_type": "markdown",
      "source": [
        "##Q13 Write a code to find the minimum number in the tuple (10, 20, 5, 15)?\n",
        "      >>"
      ],
      "metadata": {
        "id": "mSG9tlagsz-_"
      }
    },
    {
      "cell_type": "code",
      "source": [
        "my_tuple = (10, 20, 5, 15)\n",
        "min_value = min(my_tuple)\n",
        "print(min_value)\n"
      ],
      "metadata": {
        "colab": {
          "base_uri": "https://localhost:8080/"
        },
        "id": "_UZu3yWTtBO1",
        "outputId": "0777ea99-ab51-4e93-952d-8d94010e2b4b"
      },
      "execution_count": null,
      "outputs": [
        {
          "output_type": "stream",
          "name": "stdout",
          "text": [
            "5\n"
          ]
        }
      ]
    },
    {
      "cell_type": "markdown",
      "source": [
        "##Q14 Write a code to find the index of the element \"cat\" in the tuple (dog, cat, rabbit) ?\n",
        "\n",
        "    >>\n",
        "\n"
      ],
      "metadata": {
        "id": "mdVHo10MtF6i"
      }
    },
    {
      "cell_type": "code",
      "source": [
        "my_tuple = ('dog', 'cat', 'rabbit')\n",
        "index_of_cat = my_tuple.index('cat')\n",
        "print(index_of_cat)\n"
      ],
      "metadata": {
        "colab": {
          "base_uri": "https://localhost:8080/"
        },
        "id": "Muim0dMEtS9m",
        "outputId": "5d41add1-a2f4-4a64-ce4c-fa8560fac853"
      },
      "execution_count": null,
      "outputs": [
        {
          "output_type": "stream",
          "name": "stdout",
          "text": [
            "1\n"
          ]
        }
      ]
    },
    {
      "cell_type": "markdown",
      "source": [
        "##Q15 Write a code to create a tuple containing three different fruits and check if \"kiwi\" is in it?\n",
        "      >>\n"
      ],
      "metadata": {
        "id": "pQI-xUzFtdXJ"
      }
    },
    {
      "cell_type": "code",
      "source": [
        "fruits = ('apple', 'banana', 'cherry')\n",
        "is_kiwi_in_tuple = 'kiwi' in fruits\n",
        "print(is_kiwi_in_tuple)\n"
      ],
      "metadata": {
        "colab": {
          "base_uri": "https://localhost:8080/"
        },
        "id": "aDH8GL2rtnjc",
        "outputId": "f5b4e3d2-36ad-4892-c99e-d799fd9bcf8c"
      },
      "execution_count": null,
      "outputs": [
        {
          "output_type": "stream",
          "name": "stdout",
          "text": [
            "False\n"
          ]
        }
      ]
    },
    {
      "cell_type": "markdown",
      "source": [
        "##Q16 Write a code to create a set with the elements 'a, 'b', 'c' and print it?\n",
        "      >>"
      ],
      "metadata": {
        "id": "QzwOdzaktv1U"
      }
    },
    {
      "cell_type": "code",
      "source": [
        "my_set = {'a', 'b', 'c'}\n",
        "print(my_set)\n"
      ],
      "metadata": {
        "colab": {
          "base_uri": "https://localhost:8080/"
        },
        "id": "uwglRwSHt-L_",
        "outputId": "93338c69-3433-476e-e18a-df5dcc573773"
      },
      "execution_count": null,
      "outputs": [
        {
          "output_type": "stream",
          "name": "stdout",
          "text": [
            "{'a', 'c', 'b'}\n"
          ]
        }
      ]
    },
    {
      "cell_type": "markdown",
      "source": [
        "##Q17 Write a code to clear all elements from the set {12,3,4,5} ?\n",
        "      >>"
      ],
      "metadata": {
        "id": "8QvwMKOnuBZc"
      }
    },
    {
      "cell_type": "code",
      "source": [
        "my_set = {12, 3, 4, 5}\n",
        "my_set.clear()\n",
        "print(my_set)\n"
      ],
      "metadata": {
        "colab": {
          "base_uri": "https://localhost:8080/"
        },
        "id": "hhAguiAFuPy-",
        "outputId": "750c896d-a858-4c37-9bea-12758e89d4ed"
      },
      "execution_count": null,
      "outputs": [
        {
          "output_type": "stream",
          "name": "stdout",
          "text": [
            "set()\n"
          ]
        }
      ]
    },
    {
      "cell_type": "markdown",
      "source": [
        "##Q18 Write a code to remove the element 4 from the set {12,3,4} ?\n",
        "      >>\n"
      ],
      "metadata": {
        "id": "UVfpM200uSrl"
      }
    },
    {
      "cell_type": "code",
      "source": [
        "my_set = {12, 3, 4}\n",
        "my_set.remove(4)\n",
        "print(my_set)\n"
      ],
      "metadata": {
        "colab": {
          "base_uri": "https://localhost:8080/"
        },
        "id": "Ba0P9sCIuuzJ",
        "outputId": "51acb175-d668-4882-ada0-ef3e37e991b5"
      },
      "execution_count": null,
      "outputs": [
        {
          "output_type": "stream",
          "name": "stdout",
          "text": [
            "{3, 12}\n"
          ]
        }
      ]
    },
    {
      "cell_type": "markdown",
      "source": [
        "##Q19 Write a code to find the union of two sets {1, 2, 3} and {3,4,5} ?\n",
        "      >>"
      ],
      "metadata": {
        "id": "vLOENyx_uw_g"
      }
    },
    {
      "cell_type": "code",
      "source": [
        "set1 = {1, 2, 3}\n",
        "set2 = {3, 4, 5}\n",
        "union_set = set1 | set2  # 2nd option set1.union(set2)\n",
        "print(union_set)\n"
      ],
      "metadata": {
        "colab": {
          "base_uri": "https://localhost:8080/"
        },
        "id": "01jNXhqGu-G-",
        "outputId": "a8a32eb8-7d2b-42c1-d35e-60cccf98f404"
      },
      "execution_count": null,
      "outputs": [
        {
          "output_type": "stream",
          "name": "stdout",
          "text": [
            "{1, 2, 3, 4, 5}\n"
          ]
        }
      ]
    },
    {
      "cell_type": "markdown",
      "source": [
        "##Q20 Write a code to find the intersection of two sets {1, 2, 3} and {2, 3, 4}?\n",
        "      >>"
      ],
      "metadata": {
        "id": "5QI2NBduvMjo"
      }
    },
    {
      "cell_type": "code",
      "source": [
        "set1 = {1, 2, 3}\n",
        "set2 = {2, 3, 4}\n",
        "intersection_set = set1 & set2  # 2nd option set1.intersection(set2)\n",
        "print(intersection_set)\n"
      ],
      "metadata": {
        "colab": {
          "base_uri": "https://localhost:8080/"
        },
        "id": "V5C7sY2gvw6d",
        "outputId": "37cc20b8-b911-46d6-9be8-e5e30a3b3084"
      },
      "execution_count": null,
      "outputs": [
        {
          "output_type": "stream",
          "name": "stdout",
          "text": [
            "{2, 3}\n"
          ]
        }
      ]
    },
    {
      "cell_type": "markdown",
      "source": [
        "##Q21 Write a code to create a dictionary with the keys \"name\", \"age\", and \"city\", and print it?\n",
        "      >>"
      ],
      "metadata": {
        "id": "tCvXwFD1v8pN"
      }
    },
    {
      "cell_type": "code",
      "source": [
        "my_dict = {\n",
        "    \"name\" : \"John\",\n",
        "    \"age\"  : 30,\n",
        "    \"city\" : \"New York\"\n",
        "}\n",
        "print(my_dict)\n"
      ],
      "metadata": {
        "colab": {
          "base_uri": "https://localhost:8080/"
        },
        "id": "-WmlmswRwHHI",
        "outputId": "fd3fc20a-7a90-46dd-9c5b-c14dc646cfd3"
      },
      "execution_count": null,
      "outputs": [
        {
          "output_type": "stream",
          "name": "stdout",
          "text": [
            "{'name': 'John', 'age': 30, 'city': 'New York'}\n"
          ]
        }
      ]
    },
    {
      "cell_type": "markdown",
      "source": [
        "##Q22 Write a code to add a new key-value pair \"country\": \"USA\" to the dictionary {name: \"John', 'age: 25}?\n",
        "      >>\n",
        "\n",
        "\n",
        "\n",
        "\n"
      ],
      "metadata": {
        "id": "l2_NriBywPaA"
      }
    },
    {
      "cell_type": "code",
      "source": [
        "my_dict = {\n",
        "    \"name\" : \"John\",\n",
        "    \"age\"  : 25\n",
        "}\n",
        "\n",
        "my_dict[\"country\"] = \"USA\"\n",
        "print(my_dict)\n"
      ],
      "metadata": {
        "colab": {
          "base_uri": "https://localhost:8080/"
        },
        "id": "6VgJAaIjwguq",
        "outputId": "ae13337e-aa7b-4dee-bc88-46453a7ded86"
      },
      "execution_count": null,
      "outputs": [
        {
          "output_type": "stream",
          "name": "stdout",
          "text": [
            "{'name': 'John', 'age': 25, 'country': 'USA'}\n"
          ]
        }
      ]
    },
    {
      "cell_type": "markdown",
      "source": [
        "##Q23 Write a code to access the value associated with the key 'name' in the dictionary {name: \"Alice\", age: 30}?\n",
        "      >>\n"
      ],
      "metadata": {
        "id": "usF6GI2jwkqS"
      }
    },
    {
      "cell_type": "code",
      "source": [
        "my_dict = {\n",
        "    \"name\" : \"Alice\",\n",
        "    \"age\"  : 30\n",
        "}\n",
        "\n",
        "name_value = my_dict[\"name\"]\n",
        "print(name_value)\n"
      ],
      "metadata": {
        "colab": {
          "base_uri": "https://localhost:8080/"
        },
        "id": "qVTcJ9HxwxvT",
        "outputId": "ecd5e060-fa0b-4281-ccd9-686f5f5d65f0"
      },
      "execution_count": null,
      "outputs": [
        {
          "output_type": "stream",
          "name": "stdout",
          "text": [
            "Alice\n"
          ]
        }
      ]
    },
    {
      "cell_type": "markdown",
      "source": [
        "##Q24 Write a code to remove the key \"age\" from the dictionary {'name': 'Bob', 'age': 22, city. New York}?\n",
        "      >>\n"
      ],
      "metadata": {
        "id": "DfdDzYU_wzZj"
      }
    },
    {
      "cell_type": "code",
      "source": [
        "my_dict = {\n",
        "    \"name\" : \"Bob\",\n",
        "    \"age\"  : 22,\n",
        "    \"city\" : \"New York\"\n",
        "}\n",
        "\n",
        "del my_dict[\"age\"]\n",
        "print(my_dict)\n"
      ],
      "metadata": {
        "id": "w1kije6rxENf"
      },
      "execution_count": null,
      "outputs": []
    },
    {
      "cell_type": "markdown",
      "source": [
        "##Q25  Write a code to check if the key \"city\" exists in the dictionary {'name': 'Alice', 'city': 'Paris'} ?\n",
        "       >>"
      ],
      "metadata": {
        "id": "S0o0iHvsxHhf"
      }
    },
    {
      "cell_type": "code",
      "source": [
        "my_dict = {\n",
        "    \"name\": \"Alice\",\n",
        "    \"city\": \"Paris\"\n",
        "}\n",
        "\n",
        "if \"city\" in my_dict:\n",
        "    print(\"Key 'city' exists.\")\n",
        "else:\n",
        "    print(\"Key 'city' does not exist.\")\n"
      ],
      "metadata": {
        "colab": {
          "base_uri": "https://localhost:8080/"
        },
        "id": "hnxgri3Nxh9S",
        "outputId": "134393d6-deeb-47bc-d034-eb4607389b72"
      },
      "execution_count": null,
      "outputs": [
        {
          "output_type": "stream",
          "name": "stdout",
          "text": [
            "Key 'city' exists.\n"
          ]
        }
      ]
    },
    {
      "cell_type": "markdown",
      "source": [
        "##Q26 Write a code to create a list, a tuple, and a dictionary, and print them all ?\n",
        "      >>"
      ],
      "metadata": {
        "id": "2oXTuMH_xlC1"
      }
    },
    {
      "cell_type": "code",
      "source": [
        "\n",
        "my_list = [1, 2, 3, 4, 5]\n",
        "\n",
        "my_tuple = ('apple', 'banana', 'cherry')\n",
        "\n",
        "my_dict = {\n",
        "    \"name\": \"John\",\n",
        "    \"age\": 30,\n",
        "    \"city\": \"New York\"\n",
        "}\n",
        "\n",
        "print(\"List:\", my_list)\n",
        "print(\"Tuple:\", my_tuple)\n",
        "print(\"Dictionary:\", my_dict)\n"
      ],
      "metadata": {
        "colab": {
          "base_uri": "https://localhost:8080/"
        },
        "id": "pBxoGhP9x6VW",
        "outputId": "9cf18c96-8ed2-4c30-bde7-67a07f6b7960"
      },
      "execution_count": null,
      "outputs": [
        {
          "output_type": "stream",
          "name": "stdout",
          "text": [
            "List: [1, 2, 3, 4, 5]\n",
            "Tuple: ('apple', 'banana', 'cherry')\n",
            "Dictionary: {'name': 'John', 'age': 30, 'city': 'New York'}\n"
          ]
        }
      ]
    },
    {
      "cell_type": "markdown",
      "source": [
        "##Q27 Write a code to create a list of 5 random numbers between 1 and 100, sort it in ascending order, and print the result.(replaced) ?\n",
        "      >>\n"
      ],
      "metadata": {
        "id": "9SJlw-PIx-sF"
      }
    },
    {
      "cell_type": "code",
      "source": [
        "import random\n",
        "\n",
        "random_numbers = [random.randint(1, 100) for _ in range(5)]\n",
        "\n",
        "random_numbers.sort()\n",
        "\n",
        "print(\"Sorted list of random numbers:\", random_numbers)\n"
      ],
      "metadata": {
        "colab": {
          "base_uri": "https://localhost:8080/"
        },
        "id": "J94lPnPIyP-_",
        "outputId": "f7a742ec-790c-474c-e28a-b1e94fe82f94"
      },
      "execution_count": null,
      "outputs": [
        {
          "output_type": "stream",
          "name": "stdout",
          "text": [
            "Sorted list of random numbers: [62, 72, 75, 95, 98]\n"
          ]
        }
      ]
    },
    {
      "cell_type": "markdown",
      "source": [
        "##Q28 Write a code to create a list with strings and print the element at the third index ?\n",
        "      >>"
      ],
      "metadata": {
        "id": "nwHgHGW8yc_x"
      }
    },
    {
      "cell_type": "code",
      "source": [
        "\n",
        "my_list = [\"apple\", \"banana\", \"cherry\", \"date\", \"elderberry\"]\n",
        "\n",
        "print(my_list[3])\n"
      ],
      "metadata": {
        "colab": {
          "base_uri": "https://localhost:8080/"
        },
        "id": "S7AZUTXEyi9t",
        "outputId": "1b37b865-eae0-454d-c4b0-dbaa389d89eb"
      },
      "execution_count": null,
      "outputs": [
        {
          "output_type": "stream",
          "name": "stdout",
          "text": [
            "date\n"
          ]
        }
      ]
    },
    {
      "cell_type": "markdown",
      "source": [
        "##Q29 Write a code to combine two dictionaries into one and print the result ?\n",
        "      >>"
      ],
      "metadata": {
        "id": "0HcQtoEKysYU"
      }
    },
    {
      "cell_type": "code",
      "source": [
        "\n",
        "dict1 = {\"name\": \"Alice\", \"age\": 25}\n",
        "dict2 = {\"city\": \"Paris\", \"country\": \"France\"}\n",
        "\n",
        "combined_dict = {**dict1, **dict2}\n",
        "\n",
        "print(combined_dict)\n"
      ],
      "metadata": {
        "colab": {
          "base_uri": "https://localhost:8080/"
        },
        "id": "wCbXDQGWy_-u",
        "outputId": "7bde3cd0-4321-4dc0-811f-13dcf6cb14be"
      },
      "execution_count": null,
      "outputs": [
        {
          "output_type": "stream",
          "name": "stdout",
          "text": [
            "{'name': 'Alice', 'age': 25, 'city': 'Paris', 'country': 'France'}\n"
          ]
        }
      ]
    },
    {
      "cell_type": "markdown",
      "source": [
        "##Q30 Write a code to convert a list of strings into a set?\n",
        "      >>"
      ],
      "metadata": {
        "id": "Wnqm1lxDzGOR"
      }
    },
    {
      "cell_type": "code",
      "source": [
        "\n",
        "my_list = [\"apple\", \"banana\", \"cherry\", \"apple\", \"date\"]\n",
        "\n",
        "my_set = set(my_list)\n",
        "\n",
        "print(my_set)\n"
      ],
      "metadata": {
        "colab": {
          "base_uri": "https://localhost:8080/"
        },
        "id": "nTxKSzSmzQYI",
        "outputId": "9da46b1d-d46d-4bf5-cf35-bce024e363af"
      },
      "execution_count": null,
      "outputs": [
        {
          "output_type": "stream",
          "name": "stdout",
          "text": [
            "{'apple', 'date', 'banana', 'cherry'}\n"
          ]
        }
      ]
    }
  ]
}