{
  "nbformat": 4,
  "nbformat_minor": 0,
  "metadata": {
    "colab": {
      "provenance": []
    },
    "kernelspec": {
      "name": "python3",
      "display_name": "Python 3"
    },
    "language_info": {
      "name": "python"
    }
  },
  "cells": [
    {
      "cell_type": "markdown",
      "source": [
        " # **Data_Toolkit_Assignment_06** ⭐"
      ],
      "metadata": {
        "id": "NmCSs3TVU0VG"
      }
    },
    {
      "cell_type": "markdown",
      "source": [
        "###Q1. What is NumPy, and why is it widely used in Python?\n",
        "\n",
        ">NumPy (short for Numerical Python) is a fundamental Python library for scientific computing, providing support for large, multi-dimensional arrays and matrices, along with mathematical functions to operate on these arrays efficiently. It's used for tasks like data analysis, machine learning, and scientific simulations."
      ],
      "metadata": {
        "id": "7PZ3GOdIVNsZ"
      }
    },
    {
      "cell_type": "markdown",
      "source": [
        "### Q2.  How does broadcasting work in NumPy?\n",
        "\n",
        ">The term broadcasting describes how NumPy treats arrays with different shapes during arithmetic operations. Subject to certain constraints, the smaller array is “broadcast” across the larger array so that they have compatible shapes."
      ],
      "metadata": {
        "id": "n88x3GYsVvNZ"
      }
    },
    {
      "cell_type": "markdown",
      "source": [
        "###Q3. What is a Pandas DataFrame?\n",
        "\n",
        ">A dataframe is a data structure constructed with rows and columns, similar to a database or Excel spreadsheet. It consists of a dictionary of lists in which the list each have their own identifiers or keys, such as “last name” or “food group.”"
      ],
      "metadata": {
        "id": "zJqtDiw5WMpk"
      }
    },
    {
      "cell_type": "markdown",
      "source": [
        "### Q4. Explain the use of the groupby() method in Pandas?\n",
        "\n",
        ">Pandas groupby() function is a powerful tool used to split a DataFrame into groups based on one or more columns, allowing for efficient data analysis and aggregation. It follows a “split-apply-combine” strategy, where data is divided into groups, a function is applied to each group, and the results are combined into a new DataFrame. For example, if you have a dataset of sales transactions, you can use groupby() to group the data by product category and calculate the total sales for each category."
      ],
      "metadata": {
        "id": "57dmOZpgWeV2"
      }
    },
    {
      "cell_type": "markdown",
      "source": [
        "###Q5.  Why is Seaborn preferred for statistical visualizations ?\n",
        "\n",
        ">Seaborn is preferred for statistical visualizations because it offers a high-level interface for creating attractive and informative statistical graphics. Here are some key reasons why Seaborn stands out:\n",
        "\n",
        "1. Built-in Statistical Functions,\n",
        "2. Aesthetic and Readable Visuals,\n",
        "3. Automatic Handling of DataFrames,\n",
        "4. Wide Range of Statistical Plots,\n",
        "5. Built-in Themes and Color Palettes,\n",
        "6. Faceting and Multi-Plot Grids,\n",
        "7. Seamless Integration with Matplotlib."
      ],
      "metadata": {
        "id": "iIwfDJM-W4aE"
      }
    },
    {
      "cell_type": "markdown",
      "source": [
        "###Q6. What are the differences between NumPy arrays and Python lists?\n",
        "\n",
        ">The biggest difference is NumPy arrays use fewer resources than Python lists, which becomes important when storing a large amount of data. If you're working with thousands of elements, Python lists will be fine for most purposes."
      ],
      "metadata": {
        "id": "Kp8VxBn6YIZv"
      }
    },
    {
      "cell_type": "markdown",
      "source": [
        "###Q7. What is a heatmap, and when should it be used?\n",
        "\n",
        ">Heat Maps are graphical representations of data that utilize color-coded systems. The primary purpose of Heat Maps is to better visualize the volume of locations/events within a dataset and assist in directing viewers towards areas on data visualizations that matter most.\n",
        "\n",
        ">A heat map chart is ideal when you need to analyze and compare complex data sets across multiple variables. It’s particularly useful in the following scenarios:\n",
        "\n",
        "\n",
        "\n",
        "1. Identifying Patterns or Trends  \n",
        "2. Comparing Data Across Categories\n",
        "3. Highlighting Highs and Lows\n",
        "4. Visualizing Large Datasets\n"
      ],
      "metadata": {
        "id": "bCn64VGGYctQ"
      }
    },
    {
      "cell_type": "markdown",
      "source": [
        "### Q8. What does the term “vectorized operation” mean in NumPy?\n",
        "\n",
        ">In NumPy, a vectorized operation refers to performing element-wise operations on entire arrays without the need for explicit loops. This approach leverages highly optimized C and Fortran implementations under the hood, making operations significantly faster compared to traditional Python loops.\n",
        "*  \n",
        ">Arithmetic: +, -, *, /\n",
        "*   \n",
        ">Logical: &, |, ~\n",
        "*   \n",
        ">Comparison: <, >, ==\n",
        "*\n",
        ">Universal Functions (ufuncs): np.exp(a), np.sin(a), np.log(a)\n",
        "\n",
        "\n",
        "\n"
      ],
      "metadata": {
        "id": "XN_CZJv6Zrsj"
      }
    },
    {
      "cell_type": "markdown",
      "source": [
        "###Q9.  How does Matplotlib differ from Plotly?\n",
        "\n",
        ">Use Matplotlib for static plots and reports.\n",
        " Use Plotly for interactive dashboards and web applications.\n",
        "\n",
        " >Interactivity: Matplotlib is mostly static, while Plotly is fully interactive.\n",
        "\n",
        " >Ease of Use: Matplotlib requires more customization; Plotly is more intuitive for interactive plots.\n",
        "\n",
        "\n",
        ">Customization: Matplotlib allows deep customization but needs more code; Plotly provides easy, interactive visualizations.\n",
        "\n",
        ">3D & Complex Plots: Matplotlib has limited 3D support; Plotly excels in 3D and interactive visuals.\n",
        "\n",
        "\n",
        ">Output: Matplotlib is best for static reports (PDF, PNG); Plotly is ideal for web-based, interactive dashboards."
      ],
      "metadata": {
        "id": "jLblp2H2ataN"
      }
    },
    {
      "cell_type": "markdown",
      "source": [
        "###Q10. What is the significance of hierarchical indexing in Pandas?\n",
        "\n",
        ">Significance of Hierarchical Indexing in Pandas\n",
        "Hierarchical indexing (MultiIndex) in Pandas allows multiple levels of indexing within a DataFrame or Series. This is useful for handling multi-dimensional data efficiently while maintaining a tabular structure.\n",
        "\n",
        "Handling Multi-Dimensional Data in a Single Structure\n",
        "\n",
        ">Enables storing complex data (e.g., time-series, grouped data) in a tabular format.\n",
        ">Example: Storing sales data for multiple regions and years.\n",
        ">Enhanced Data Organization & Grouping\n",
        "\n",
        ">Facilitates grouping and aggregation operations."
      ],
      "metadata": {
        "id": "14fT1EFDb1a1"
      }
    },
    {
      "cell_type": "markdown",
      "source": [
        "### Q11. What is the role of Seaborn’s pairplot() function?\n",
        "\n",
        ">Significance of Hierarchical Indexing in Pandas\n",
        "Hierarchical indexing (MultiIndex) in Pandas allows multiple levels of indexing within a DataFrame or Series. This is useful for handling multi-dimensional data efficiently while maintaining a tabular structure.\n",
        "\n",
        "1. Handling Multi-Dimensional Data in a Single Structure\n",
        "2. Enhanced Data Organization & Grouping\n",
        "3. Efficient Data Selection & Slicing\n",
        "4. Hierarchical indexing is essential for working with structured multi-dimensional data, enabling better organization, selection, and performance in Pandas."
      ],
      "metadata": {
        "id": "zfLcacmSmziG"
      }
    },
    {
      "cell_type": "markdown",
      "source": [
        "### Q12. What is the purpose of the describe() function in Pandas?\n",
        "\n",
        ">DESCRIBE FUNCTION statement returns the basic metadata information of an existing function. The metadata information includes the function name, implementing class and the usage details. If the optional EXTENDED option is specified, the basic metadata information is returned along with the extended usage information."
      ],
      "metadata": {
        "id": "W--aP_2Nn0xo"
      }
    },
    {
      "cell_type": "markdown",
      "source": [
        "### Q13. Why is handling missing data important in Pandas?\n",
        "\n",
        ">Handling missing data in Pandas is crucial for several reasons:\n",
        "Maintaining data integrity:\n",
        "Missing values can skew analysis results and lead to incorrect conclusions. Addressing them ensures the dataset's reliability.\n",
        "\n",
        ">Avoiding errors:\n",
        "Many analytical and machine learning algorithms cannot handle missing data directly. Handling missing values prevents errors and allows for successful model execution.\n",
        "\n",
        ">Preserving statistical power:\n",
        "Missing data reduces the sample size, which decreases the statistical power of analyses. Handling missing data can help to maintain adequate statistical power.\n",
        "\n",
        ">Improving data quality:\n",
        "Addressing missing values is a key step in data cleaning and preprocessing, which ultimately improves the overall quality of the data.\n",
        "\n",
        ">Ensuring representativeness:\n",
        "Missing data can lead to biased samples, affecting the generalizability of the results. Handling missing data helps maintain the representativeness of the data.\n",
        "\n",
        ">>Pandas provides several methods for handling missing data, including:\n",
        ">Identifying missing data: Using isnull() and notnull() to detect missing values (NaN).\n",
        "Removing missing data: Using dropna() to remove rows or columns with missing values.\n",
        ">Filling missing data: Using fillna() to replace missing values with a specific value (e.g., mean, median, or a constant) or using interpolation methods."
      ],
      "metadata": {
        "id": "TKNDtPf4oPYD"
      }
    },
    {
      "cell_type": "markdown",
      "source": [
        "### Q14. What are the benefits of using Plotly for data visualization?\n",
        "\n",
        ">It allows you to create interactive and customizable charts easily. Plotly supports various chart types and integrates seamlessly with Python, R, and JavaScript. Its interactive features, like zoom and hover, enhance data exploration, and you can share your visualizations online, making it great for collaboration."
      ],
      "metadata": {
        "id": "_3nz-r_gpsb3"
      }
    },
    {
      "cell_type": "markdown",
      "source": [
        "### Q15.  How does NumPy handle multidimensional arrays?\n",
        "\n",
        ">NumPy provides the ndarray (N-dimensional array) to efficiently store and manipulate multidimensional data. It supports fast numerical computations and various operations on arrays of any shape.\n",
        "\n",
        ">Creating Multidimensional Arrays\n",
        "\n",
        ">Efficient Memory Storage\n",
        "\n",
        ">Reshaping and Broadcasting\n",
        "\n",
        ">Indexing & Slicing\n"
      ],
      "metadata": {
        "id": "MNZ1uMEGp7WX"
      }
    },
    {
      "cell_type": "markdown",
      "source": [
        "###Q16.  What is the role of Bokeh in data visualization?\n",
        "\n",
        ">Data visualization is the graphical representation of information and data. By using visual elements like charts, graphs, and maps, data visualization tools provide an accessible way to see and understand trends, outliers, and patterns in data."
      ],
      "metadata": {
        "id": "8fQnH0Aiqhpv"
      }
    },
    {
      "cell_type": "markdown",
      "source": [
        "###Q17.  Explain the difference between apply() and map() in Pandas?\n",
        "\n",
        ">While map is great for simple element-wise transformations in Series, apply offers more flexibility for both Series and DataFrame objects. On the other hand, applymap excels at DataFrame-wide element-wise operations."
      ],
      "metadata": {
        "id": "oNMy7Rf2qu8H"
      }
    },
    {
      "cell_type": "markdown",
      "source": [
        "###Q18. What are some advanced features of NumPy?\n",
        "\n",
        ">NumPy in Python offers significant advantages for numerical computing, including faster performance, efficient memory usage, and powerful array manipulation capabilities, making it a cornerstone for scientific computing and data analysis."
      ],
      "metadata": {
        "id": "yCLmtM3Tq5FI"
      }
    },
    {
      "cell_type": "markdown",
      "source": [
        "###Q19. How does Pandas simplify time series analysis?\n",
        "\n",
        ">Pandas provides powerful tools for handling, analyzing, and visualizing time series data, making it easier to work with timestamps, date ranges, and time-based indexing.\n",
        "\n",
        "1. Datetime Indexing & Conversion\n",
        "2. Resampling & Aggregation\n",
        "3. Shifting & Rolling Windows\n",
        "4. Handling Missing Dates & Values\n",
        "5. Date-based Slicing & Filtering\n",
        "6. Time Zone Handling\n",
        "7. Integration with Matplotlib for Visualization\n",
        "\n",
        ">Pandas simplifies time series analysis by offering efficient datetime handling, resampling, rolling windows, and time-based indexing, making it ideal for financial data, stock analysis, and trend forecasting."
      ],
      "metadata": {
        "id": "6e4Q3HfprFsC"
      }
    },
    {
      "cell_type": "markdown",
      "source": [
        "###Q20.  What is the role of a pivot table in Pandas?\n",
        "\n",
        "\n",
        ">A pivot table's purpose is to summarize, reorganize, and analyze data in a spreadsheet or database by allowing users to easily pivot (or rearrange) data to view it from different perspectives, and to quickly extract insights from large datasets."
      ],
      "metadata": {
        "id": "Dc0P3zlxsSWu"
      }
    },
    {
      "cell_type": "markdown",
      "source": [
        "###21. Why is NumPy’s array slicing faster than Python’s list slicing?\n",
        "\n",
        ">Memory Efficiency: NumPy arrays are more memory efficient than Python lists, particularly for large datasets, because they store data in contiguous memory blocks. Broadcasting: NumPy arrays support broadcasting, enabling operations between arrays of different shapes and sizes without explicit iteration."
      ],
      "metadata": {
        "id": "oh6YjqTisnZI"
      }
    },
    {
      "cell_type": "markdown",
      "source": [
        "###Q22. What are some common use cases for Seaborn?\n",
        "\n",
        ">Seaborn is a Python data visualization library based on matplotlib. It provides a high-level interface for drawing attractive and informative statistical graphics. For a brief introduction to the ideas behind the library, you can read the introductory notes or the paper."
      ],
      "metadata": {
        "id": "vXafspt4s0C6"
      }
    },
    {
      "cell_type": "markdown",
      "source": [
        " # **Practical Questions** ⭐"
      ],
      "metadata": {
        "id": "YDYh9NJUtDA8"
      }
    },
    {
      "cell_type": "markdown",
      "source": [
        "###Q1. How do you create a 2D NumPy array and calculate the sum of each row?\n",
        "\n"
      ],
      "metadata": {
        "id": "l9v4dfaZtQMU"
      }
    },
    {
      "cell_type": "code",
      "source": [
        "import numpy as np\n",
        "\n",
        "# Creating a 2D NumPy array (matrix)\n",
        "arr = np.array([[1, 2, 3],\n",
        "                [4, 5, 6],\n",
        "                [7, 8, 9]])\n",
        "\n",
        "# Calculating the sum of each row\n",
        "row_sums = arr.sum(axis=1)\n",
        "\n",
        "print(\"2D Array:\\n\", arr)\n",
        "print(\"Sum of each row:\", row_sums)\n"
      ],
      "metadata": {
        "colab": {
          "base_uri": "https://localhost:8080/"
        },
        "id": "lHMoPIOTte_n",
        "outputId": "bf81da36-ce33-4801-b522-e83be7b92cf4"
      },
      "execution_count": null,
      "outputs": [
        {
          "output_type": "stream",
          "name": "stdout",
          "text": [
            "2D Array:\n",
            " [[1 2 3]\n",
            " [4 5 6]\n",
            " [7 8 9]]\n",
            "Sum of each row: [ 6 15 24]\n"
          ]
        }
      ]
    },
    {
      "cell_type": "markdown",
      "source": [
        "###Q2. Write a Pandas script to find the mean of a specific column in a DataFrame?\n"
      ],
      "metadata": {
        "id": "ZaIfFIJ6ytKw"
      }
    },
    {
      "cell_type": "code",
      "source": [
        "import pandas as pd\n",
        "\n",
        "# Creating a sample DataFrame\n",
        "data = {\n",
        "    \"Name\": [\"Alice\", \"Bob\", \"Charlie\", \"David\"],\n",
        "    \"Age\": [25, 30, 35, 40],\n",
        "    \"Salary\": [50000, 60000, 70000, 80000]\n",
        "}\n",
        "\n",
        "df = pd.DataFrame(data)\n",
        "\n",
        "# Calculating the mean of the 'Salary' column\n",
        "mean_salary = df[\"Salary\"].mean()\n",
        "\n",
        "print(\"Mean Salary:\", mean_salary)\n"
      ],
      "metadata": {
        "colab": {
          "base_uri": "https://localhost:8080/"
        },
        "id": "qYNF9xYLzB-_",
        "outputId": "20ceda49-2d47-4fd5-ba26-750923feac31"
      },
      "execution_count": null,
      "outputs": [
        {
          "output_type": "stream",
          "name": "stdout",
          "text": [
            "Mean Salary: 65000.0\n"
          ]
        }
      ]
    },
    {
      "cell_type": "markdown",
      "source": [
        "###Q3. Create a scatter plot using Matplotlib?\n",
        "\n"
      ],
      "metadata": {
        "id": "jsNL5-pLzDzZ"
      }
    },
    {
      "cell_type": "code",
      "source": [
        "import matplotlib.pyplot as plt\n",
        "import numpy as np\n",
        "\n",
        "# Generating sample data\n",
        "x = np.random.rand(50) * 10  # 50 random values for X (0 to 10)\n",
        "y = np.random.rand(50) * 100  # 50 random values for Y (0 to 100)\n",
        "\n",
        "# Creating the scatter plot\n",
        "plt.figure(figsize=(8, 5))  # Set figure size\n",
        "plt.scatter(x, y, color='blue', marker='o', alpha=0.7)\n",
        "\n",
        "# Adding labels and title\n",
        "plt.xlabel(\"X-axis (Independent Variable)\")\n",
        "plt.ylabel(\"Y-axis (Dependent Variable)\")\n",
        "plt.title(\"Scatter Plot Example\")\n",
        "\n",
        "# Displaying the plot\n",
        "plt.show()\n"
      ],
      "metadata": {
        "colab": {
          "base_uri": "https://localhost:8080/",
          "height": 487
        },
        "id": "ETDCkJMlzRYj",
        "outputId": "25d42adb-1aa4-4c9e-8f10-20135596d783"
      },
      "execution_count": null,
      "outputs": [
        {
          "output_type": "display_data",
          "data": {
            "text/plain": [
              "<Figure size 800x500 with 1 Axes>"
            ],
            "image/png": "[encoded data removed]"
          },
          "metadata": {}
        }
      ]
    },
    {
      "cell_type": "markdown",
      "source": [
        "###Q4. How do you calculate the correlation matrix using Seaborn and visualize it with a heatmap?\n",
        "\n"
      ],
      "metadata": {
        "id": "EuRh6MdtzUnr"
      }
    },
    {
      "cell_type": "code",
      "source": [
        "import pandas as pd\n",
        "import seaborn as sns\n",
        "import matplotlib.pyplot as plt\n",
        "\n",
        "# Creating a sample DataFrame\n",
        "data = {\n",
        "    \"A\": [10, 20, 30, 40, 50],\n",
        "    \"B\": [5, 15, 25, 35, 45],\n",
        "    \"C\": [2, 8, 18, 32, 50],\n",
        "    \"D\": [1, 3, 5, 7, 9]\n",
        "}\n",
        "\n",
        "df = pd.DataFrame(data)\n",
        "\n",
        "# Calculating the correlation matrix\n",
        "corr_matrix = df.corr()\n",
        "\n",
        "# Creating a heatmap using Seaborn\n",
        "plt.figure(figsize=(6, 4))  # Set figure size\n",
        "sns.heatmap(corr_matrix, annot=True, cmap=\"coolwarm\", fmt=\".2f\", linewidths=0.5)\n",
        "\n",
        "# Adding a title\n",
        "plt.title(\"Correlation Matrix Heatmap\")\n",
        "\n",
        "# Display the heatmap\n",
        "plt.show()\n"
      ],
      "metadata": {
        "colab": {
          "base_uri": "https://localhost:8080/",
          "height": 391
        },
        "id": "4E_f277ozad8",
        "outputId": "e3fbe28e-179a-4004-dfdd-30be81ed4440"
      },
      "execution_count": null,
      "outputs": [
        {
          "output_type": "display_data",
          "data": {
            "text/plain": [
              "<Figure size 600x400 with 2 Axes>"
            ],
            "image/png": "[encoded data removed]"
          },
          "metadata": {}
        }
      ]
    },
    {
      "cell_type": "markdown",
      "source": [
        "###Q5.Generate a bar plot using Plotly?"
      ],
      "metadata": {
        "id": "QeeJYf0vzkPv"
      }
    },
    {
      "cell_type": "code",
      "source": [
        "import plotly.express as px\n",
        "import pandas as pd\n",
        "\n",
        "# Sample data\n",
        "data = {\n",
        "    \"Category\": [\"A\", \"B\", \"C\", \"D\", \"E\"],\n",
        "    \"Values\": [10, 20, 15, 25, 30]\n",
        "}\n",
        "\n",
        "df = pd.DataFrame(data)\n",
        "\n",
        "# Creating the bar plot\n",
        "fig = px.bar(df, x=\"Category\", y=\"Values\", title=\"Bar Plot Example\", color=\"Category\")\n",
        "\n",
        "# Display the plot\n",
        "fig.show()\n"
      ],
      "metadata": {
        "colab": {
          "base_uri": "https://localhost:8080/",
          "height": 542
        },
        "id": "qsDiEa4xzrue",
        "outputId": "f83256c5-1489-4c5f-fa23-ccac7274a3bf"
      },
      "execution_count": null,
      "outputs": [
        {
          "output_type": "display_data",
          "data": {
            "text/html": [
              "<html>\n",
              "<head><meta charset=\"utf-8\" /></head>\n",
              "<body>\n",
              "    <div>            <script src=\"https://cdnjs.cloudflare.com/ajax/libs/mathjax/2.7.5/MathJax.js?config=TeX-AMS-MML_SVG\"></script><script type=\"text/javascript\">if (window.MathJax && window.MathJax.Hub && window.MathJax.Hub.Config) {window.MathJax.Hub.Config({SVG: {font: \"STIX-Web\"}});}</script>                <script type=\"text/javascript\">window.PlotlyConfig = {MathJaxConfig: 'local'};</script>\n",
              "        <script charset=\"utf-8\" src=\"https://cdn.plot.ly/plotly-2.35.2.min.js\"></script>                <div id=\"8bbaf45f-181b-449e-93d3-46c76a0f26c0\" class=\"plotly-graph-div\" style=\"height:525px; width:100%;\"></div>            <script type=\"text/javascript\">                                    window.PLOTLYENV=window.PLOTLYENV || {};                                    if (document.getElementById(\"8bbaf45f-181b-449e-93d3-46c76a0f26c0\")) {                    Plotly.newPlot(                        \"8bbaf45f-181b-449e-93d3-46c76a0f26c0\",                        [{\"alignmentgroup\":\"True\",\"hovertemplate\":\"Category=%{x}\\u003cbr\\u003eValues=%{y}\\u003cextra\\u003e\\u003c\\u002fextra\\u003e\",\"legendgroup\":\"A\",\"marker\":{\"color\":\"#636efa\",\"pattern\":{\"shape\":\"\"}},\"name\":\"A\",\"offsetgroup\":\"A\",\"orientation\":\"v\",\"showlegend\":true,\"textposition\":\"auto\",\"x\":[\"A\"],\"xaxis\":\"x\",\"y\":[10],\"yaxis\":\"y\",\"type\":\"bar\"},{\"alignmentgroup\":\"True\",\"hovertemplate\":\"Category=%{x}\\u003cbr\\u003eValues=%{y}\\u003cextra\\u003e\\u003c\\u002fextra\\u003e\",\"legendgroup\":\"B\",\"marker\":{\"color\":\"#EF553B\",\"pattern\":{\"shape\":\"\"}},\"name\":\"B\",\"offsetgroup\":\"B\",\"orientation\":\"v\",\"showlegend\":true,\"textposition\":\"auto\",\"x\":[\"B\"],\"xaxis\":\"x\",\"y\":[20],\"yaxis\":\"y\",\"type\":\"bar\"},{\"alignmentgroup\":\"True\",\"hovertemplate\":\"Category=%{x}\\u003cbr\\u003eValues=%{y}\\u003cextra\\u003e\\u003c\\u002fextra\\u003e\",\"legendgroup\":\"C\",\"marker\":{\"color\":\"#00cc96\",\"pattern\":{\"shape\":\"\"}},\"name\":\"C\",\"offsetgroup\":\"C\",\"orientation\":\"v\",\"showlegend\":true,\"textposition\":\"auto\",\"x\":[\"C\"],\"xaxis\":\"x\",\"y\":[15],\"yaxis\":\"y\",\"type\":\"bar\"},{\"alignmentgroup\":\"True\",\"hovertemplate\":\"Category=%{x}\\u003cbr\\u003eValues=%{y}\\u003cextra\\u003e\\u003c\\u002fextra\\u003e\",\"legendgroup\":\"D\",\"marker\":{\"color\":\"#ab63fa\",\"pattern\":{\"shape\":\"\"}},\"name\":\"D\",\"offsetgroup\":\"D\",\"orientation\":\"v\",\"showlegend\":true,\"textposition\":\"auto\",\"x\":[\"D\"],\"xaxis\":\"x\",\"y\":[25],\"yaxis\":\"y\",\"type\":\"bar\"},{\"alignmentgroup\":\"True\",\"hovertemplate\":\"Category=%{x}\\u003cbr\\u003eValues=%{y}\\u003cextra\\u003e\\u003c\\u002fextra\\u003e\",\"legendgroup\":\"E\",\"marker\":{\"color\":\"#FFA15A\",\"pattern\":{\"shape\":\"\"}},\"name\":\"E\",\"offsetgroup\":\"E\",\"orientation\":\"v\",\"showlegend\":true,\"textposition\":\"auto\",\"x\":[\"E\"],\"xaxis\":\"x\",\"y\":[30],\"yaxis\":\"y\",\"type\":\"bar\"}],                        {\"template\":{\"data\":{\"histogram2dcontour\":[{\"type\":\"histogram2dcontour\",\"colorbar\":{\"outlinewidth\":0,\"ticks\":\"\"},\"colorscale\":[[0.0,\"#0d0887\"],[0.1111111111111111,\"#46039f\"],[0.2222222222222222,\"#7201a8\"],[0.3333333333333333,\"#9c179e\"],[0.4444444444444444,\"#bd3786\"],[0.5555555555555556,\"#d8576b\"],[0.6666666666666666,\"#ed7953\"],[0.7777777777777778,\"#fb9f3a\"],[0.8888888888888888,\"#fdca26\"],[1.0,\"#f0f921\"]]}],\"choropleth\":[{\"type\":\"choropleth\",\"colorbar\":{\"outlinewidth\":0,\"ticks\":\"\"}}],\"histogram2d\":[{\"type\":\"histogram2d\",\"colorbar\":{\"outlinewidth\":0,\"ticks\":\"\"},\"colorscale\":[[0.0,\"#0d0887\"],[0.1111111111111111,\"#46039f\"],[0.2222222222222222,\"#7201a8\"],[0.3333333333333333,\"#9c179e\"],[0.4444444444444444,\"#bd3786\"],[0.5555555555555556,\"#d8576b\"],[0.6666666666666666,\"#ed7953\"],[0.7777777777777778,\"#fb9f3a\"],[0.8888888888888888,\"#fdca26\"],[1.0,\"#f0f921\"]]}],\"heatmap\":[{\"type\":\"heatmap\",\"colorbar\":{\"outlinewidth\":0,\"ticks\":\"\"},\"colorscale\":[[0.0,\"#0d0887\"],[0.1111111111111111,\"#46039f\"],[0.2222222222222222,\"#7201a8\"],[0.3333333333333333,\"#9c179e\"],[0.4444444444444444,\"#bd3786\"],[0.5555555555555556,\"#d8576b\"],[0.6666666666666666,\"#ed7953\"],[0.7777777777777778,\"#fb9f3a\"],[0.8888888888888888,\"#fdca26\"],[1.0,\"#f0f921\"]]}],\"heatmapgl\":[{\"type\":\"heatmapgl\",\"colorbar\":{\"outlinewidth\":0,\"ticks\":\"\"},\"colorscale\":[[0.0,\"#0d0887\"],[0.1111111111111111,\"#46039f\"],[0.2222222222222222,\"#7201a8\"],[0.3333333333333333,\"#9c179e\"],[0.4444444444444444,\"#bd3786\"],[0.5555555555555556,\"#d8576b\"],[0.6666666666666666,\"#ed7953\"],[0.7777777777777778,\"#fb9f3a\"],[0.8888888888888888,\"#fdca26\"],[1.0,\"#f0f921\"]]}],\"contourcarpet\":[{\"type\":\"contourcarpet\",\"colorbar\":{\"outlinewidth\":0,\"ticks\":\"\"}}],\"contour\":[{\"type\":\"contour\",\"colorbar\":{\"outlinewidth\":0,\"ticks\":\"\"},\"colorscale\":[[0.0,\"#0d0887\"],[0.1111111111111111,\"#46039f\"],[0.2222222222222222,\"#7201a8\"],[0.3333333333333333,\"#9c179e\"],[0.4444444444444444,\"#bd3786\"],[0.5555555555555556,\"#d8576b\"],[0.6666666666666666,\"#ed7953\"],[0.7777777777777778,\"#fb9f3a\"],[0.8888888888888888,\"#fdca26\"],[1.0,\"#f0f921\"]]}],\"surface\":[{\"type\":\"surface\",\"colorbar\":{\"outlinewidth\":0,\"ticks\":\"\"},\"colorscale\":[[0.0,\"#0d0887\"],[0.1111111111111111,\"#46039f\"],[0.2222222222222222,\"#7201a8\"],[0.3333333333333333,\"#9c179e\"],[0.4444444444444444,\"#bd3786\"],[0.5555555555555556,\"#d8576b\"],[0.6666666666666666,\"#ed7953\"],[0.7777777777777778,\"#fb9f3a\"],[0.8888888888888888,\"#fdca26\"],[1.0,\"#f0f921\"]]}],\"mesh3d\":[{\"type\":\"mesh3d\",\"colorbar\":{\"outlinewidth\":0,\"ticks\":\"\"}}],\"scatter\":[{\"fillpattern\":{\"fillmode\":\"overlay\",\"size\":10,\"solidity\":0.2},\"type\":\"scatter\"}],\"parcoords\":[{\"type\":\"parcoords\",\"line\":{\"colorbar\":{\"outlinewidth\":0,\"ticks\":\"\"}}}],\"scatterpolargl\":[{\"type\":\"scatterpolargl\",\"marker\":{\"colorbar\":{\"outlinewidth\":0,\"ticks\":\"\"}}}],\"bar\":[{\"error_x\":{\"color\":\"#2a3f5f\"},\"error_y\":{\"color\":\"#2a3f5f\"},\"marker\":{\"line\":{\"color\":\"#E5ECF6\",\"width\":0.5},\"pattern\":{\"fillmode\":\"overlay\",\"size\":10,\"solidity\":0.2}},\"type\":\"bar\"}],\"scattergeo\":[{\"type\":\"scattergeo\",\"marker\":{\"colorbar\":{\"outlinewidth\":0,\"ticks\":\"\"}}}],\"scatterpolar\":[{\"type\":\"scatterpolar\",\"marker\":{\"colorbar\":{\"outlinewidth\":0,\"ticks\":\"\"}}}],\"histogram\":[{\"marker\":{\"pattern\":{\"fillmode\":\"overlay\",\"size\":10,\"solidity\":0.2}},\"type\":\"histogram\"}],\"scattergl\":[{\"type\":\"scattergl\",\"marker\":{\"colorbar\":{\"outlinewidth\":0,\"ticks\":\"\"}}}],\"scatter3d\":[{\"type\":\"scatter3d\",\"line\":{\"colorbar\":{\"outlinewidth\":0,\"ticks\":\"\"}},\"marker\":{\"colorbar\":{\"outlinewidth\":0,\"ticks\":\"\"}}}],\"scattermapbox\":[{\"type\":\"scattermapbox\",\"marker\":{\"colorbar\":{\"outlinewidth\":0,\"ticks\":\"\"}}}],\"scatterternary\":[{\"type\":\"scatterternary\",\"marker\":{\"colorbar\":{\"outlinewidth\":0,\"ticks\":\"\"}}}],\"scattercarpet\":[{\"type\":\"scattercarpet\",\"marker\":{\"colorbar\":{\"outlinewidth\":0,\"ticks\":\"\"}}}],\"carpet\":[{\"aaxis\":{\"endlinecolor\":\"#2a3f5f\",\"gridcolor\":\"white\",\"linecolor\":\"white\",\"minorgridcolor\":\"white\",\"startlinecolor\":\"#2a3f5f\"},\"baxis\":{\"endlinecolor\":\"#2a3f5f\",\"gridcolor\":\"white\",\"linecolor\":\"white\",\"minorgridcolor\":\"white\",\"startlinecolor\":\"#2a3f5f\"},\"type\":\"carpet\"}],\"table\":[{\"cells\":{\"fill\":{\"color\":\"#EBF0F8\"},\"line\":{\"color\":\"white\"}},\"header\":{\"fill\":{\"color\":\"#C8D4E3\"},\"line\":{\"color\":\"white\"}},\"type\":\"table\"}],\"barpolar\":[{\"marker\":{\"line\":{\"color\":\"#E5ECF6\",\"width\":0.5},\"pattern\":{\"fillmode\":\"overlay\",\"size\":10,\"solidity\":0.2}},\"type\":\"barpolar\"}],\"pie\":[{\"automargin\":true,\"type\":\"pie\"}]},\"layout\":{\"autotypenumbers\":\"strict\",\"colorway\":[\"#636efa\",\"#EF553B\",\"#00cc96\",\"#ab63fa\",\"#FFA15A\",\"#19d3f3\",\"#FF6692\",\"#B6E880\",\"#FF97FF\",\"#FECB52\"],\"font\":{\"color\":\"#2a3f5f\"},\"hovermode\":\"closest\",\"hoverlabel\":{\"align\":\"left\"},\"paper_bgcolor\":\"white\",\"plot_bgcolor\":\"#E5ECF6\",\"polar\":{\"bgcolor\":\"#E5ECF6\",\"angularaxis\":{\"gridcolor\":\"white\",\"linecolor\":\"white\",\"ticks\":\"\"},\"radialaxis\":{\"gridcolor\":\"white\",\"linecolor\":\"white\",\"ticks\":\"\"}},\"ternary\":{\"bgcolor\":\"#E5ECF6\",\"aaxis\":{\"gridcolor\":\"white\",\"linecolor\":\"white\",\"ticks\":\"\"},\"baxis\":{\"gridcolor\":\"white\",\"linecolor\":\"white\",\"ticks\":\"\"},\"caxis\":{\"gridcolor\":\"white\",\"linecolor\":\"white\",\"ticks\":\"\"}},\"coloraxis\":{\"colorbar\":{\"outlinewidth\":0,\"ticks\":\"\"}},\"colorscale\":{\"sequential\":[[0.0,\"#0d0887\"],[0.1111111111111111,\"#46039f\"],[0.2222222222222222,\"#7201a8\"],[0.3333333333333333,\"#9c179e\"],[0.4444444444444444,\"#bd3786\"],[0.5555555555555556,\"#d8576b\"],[0.6666666666666666,\"#ed7953\"],[0.7777777777777778,\"#fb9f3a\"],[0.8888888888888888,\"#fdca26\"],[1.0,\"#f0f921\"]],\"sequentialminus\":[[0.0,\"#0d0887\"],[0.1111111111111111,\"#46039f\"],[0.2222222222222222,\"#7201a8\"],[0.3333333333333333,\"#9c179e\"],[0.4444444444444444,\"#bd3786\"],[0.5555555555555556,\"#d8576b\"],[0.6666666666666666,\"#ed7953\"],[0.7777777777777778,\"#fb9f3a\"],[0.8888888888888888,\"#fdca26\"],[1.0,\"#f0f921\"]],\"diverging\":[[0,\"#8e0152\"],[0.1,\"#c51b7d\"],[0.2,\"#de77ae\"],[0.3,\"#f1b6da\"],[0.4,\"#fde0ef\"],[0.5,\"#f7f7f7\"],[0.6,\"#e6f5d0\"],[0.7,\"#b8e186\"],[0.8,\"#7fbc41\"],[0.9,\"#4d9221\"],[1,\"#276419\"]]},\"xaxis\":{\"gridcolor\":\"white\",\"linecolor\":\"white\",\"ticks\":\"\",\"title\":{\"standoff\":15},\"zerolinecolor\":\"white\",\"automargin\":true,\"zerolinewidth\":2},\"yaxis\":{\"gridcolor\":\"white\",\"linecolor\":\"white\",\"ticks\":\"\",\"title\":{\"standoff\":15},\"zerolinecolor\":\"white\",\"automargin\":true,\"zerolinewidth\":2},\"scene\":{\"xaxis\":{\"backgroundcolor\":\"#E5ECF6\",\"gridcolor\":\"white\",\"linecolor\":\"white\",\"showbackground\":true,\"ticks\":\"\",\"zerolinecolor\":\"white\",\"gridwidth\":2},\"yaxis\":{\"backgroundcolor\":\"#E5ECF6\",\"gridcolor\":\"white\",\"linecolor\":\"white\",\"showbackground\":true,\"ticks\":\"\",\"zerolinecolor\":\"white\",\"gridwidth\":2},\"zaxis\":{\"backgroundcolor\":\"#E5ECF6\",\"gridcolor\":\"white\",\"linecolor\":\"white\",\"showbackground\":true,\"ticks\":\"\",\"zerolinecolor\":\"white\",\"gridwidth\":2}},\"shapedefaults\":{\"line\":{\"color\":\"#2a3f5f\"}},\"annotationdefaults\":{\"arrowcolor\":\"#2a3f5f\",\"arrowhead\":0,\"arrowwidth\":1},\"geo\":{\"bgcolor\":\"white\",\"landcolor\":\"#E5ECF6\",\"subunitcolor\":\"white\",\"showland\":true,\"showlakes\":true,\"lakecolor\":\"white\"},\"title\":{\"x\":0.05},\"mapbox\":{\"style\":\"light\"}}},\"xaxis\":{\"anchor\":\"y\",\"domain\":[0.0,1.0],\"title\":{\"text\":\"Category\"},\"categoryorder\":\"array\",\"categoryarray\":[\"A\",\"B\",\"C\",\"D\",\"E\"]},\"yaxis\":{\"anchor\":\"x\",\"domain\":[0.0,1.0],\"title\":{\"text\":\"Values\"}},\"legend\":{\"title\":{\"text\":\"Category\"},\"tracegroupgap\":0},\"title\":{\"text\":\"Bar Plot Example\"},\"barmode\":\"relative\"},                        {\"responsive\": true}                    ).then(function(){\n",
              "                            \n",
              "var gd = document.getElementById('8bbaf45f-181b-449e-93d3-46c76a0f26c0');\n",
              "var x = new MutationObserver(function (mutations, observer) {{\n",
              "        var display = window.getComputedStyle(gd).display;\n",
              "        if (!display || display === 'none') {{\n",
              "            console.log([gd, 'removed!']);\n",
              "            Plotly.purge(gd);\n",
              "            observer.disconnect();\n",
              "        }}\n",
              "}});\n",
              "\n",
              "// Listen for the removal of the full notebook cells\n",
              "var notebookContainer = gd.closest('#notebook-container');\n",
              "if (notebookContainer) {{\n",
              "    x.observe(notebookContainer, {childList: true});\n",
              "}}\n",
              "\n",
              "// Listen for the clearing of the current output cell\n",
              "var outputEl = gd.closest('.output');\n",
              "if (outputEl) {{\n",
              "    x.observe(outputEl, {childList: true});\n",
              "}}\n",
              "\n",
              "                        })                };                            </script>        </div>\n",
              "</body>\n",
              "</html>"
            ]
          },
          "metadata": {}
        }
      ]
    },
    {
      "cell_type": "markdown",
      "source": [
        "###Q6. Create a DataFrame and add a new column based on an existing column?"
      ],
      "metadata": {
        "id": "SpeMnCoFzzy4"
      }
    },
    {
      "cell_type": "code",
      "source": [
        "import pandas as pd\n",
        "\n",
        "# Creating a sample DataFrame\n",
        "data = {\n",
        "    \"Name\": [\"Alice\", \"Bob\", \"Charlie\", \"David\"],\n",
        "    \"Salary\": [50000, 60000, 70000, 80000]\n",
        "}\n",
        "\n",
        "df = pd.DataFrame(data)\n",
        "\n",
        "# Adding a new column \"Tax (10%)\" based on the \"Salary\" column\n",
        "df[\"Tax (10%)\"] = df[\"Salary\"] * 0.10  # 10% of Salary\n",
        "\n",
        "# Display the updated DataFrame\n",
        "print(df)\n"
      ],
      "metadata": {
        "colab": {
          "base_uri": "https://localhost:8080/"
        },
        "id": "_3nEslHZz5kx",
        "outputId": "fbf7bb05-3a1b-4530-b3de-3b6e2cb30694"
      },
      "execution_count": null,
      "outputs": [
        {
          "output_type": "stream",
          "name": "stdout",
          "text": [
            "      Name  Salary  Tax (10%)\n",
            "0    Alice   50000     5000.0\n",
            "1      Bob   60000     6000.0\n",
            "2  Charlie   70000     7000.0\n",
            "3    David   80000     8000.0\n"
          ]
        }
      ]
    },
    {
      "cell_type": "markdown",
      "source": [
        "###Q7 Write a program to perform element-wise multiplication of two NumPy arrays?\n"
      ],
      "metadata": {
        "id": "Eg_5KKfmz_WK"
      }
    },
    {
      "cell_type": "code",
      "source": [
        "import numpy as np\n",
        "\n",
        "# Creating two NumPy arrays\n",
        "array1 = np.array([1, 2, 3, 4, 5])\n",
        "array2 = np.array([10, 20, 30, 40, 50])\n",
        "\n",
        "# Element-wise multiplication using '*'\n",
        "result1 = array1 * array2\n",
        "\n",
        "# Element-wise multiplication using np.multiply()\n",
        "result2 = np.multiply(array1, array2)\n",
        "\n",
        "# Displaying results\n",
        "print(\"Result using '*':\", result1)\n",
        "print(\"Result using np.multiply():\", result2)\n"
      ],
      "metadata": {
        "colab": {
          "base_uri": "https://localhost:8080/"
        },
        "id": "fy7CNUUT0HLj",
        "outputId": "5f1e4fea-7119-4037-cd2c-aedea37e48a5"
      },
      "execution_count": null,
      "outputs": [
        {
          "output_type": "stream",
          "name": "stdout",
          "text": [
            "Result using '*': [ 10  40  90 160 250]\n",
            "Result using np.multiply(): [ 10  40  90 160 250]\n"
          ]
        }
      ]
    },
    {
      "cell_type": "markdown",
      "source": [
        "###Q8. Create a line plot with multiple lines using Matplotlib?"
      ],
      "metadata": {
        "id": "YNkIjoVS0MR7"
      }
    },
    {
      "cell_type": "code",
      "source": [
        "import matplotlib.pyplot as plt\n",
        "\n",
        "# Sample data\n",
        "x = [1, 2, 3, 4, 5]\n",
        "y1 = [10, 20, 25, 30, 40]  # First line\n",
        "y2 = [5, 15, 20, 25, 35]   # Second line\n",
        "y3 = [2, 10, 15, 22, 30]   # Third line\n",
        "\n",
        "# Plot multiple lines\n",
        "plt.plot(x, y1, marker='o', linestyle='-', color='b', label=\"Line 1\")\n",
        "plt.plot(x, y2, marker='s', linestyle='--', color='r', label=\"Line 2\")\n",
        "plt.plot(x, y3, marker='^', linestyle='-.', color='g', label=\"Line 3\")\n",
        "\n",
        "# Adding labels, title, and legend\n",
        "plt.xlabel(\"X-axis\")\n",
        "plt.ylabel(\"Y-axis\")\n",
        "plt.title(\"Multiple Line Plot Example\")\n",
        "plt.legend()\n",
        "\n",
        "# Show the plot\n",
        "plt.show()\n"
      ],
      "metadata": {
        "colab": {
          "base_uri": "https://localhost:8080/",
          "height": 472
        },
        "id": "HjhKivXf0O0c",
        "outputId": "1dbac36b-585f-4c92-e503-2f1d3f00e271"
      },
      "execution_count": null,
      "outputs": [
        {
          "output_type": "display_data",
          "data": {
            "text/plain": [
              "<Figure size 640x480 with 1 Axes>"
            ],
            "image/png": "[encoded data removed]"
          },
          "metadata": {}
        }
      ]
    },
    {
      "cell_type": "markdown",
      "source": [
        "###Q9. Generate a Pandas DataFrame and filter rows where a column value is greater than a threshold?"
      ],
      "metadata": {
        "id": "15rEZSei0b6d"
      }
    },
    {
      "cell_type": "code",
      "source": [
        "import pandas as pd\n",
        "\n",
        "# Creating a sample DataFrame\n",
        "data = {\n",
        "    \"Name\": [\"Alice\", \"Bob\", \"Charlie\", \"David\", \"Eve\"],\n",
        "    \"Age\": [25, 30, 35, 40, 22],\n",
        "    \"Salary\": [50000, 60000, 70000, 80000, 45000]\n",
        "}\n",
        "\n",
        "df = pd.DataFrame(data)\n",
        "\n",
        "# Define a threshold for filtering (e.g., Salary > 55000)\n",
        "threshold = 55000\n",
        "filtered_df = df[df[\"Salary\"] > threshold]\n",
        "\n",
        "# Display the filtered DataFrame\n",
        "print(filtered_df)\n"
      ],
      "metadata": {
        "colab": {
          "base_uri": "https://localhost:8080/"
        },
        "id": "nmCC7YxS0em2",
        "outputId": "7374824d-3c13-47b5-daff-2937599e6e9d"
      },
      "execution_count": null,
      "outputs": [
        {
          "output_type": "stream",
          "name": "stdout",
          "text": [
            "      Name  Age  Salary\n",
            "1      Bob   30   60000\n",
            "2  Charlie   35   70000\n",
            "3    David   40   80000\n"
          ]
        }
      ]
    },
    {
      "cell_type": "markdown",
      "source": [
        "###Q10.  Create a histogram using Seaborn to visualize a distribution?"
      ],
      "metadata": {
        "id": "7t1yC5A10na3"
      }
    },
    {
      "cell_type": "code",
      "source": [
        "import seaborn as sns\n",
        "import matplotlib.pyplot as plt\n",
        "import numpy as np\n",
        "\n",
        "# Generating sample data (Normal distribution)\n",
        "data = np.random.normal(loc=50, scale=15, size=200)  # Mean=50, Std Dev=15, 200 points\n",
        "\n",
        "# Creating the histogram\n",
        "sns.histplot(data, bins=20, kde=True, color=\"blue\")\n",
        "\n",
        "# Adding labels and title\n",
        "plt.xlabel(\"Value\")\n",
        "plt.ylabel(\"Frequency\")\n",
        "plt.title(\"Histogram of Sample Data\")\n",
        "\n",
        "# Show the plot\n",
        "plt.show()\n"
      ],
      "metadata": {
        "colab": {
          "base_uri": "https://localhost:8080/",
          "height": 472
        },
        "id": "Or7R3HzT0wVp",
        "outputId": "cb8e3ceb-28a7-44c1-921a-2724931f40a1"
      },
      "execution_count": null,
      "outputs": [
        {
          "output_type": "display_data",
          "data": {
            "text/plain": [
              "<Figure size 640x480 with 1 Axes>"
            ],
            "image/png": "[encoded data removed]"
          },
          "metadata": {}
        }
      ]
    },
    {
      "cell_type": "markdown",
      "source": [
        "###Q11. Perform matrix multiplication using NumPy?"
      ],
      "metadata": {
        "id": "jLEHxlkw00n5"
      }
    },
    {
      "cell_type": "code",
      "source": [
        "import numpy as np\n",
        "\n",
        "# Creating two matrices\n",
        "A = np.array([[1, 2], [3, 4]])\n",
        "B = np.array([[5, 6], [7, 8]])\n",
        "\n",
        "# Method 1: Using np.dot()\n",
        "result1 = np.dot(A, B)\n",
        "\n",
        "# Method 2: Using @ operator (Preferred in Python 3.5+)\n",
        "result2 = A @ B\n",
        "\n",
        "# Method 3: Using np.matmul()\n",
        "result3 = np.matmul(A, B)\n",
        "\n",
        "# Displaying the results\n",
        "print(\"Matrix A:\\n\", A)\n",
        "print(\"Matrix B:\\n\", B)\n",
        "print(\"Result using np.dot():\\n\", result1)\n",
        "print(\"Result using @ operator:\\n\", result2)\n",
        "print(\"Result using np.matmul():\\n\", result3)\n"
      ],
      "metadata": {
        "colab": {
          "base_uri": "https://localhost:8080/"
        },
        "id": "FdrFaL7_062D",
        "outputId": "53287625-45b4-4b1f-edcc-34f0586ad9b9"
      },
      "execution_count": null,
      "outputs": [
        {
          "output_type": "stream",
          "name": "stdout",
          "text": [
            "Matrix A:\n",
            " [[1 2]\n",
            " [3 4]]\n",
            "Matrix B:\n",
            " [[5 6]\n",
            " [7 8]]\n",
            "Result using np.dot():\n",
            " [[19 22]\n",
            " [43 50]]\n",
            "Result using @ operator:\n",
            " [[19 22]\n",
            " [43 50]]\n",
            "Result using np.matmul():\n",
            " [[19 22]\n",
            " [43 50]]\n"
          ]
        }
      ]
    },
    {
      "cell_type": "markdown",
      "source": [
        "###Q12. Use Pandas to load a CSV file and display its first 5 rows?"
      ],
      "metadata": {
        "id": "uPfCQYj11IVG"
      }
    },
    {
      "cell_type": "code",
      "source": [
        "import pandas as pd\n",
        "\n",
        "# Load the CSV file (Replace 'data.csv' with your actual file path)\n",
        "df = pd.read_csv(\"data.csv\")\n",
        "\n",
        "# Display the first 5 rows\n",
        "print(df.head())\n",
        "\n"
      ],
      "metadata": {
        "id": "ZN-ObRni1NPn"
      },
      "execution_count": null,
      "outputs": []
    },
    {
      "cell_type": "markdown",
      "source": [
        "###Q13. Create a 3D scatter plot using Plotly?\n",
        "\n"
      ],
      "metadata": {
        "id": "VK1uw53n1pVQ"
      }
    },
    {
      "cell_type": "code",
      "source": [
        "import plotly.graph_objects as go\n",
        "import numpy as np\n",
        "\n",
        "# Generating sample data\n",
        "np.random.seed(42)\n",
        "x = np.random.rand(50) * 10  # Random values for X-axis\n",
        "y = np.random.rand(50) * 10  # Random values for Y-axis\n",
        "z = np.random.rand(50) * 10  # Random values for Z-axis\n",
        "\n",
        "# Creating a 3D scatter plot\n",
        "fig = go.Figure(\n",
        "    data=[go.Scatter3d(x=x, y=y, z=z, mode='markers', marker=dict(size=5, color=z, colorscale='Viridis'))]\n",
        ")\n",
        "\n",
        "# Adding title and labels\n",
        "fig.update_layout(title=\"3D Scatter Plot\", scene=dict(xaxis_title=\"X Axis\", yaxis_title=\"Y Axis\", zaxis_title=\"Z Axis\"))\n",
        "\n",
        "# Show the plot\n",
        "fig.show()\n"
      ],
      "metadata": {
        "colab": {
          "base_uri": "https://localhost:8080/",
          "height": 542
        },
        "id": "Oeyy8Rzw1uA4",
        "outputId": "1d10f014-91f7-4ee2-d5ae-dacd5b96528b"
      },
      "execution_count": 13,
      "outputs": [
        {
          "output_type": "display_data",
          "data": {
            "text/html": [
              "<html>\n",
              "<head><meta charset=\"utf-8\" /></head>\n",
              "<body>\n",
              "    <div>            <script src=\"https://cdnjs.cloudflare.com/ajax/libs/mathjax/2.7.5/MathJax.js?config=TeX-AMS-MML_SVG\"></script><script type=\"text/javascript\">if (window.MathJax && window.MathJax.Hub && window.MathJax.Hub.Config) {window.MathJax.Hub.Config({SVG: {font: \"STIX-Web\"}});}</script>                <script type=\"text/javascript\">window.PlotlyConfig = {MathJaxConfig: 'local'};</script>\n",
              "        <script charset=\"utf-8\" src=\"https://cdn.plot.ly/plotly-2.35.2.min.js\"></script>                <div id=\"29b9aa07-71cb-4dac-8071-59764d11527c\" class=\"plotly-graph-div\" style=\"height:525px; width:100%;\"></div>            <script type=\"text/javascript\">                                    window.PLOTLYENV=window.PLOTLYENV || {};                                    if (document.getElementById(\"29b9aa07-71cb-4dac-8071-59764d11527c\")) {                    Plotly.newPlot(                        \"29b9aa07-71cb-4dac-8071-59764d11527c\",                        [{\"marker\":{\"color\":[0.3142918568673425,6.364104112637804,3.143559810763267,5.085706911647028,9.07566473926093,2.4929222914887497,4.103829230356297,7.555511385430487,2.2879816549162246,0.7697990982879299,2.8975145291376805,1.6122128725400442,9.29697652342573,8.08120379564417,6.334037565104235,8.714605901877178,8.036720768991145,1.8657005888603584,8.925589984899778,5.393422419156507,8.074401551640625,8.960912999234932,3.1800347497186388,1.1005192452767676,2.279351625419417,4.271077886262563,8.18014765922493,8.607305832563434,0.06952130531190703,5.107473025775658,4.17411003148779,2.2210781047073027,1.198653673336828,3.3761517140362796,9.429097039125192,3.2320293202075523,5.187906217433661,7.030189588951778,3.63629602379294,9.717820827209607,9.624472949421111,2.5178229582536416,4.972485058923855,3.0087830981676964,2.848404943774676,0.36886947354532795,6.095643339798968,5.026790232288615,0.5147875124998935,2.7864646423661146],\"colorscale\":[[0.0,\"#440154\"],[0.1111111111111111,\"#482878\"],[0.2222222222222222,\"#3e4989\"],[0.3333333333333333,\"#31688e\"],[0.4444444444444444,\"#26828e\"],[0.5555555555555556,\"#1f9e89\"],[0.6666666666666666,\"#35b779\"],[0.7777777777777778,\"#6ece58\"],[0.8888888888888888,\"#b5de2b\"],[1.0,\"#fde725\"]],\"size\":5},\"mode\":\"markers\",\"x\":[3.745401188473625,9.50714306409916,7.319939418114051,5.986584841970366,1.5601864044243652,1.5599452033620265,0.5808361216819946,8.661761457749352,6.011150117432088,7.080725777960454,0.20584494295802447,9.699098521619943,8.324426408004218,2.1233911067827616,1.8182496720710062,1.8340450985343382,3.0424224295953772,5.247564316322379,4.319450186421157,2.9122914019804194,6.118528947223795,1.3949386065204183,2.9214464853521815,3.663618432936917,4.56069984217036,7.851759613930136,1.9967378215835974,5.142344384136116,5.924145688620425,0.46450412719997725,6.075448519014383,1.7052412368729153,0.6505159298527952,9.488855372533333,9.656320330745594,8.08397348116461,3.0461376917337066,0.9767211400638387,6.842330265121569,4.4015249373960135,1.2203823484477883,4.951769101112702,0.34388521115218396,9.093204020787821,2.587799816000169,6.62522284353982,3.1171107608941098,5.200680211778108,5.4671027934327965,1.8485445552552704],\"y\":[9.695846277645586,7.7513282336111455,9.394989415641891,8.948273504276488,5.978999788110851,9.218742350231167,0.884925020519195,1.959828624191452,0.45227288910538066,3.2533033076326436,3.8867728968948203,2.713490317738959,8.287375091519294,3.567533266935893,2.8093450968738076,5.426960831582485,1.4092422497476265,8.021969807540398,0.7455064367977082,9.868869366005173,7.722447692966574,1.987156815341724,0.05522117123602399,8.154614284548341,7.068573438476172,7.2900716804098735,7.712703466859457,0.7404465173409036,3.5846572854427263,1.1586905952512971,8.631034258755935,6.232981268275579,3.308980248526492,0.6355835028602363,3.109823217156622,3.2518332202674705,7.29606178338064,6.3755747135521315,8.872127425763265,4.722149251619493,1.195942459383017,7.13244787222995,7.607850486168974,5.612771975694963,7.70967179954561,4.937955963643907,5.227328293819941,4.275410183585496,0.2541912674409519,1.0789142699330445],\"z\":[0.3142918568673425,6.364104112637804,3.143559810763267,5.085706911647028,9.07566473926093,2.4929222914887497,4.103829230356297,7.555511385430487,2.2879816549162246,0.7697990982879299,2.8975145291376805,1.6122128725400442,9.29697652342573,8.08120379564417,6.334037565104235,8.714605901877178,8.036720768991145,1.8657005888603584,8.925589984899778,5.393422419156507,8.074401551640625,8.960912999234932,3.1800347497186388,1.1005192452767676,2.279351625419417,4.271077886262563,8.18014765922493,8.607305832563434,0.06952130531190703,5.107473025775658,4.17411003148779,2.2210781047073027,1.198653673336828,3.3761517140362796,9.429097039125192,3.2320293202075523,5.187906217433661,7.030189588951778,3.63629602379294,9.717820827209607,9.624472949421111,2.5178229582536416,4.972485058923855,3.0087830981676964,2.848404943774676,0.36886947354532795,6.095643339798968,5.026790232288615,0.5147875124998935,2.7864646423661146],\"type\":\"scatter3d\"}],                        {\"template\":{\"data\":{\"histogram2dcontour\":[{\"type\":\"histogram2dcontour\",\"colorbar\":{\"outlinewidth\":0,\"ticks\":\"\"},\"colorscale\":[[0.0,\"#0d0887\"],[0.1111111111111111,\"#46039f\"],[0.2222222222222222,\"#7201a8\"],[0.3333333333333333,\"#9c179e\"],[0.4444444444444444,\"#bd3786\"],[0.5555555555555556,\"#d8576b\"],[0.6666666666666666,\"#ed7953\"],[0.7777777777777778,\"#fb9f3a\"],[0.8888888888888888,\"#fdca26\"],[1.0,\"#f0f921\"]]}],\"choropleth\":[{\"type\":\"choropleth\",\"colorbar\":{\"outlinewidth\":0,\"ticks\":\"\"}}],\"histogram2d\":[{\"type\":\"histogram2d\",\"colorbar\":{\"outlinewidth\":0,\"ticks\":\"\"},\"colorscale\":[[0.0,\"#0d0887\"],[0.1111111111111111,\"#46039f\"],[0.2222222222222222,\"#7201a8\"],[0.3333333333333333,\"#9c179e\"],[0.4444444444444444,\"#bd3786\"],[0.5555555555555556,\"#d8576b\"],[0.6666666666666666,\"#ed7953\"],[0.7777777777777778,\"#fb9f3a\"],[0.8888888888888888,\"#fdca26\"],[1.0,\"#f0f921\"]]}],\"heatmap\":[{\"type\":\"heatmap\",\"colorbar\":{\"outlinewidth\":0,\"ticks\":\"\"},\"colorscale\":[[0.0,\"#0d0887\"],[0.1111111111111111,\"#46039f\"],[0.2222222222222222,\"#7201a8\"],[0.3333333333333333,\"#9c179e\"],[0.4444444444444444,\"#bd3786\"],[0.5555555555555556,\"#d8576b\"],[0.6666666666666666,\"#ed7953\"],[0.7777777777777778,\"#fb9f3a\"],[0.8888888888888888,\"#fdca26\"],[1.0,\"#f0f921\"]]}],\"heatmapgl\":[{\"type\":\"heatmapgl\",\"colorbar\":{\"outlinewidth\":0,\"ticks\":\"\"},\"colorscale\":[[0.0,\"#0d0887\"],[0.1111111111111111,\"#46039f\"],[0.2222222222222222,\"#7201a8\"],[0.3333333333333333,\"#9c179e\"],[0.4444444444444444,\"#bd3786\"],[0.5555555555555556,\"#d8576b\"],[0.6666666666666666,\"#ed7953\"],[0.7777777777777778,\"#fb9f3a\"],[0.8888888888888888,\"#fdca26\"],[1.0,\"#f0f921\"]]}],\"contourcarpet\":[{\"type\":\"contourcarpet\",\"colorbar\":{\"outlinewidth\":0,\"ticks\":\"\"}}],\"contour\":[{\"type\":\"contour\",\"colorbar\":{\"outlinewidth\":0,\"ticks\":\"\"},\"colorscale\":[[0.0,\"#0d0887\"],[0.1111111111111111,\"#46039f\"],[0.2222222222222222,\"#7201a8\"],[0.3333333333333333,\"#9c179e\"],[0.4444444444444444,\"#bd3786\"],[0.5555555555555556,\"#d8576b\"],[0.6666666666666666,\"#ed7953\"],[0.7777777777777778,\"#fb9f3a\"],[0.8888888888888888,\"#fdca26\"],[1.0,\"#f0f921\"]]}],\"surface\":[{\"type\":\"surface\",\"colorbar\":{\"outlinewidth\":0,\"ticks\":\"\"},\"colorscale\":[[0.0,\"#0d0887\"],[0.1111111111111111,\"#46039f\"],[0.2222222222222222,\"#7201a8\"],[0.3333333333333333,\"#9c179e\"],[0.4444444444444444,\"#bd3786\"],[0.5555555555555556,\"#d8576b\"],[0.6666666666666666,\"#ed7953\"],[0.7777777777777778,\"#fb9f3a\"],[0.8888888888888888,\"#fdca26\"],[1.0,\"#f0f921\"]]}],\"mesh3d\":[{\"type\":\"mesh3d\",\"colorbar\":{\"outlinewidth\":0,\"ticks\":\"\"}}],\"scatter\":[{\"fillpattern\":{\"fillmode\":\"overlay\",\"size\":10,\"solidity\":0.2},\"type\":\"scatter\"}],\"parcoords\":[{\"type\":\"parcoords\",\"line\":{\"colorbar\":{\"outlinewidth\":0,\"ticks\":\"\"}}}],\"scatterpolargl\":[{\"type\":\"scatterpolargl\",\"marker\":{\"colorbar\":{\"outlinewidth\":0,\"ticks\":\"\"}}}],\"bar\":[{\"error_x\":{\"color\":\"#2a3f5f\"},\"error_y\":{\"color\":\"#2a3f5f\"},\"marker\":{\"line\":{\"color\":\"#E5ECF6\",\"width\":0.5},\"pattern\":{\"fillmode\":\"overlay\",\"size\":10,\"solidity\":0.2}},\"type\":\"bar\"}],\"scattergeo\":[{\"type\":\"scattergeo\",\"marker\":{\"colorbar\":{\"outlinewidth\":0,\"ticks\":\"\"}}}],\"scatterpolar\":[{\"type\":\"scatterpolar\",\"marker\":{\"colorbar\":{\"outlinewidth\":0,\"ticks\":\"\"}}}],\"histogram\":[{\"marker\":{\"pattern\":{\"fillmode\":\"overlay\",\"size\":10,\"solidity\":0.2}},\"type\":\"histogram\"}],\"scattergl\":[{\"type\":\"scattergl\",\"marker\":{\"colorbar\":{\"outlinewidth\":0,\"ticks\":\"\"}}}],\"scatter3d\":[{\"type\":\"scatter3d\",\"line\":{\"colorbar\":{\"outlinewidth\":0,\"ticks\":\"\"}},\"marker\":{\"colorbar\":{\"outlinewidth\":0,\"ticks\":\"\"}}}],\"scattermapbox\":[{\"type\":\"scattermapbox\",\"marker\":{\"colorbar\":{\"outlinewidth\":0,\"ticks\":\"\"}}}],\"scatterternary\":[{\"type\":\"scatterternary\",\"marker\":{\"colorbar\":{\"outlinewidth\":0,\"ticks\":\"\"}}}],\"scattercarpet\":[{\"type\":\"scattercarpet\",\"marker\":{\"colorbar\":{\"outlinewidth\":0,\"ticks\":\"\"}}}],\"carpet\":[{\"aaxis\":{\"endlinecolor\":\"#2a3f5f\",\"gridcolor\":\"white\",\"linecolor\":\"white\",\"minorgridcolor\":\"white\",\"startlinecolor\":\"#2a3f5f\"},\"baxis\":{\"endlinecolor\":\"#2a3f5f\",\"gridcolor\":\"white\",\"linecolor\":\"white\",\"minorgridcolor\":\"white\",\"startlinecolor\":\"#2a3f5f\"},\"type\":\"carpet\"}],\"table\":[{\"cells\":{\"fill\":{\"color\":\"#EBF0F8\"},\"line\":{\"color\":\"white\"}},\"header\":{\"fill\":{\"color\":\"#C8D4E3\"},\"line\":{\"color\":\"white\"}},\"type\":\"table\"}],\"barpolar\":[{\"marker\":{\"line\":{\"color\":\"#E5ECF6\",\"width\":0.5},\"pattern\":{\"fillmode\":\"overlay\",\"size\":10,\"solidity\":0.2}},\"type\":\"barpolar\"}],\"pie\":[{\"automargin\":true,\"type\":\"pie\"}]},\"layout\":{\"autotypenumbers\":\"strict\",\"colorway\":[\"#636efa\",\"#EF553B\",\"#00cc96\",\"#ab63fa\",\"#FFA15A\",\"#19d3f3\",\"#FF6692\",\"#B6E880\",\"#FF97FF\",\"#FECB52\"],\"font\":{\"color\":\"#2a3f5f\"},\"hovermode\":\"closest\",\"hoverlabel\":{\"align\":\"left\"},\"paper_bgcolor\":\"white\",\"plot_bgcolor\":\"#E5ECF6\",\"polar\":{\"bgcolor\":\"#E5ECF6\",\"angularaxis\":{\"gridcolor\":\"white\",\"linecolor\":\"white\",\"ticks\":\"\"},\"radialaxis\":{\"gridcolor\":\"white\",\"linecolor\":\"white\",\"ticks\":\"\"}},\"ternary\":{\"bgcolor\":\"#E5ECF6\",\"aaxis\":{\"gridcolor\":\"white\",\"linecolor\":\"white\",\"ticks\":\"\"},\"baxis\":{\"gridcolor\":\"white\",\"linecolor\":\"white\",\"ticks\":\"\"},\"caxis\":{\"gridcolor\":\"white\",\"linecolor\":\"white\",\"ticks\":\"\"}},\"coloraxis\":{\"colorbar\":{\"outlinewidth\":0,\"ticks\":\"\"}},\"colorscale\":{\"sequential\":[[0.0,\"#0d0887\"],[0.1111111111111111,\"#46039f\"],[0.2222222222222222,\"#7201a8\"],[0.3333333333333333,\"#9c179e\"],[0.4444444444444444,\"#bd3786\"],[0.5555555555555556,\"#d8576b\"],[0.6666666666666666,\"#ed7953\"],[0.7777777777777778,\"#fb9f3a\"],[0.8888888888888888,\"#fdca26\"],[1.0,\"#f0f921\"]],\"sequentialminus\":[[0.0,\"#0d0887\"],[0.1111111111111111,\"#46039f\"],[0.2222222222222222,\"#7201a8\"],[0.3333333333333333,\"#9c179e\"],[0.4444444444444444,\"#bd3786\"],[0.5555555555555556,\"#d8576b\"],[0.6666666666666666,\"#ed7953\"],[0.7777777777777778,\"#fb9f3a\"],[0.8888888888888888,\"#fdca26\"],[1.0,\"#f0f921\"]],\"diverging\":[[0,\"#8e0152\"],[0.1,\"#c51b7d\"],[0.2,\"#de77ae\"],[0.3,\"#f1b6da\"],[0.4,\"#fde0ef\"],[0.5,\"#f7f7f7\"],[0.6,\"#e6f5d0\"],[0.7,\"#b8e186\"],[0.8,\"#7fbc41\"],[0.9,\"#4d9221\"],[1,\"#276419\"]]},\"xaxis\":{\"gridcolor\":\"white\",\"linecolor\":\"white\",\"ticks\":\"\",\"title\":{\"standoff\":15},\"zerolinecolor\":\"white\",\"automargin\":true,\"zerolinewidth\":2},\"yaxis\":{\"gridcolor\":\"white\",\"linecolor\":\"white\",\"ticks\":\"\",\"title\":{\"standoff\":15},\"zerolinecolor\":\"white\",\"automargin\":true,\"zerolinewidth\":2},\"scene\":{\"xaxis\":{\"backgroundcolor\":\"#E5ECF6\",\"gridcolor\":\"white\",\"linecolor\":\"white\",\"showbackground\":true,\"ticks\":\"\",\"zerolinecolor\":\"white\",\"gridwidth\":2},\"yaxis\":{\"backgroundcolor\":\"#E5ECF6\",\"gridcolor\":\"white\",\"linecolor\":\"white\",\"showbackground\":true,\"ticks\":\"\",\"zerolinecolor\":\"white\",\"gridwidth\":2},\"zaxis\":{\"backgroundcolor\":\"#E5ECF6\",\"gridcolor\":\"white\",\"linecolor\":\"white\",\"showbackground\":true,\"ticks\":\"\",\"zerolinecolor\":\"white\",\"gridwidth\":2}},\"shapedefaults\":{\"line\":{\"color\":\"#2a3f5f\"}},\"annotationdefaults\":{\"arrowcolor\":\"#2a3f5f\",\"arrowhead\":0,\"arrowwidth\":1},\"geo\":{\"bgcolor\":\"white\",\"landcolor\":\"#E5ECF6\",\"subunitcolor\":\"white\",\"showland\":true,\"showlakes\":true,\"lakecolor\":\"white\"},\"title\":{\"x\":0.05},\"mapbox\":{\"style\":\"light\"}}},\"title\":{\"text\":\"3D Scatter Plot\"},\"scene\":{\"xaxis\":{\"title\":{\"text\":\"X Axis\"}},\"yaxis\":{\"title\":{\"text\":\"Y Axis\"}},\"zaxis\":{\"title\":{\"text\":\"Z Axis\"}}}},                        {\"responsive\": true}                    ).then(function(){\n",
              "                            \n",
              "var gd = document.getElementById('29b9aa07-71cb-4dac-8071-59764d11527c');\n",
              "var x = new MutationObserver(function (mutations, observer) {{\n",
              "        var display = window.getComputedStyle(gd).display;\n",
              "        if (!display || display === 'none') {{\n",
              "            console.log([gd, 'removed!']);\n",
              "            Plotly.purge(gd);\n",
              "            observer.disconnect();\n",
              "        }}\n",
              "}});\n",
              "\n",
              "// Listen for the removal of the full notebook cells\n",
              "var notebookContainer = gd.closest('#notebook-container');\n",
              "if (notebookContainer) {{\n",
              "    x.observe(notebookContainer, {childList: true});\n",
              "}}\n",
              "\n",
              "// Listen for the clearing of the current output cell\n",
              "var outputEl = gd.closest('.output');\n",
              "if (outputEl) {{\n",
              "    x.observe(outputEl, {childList: true});\n",
              "}}\n",
              "\n",
              "                        })                };                            </script>        </div>\n",
              "</body>\n",
              "</html>"
            ]
          },
          "metadata": {}
        }
      ]
    }
  ]
}