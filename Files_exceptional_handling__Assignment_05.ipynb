{
  "nbformat": 4,
  "nbformat_minor": 0,
  "metadata": {
    "colab": {
      "provenance": []
    },
    "kernelspec": {
      "name": "python3",
      "display_name": "Python 3"
    },
    "language_info": {
      "name": "python"
    }
  },
  "cells": [
    {
      "cell_type": "markdown",
      "source": [
        "# **Files exceptional handling Assignment 05** ⭐\n"
      ],
      "metadata": {
        "id": "k-lQTnL_rnhZ"
      }
    },
    {
      "cell_type": "markdown",
      "source": [
        "Q 1. What is the difference between interpreted and compiled languages?\n",
        "\n",
        ">The key difference between compiled and interpreted languages lies in how they translate and execute code: compiled languages translate the entire program into machine code beforehand, while interpreted languages translate and execute code line by line during runtime.\n"
      ],
      "metadata": {
        "id": "PIiZvh1Nr_hH"
      }
    },
    {
      "cell_type": "markdown",
      "source": [
        "### Q2.  What is exception handling in Python?\n",
        "\n",
        ">Python Exception Handling handles errors that occur during the execution of a program. Exception handling allows to respond to the error, instead of crashing the running program. It enables you to catch and manage errors, making your code more robust and user-friendly.\n",
        "\n",
        ">Example: Trying to divide a number by zero will cause an exception.\n",
        "\n"
      ],
      "metadata": {
        "id": "VLhK4-dms-4p"
      }
    },
    {
      "cell_type": "code",
      "source": [
        "n = 10\n",
        "try:\n",
        "    res = n / 0  # This will raise a ZeroDivisionError\n",
        "\n",
        "except ZeroDivisionError:\n",
        "    print(\"Can't be divided by zero!\")"
      ],
      "metadata": {
        "colab": {
          "base_uri": "https://localhost:8080/"
        },
        "id": "1-j_ScYquvvI",
        "outputId": "0485159e-6ea6-41d9-d6ce-0ee6d156bf1a"
      },
      "execution_count": null,
      "outputs": [
        {
          "output_type": "stream",
          "name": "stdout",
          "text": [
            "Can't be divided by zero!\n"
          ]
        }
      ]
    },
    {
      "cell_type": "markdown",
      "source": [
        "### Q3. What is the purpose of the finally block in exception handling?\n",
        "\n",
        ">The 'finally' block is executed regardless of whether an exception occurred or not. It provides a way to define cleanup actions that must be performed, such as releasing resources or closing files, irrespective of the presence of exceptions."
      ],
      "metadata": {
        "id": "z3q6i6Pzu06f"
      }
    },
    {
      "cell_type": "markdown",
      "source": [
        "### Q4. What is logging in Python?\n",
        "\n",
        ">Python logging is a module that allows you to track events that occur while your program is running. You can use logging to record information about errors, warnings, and other events that occur during program execution. And logging is a useful tool for debugging, troubleshooting, and monitoring your program."
      ],
      "metadata": {
        "id": "EhIsxzCQvTCU"
      }
    },
    {
      "cell_type": "markdown",
      "source": [
        "### Q5. What is the significance of the __del__ method in Python?\n",
        "\n",
        ">The __del__ method exists to release any resources held by an object when that object is deleted. The __del__ is called only by the garbage collector which may call it after an indefinite delay or never. Consequently, __del__ method should not be relied on to release resources, such as file descriptors."
      ],
      "metadata": {
        "id": "nE_AH2O0yYjT"
      }
    },
    {
      "cell_type": "markdown",
      "source": [
        "### Q6. What is the difference between import and from ... import in Python?\n",
        "\n",
        ">In general, we should use the import statement when we need to use many attributes from a module, or when the module name is short and easy to remember. we should use the from statement when we only need to use a few attributes from a module, or when the module name is long and hard to remember."
      ],
      "metadata": {
        "id": "fTMZCFG2yzuC"
      }
    },
    {
      "cell_type": "markdown",
      "source": [
        "### Q7. How can you handle multiple exceptions in Python?\n",
        "\n",
        ">In Python, multiple exceptions can be handled using several approaches:\n",
        "\n",
        ">**Separate except blocks**: Each exception type can have its own except block, allowing for specific handling of each case.\n",
        "\n",
        ">**Single except block with a tuple of exceptions**: Multiple exception types can be caught in a single except block by specifying them as a tuple. This is useful when the handling logic is the same for different exceptions.\n",
        "\n",
        ">**Catching multiple unrelated exceptions**: When handling exceptions that don't share a parent class, it's recommended to use separate except blocks for clarity and specific handling.\n",
        "\n",
        ">**Generic except block**: A generic except block can be used as a last resort to catch any unhandled exceptions. However, it's best practice to avoid relying heavily on this as it can mask unexpected errors.\n",
        "\n"
      ],
      "metadata": {
        "id": "ZJMUBxn30JeX"
      }
    },
    {
      "cell_type": "markdown",
      "source": [
        "### Q 8. What is the purpose of the with statement when handling files in Python?\n",
        "\n",
        ">With the use of blending it is necessary to have a specific order of fetch and release in compilation. It provides a way to wrap the execution of a block of code with a context manager defined by it.\n"
      ],
      "metadata": {
        "id": "wCvAYWG_4kjY"
      }
    },
    {
      "cell_type": "markdown",
      "source": [
        "### Q 9.What is the difference between multithreading and multiprocessing?\n",
        "\n",
        ">The major difference between multitasking and multithreading is that multitasking allows the CPU to perform multiple tasks simultaneously, whereas multithreading allows the CPU to execute multiple threads of the same process simultaneously."
      ],
      "metadata": {
        "id": "gvny38my5IbW"
      }
    },
    {
      "cell_type": "markdown",
      "source": [
        "### Q 10. What are the advantages of using logging in a program ?\n",
        "\n",
        ">Python logging is a module that allows you to track events that occur while your program is running. You can use logging to record information about errors, warnings, and other events that occur during program execution. And logging is a useful tool for debugging, troubleshooting, and monitoring your program"
      ],
      "metadata": {
        "id": "hweGVLLl5ZkY"
      }
    },
    {
      "cell_type": "markdown",
      "source": [
        "### Q11. What is memory management in Python ?\n",
        "\n",
        ">Python memory management is the process of allocating and dealing with memory so that your programs can run efficiently. One advantage of Python, compared to other programming languages, is that it can perform memory management tasks automatically."
      ],
      "metadata": {
        "id": "3nlVtCi55yZT"
      }
    },
    {
      "cell_type": "markdown",
      "source": [
        "### Q 12. What are the basic steps involved in exception handling in Python?\n",
        "\n",
        ">he basic steps involved in exception handling in Python are:\n",
        "####**Identify potential exceptions:**\n",
        "Pinpoint sections of code that might raise exceptions, such as file operations, network requests, or user input handling.\n",
        "\n",
        "####**Implement the try block:**\n",
        "Enclose the code that might raise an exception within a try block. This signals to Python that you're prepared to handle potential errors in this section.\n",
        "\n",
        "####**Implement the except block:**\n",
        "Following the try block, add one or more except blocks to specify how to handle specific exceptions. Each except block should target a particular exception type or a group of related exceptions.\n",
        "\n",
        "####**Handle the exception:**\n",
        "Within each except block, write the code that should be executed when the corresponding exception occurs. This might involve logging the error, displaying an error message, or attempting to recover from the error.\n",
        "\n",
        "####**Use the optional else block:**\n",
        "If you want to execute code only when no exceptions are raised in the try block, you can add an optional else block after the except blocks.\n",
        "\n",
        "####**Use the optional finally block:**\n",
        "If you need to execute code regardless of whether an exception was raised or not, you can add an optional finally block. This is commonly used for cleanup actions, such as closing files or releasing resources."
      ],
      "metadata": {
        "id": "RIsHP8Ln5-_N"
      }
    },
    {
      "cell_type": "code",
      "source": [
        "try:\n",
        "    # Code that might raise an exception\n",
        "    result = 10 / 0\n",
        "except ZeroDivisionError:\n",
        "    # Handle the specific exception\n",
        "    print(\"Error: Division by zero\")\n",
        "except Exception as e:\n",
        "    # Handle other exceptions\n",
        "    print(f\"An error occurred: {e}\")\n",
        "else:\n",
        "    # Code to execute if no exception occurs\n",
        "    print(\"Calculation successful\")\n",
        "finally:\n",
        "    # Code to execute regardless of exceptions\n",
        "    print(\"This will always be executed\")"
      ],
      "metadata": {
        "id": "7NuA1Dbd7GOu"
      },
      "execution_count": null,
      "outputs": []
    },
    {
      "cell_type": "markdown",
      "source": [
        "### Q 13. Why is memory management important in Python ?\n",
        "\n",
        ">Memory management in Python is important because it helps prevent memory leaks, reduces memory usage, and improves application performance."
      ],
      "metadata": {
        "id": "KntN8XI97H33"
      }
    },
    {
      "cell_type": "markdown",
      "source": [
        "### Q 14. What is the role of try and except in exception handling ?\n",
        "\n",
        ">The try and except blocks play a crucial role in exception handling by enabling a program to gracefully manage errors that may occur during execution. The try block encloses the code that might raise an exception. If an exception occurs within the try block, the normal flow of execution is interrupted, and the program searches for a matching except block to handle the exception. The except block specifies the type of exception it can handle and contains the code to be executed if that exception occurs. This mechanism prevents the program from crashing and allows it to recover from errors or take alternative actions."
      ],
      "metadata": {
        "id": "qTKpftsq7cPB"
      }
    },
    {
      "cell_type": "code",
      "source": [
        "try:\n",
        "    # Code that may raise an exception\n",
        "    result = 10 / 0\n",
        "except ZeroDivisionError:\n",
        "    # Code to handle the exception\n",
        "    print(\"Cannot divide by zero.\")"
      ],
      "metadata": {
        "id": "q-nQqoGA7zms"
      },
      "execution_count": null,
      "outputs": []
    },
    {
      "cell_type": "markdown",
      "source": [
        "### Q 15. How does Python's garbage collection system work ?\n",
        "\n",
        ">Python's garbage collection algorithm is very useful for opening up space in the memory. Garbage collection is implemented in Python in two ways: reference counting and generational. When the reference count of an object reaches 0, the reference counting garbage collection algorithm cleans up the object immediately.\n",
        "\n"
      ],
      "metadata": {
        "id": "RhCA7YSo71sE"
      }
    },
    {
      "cell_type": "markdown",
      "source": [
        "### Q16. What is the purpose of the else block in exception handling ?\n",
        "\n",
        ">The purpose of a try block in exception handling is to enclose code that might potentially throw an exception, allowing you to handle those exceptions gracefully using catch (or except) blocks."
      ],
      "metadata": {
        "id": "CvcdlAHf83o2"
      }
    },
    {
      "cell_type": "markdown",
      "source": [
        "### Q17. What are the common logging levels in Python ?\n",
        "\n",
        ">There are six levels for logging in Python; each level is associated with an integer that indicates the log severity: NOTSET=0, DEBUG=10, INFO=20, WARN=30, ERROR=40, and CRITICAL=50."
      ],
      "metadata": {
        "id": "WVRpOfS19nJ0"
      }
    },
    {
      "cell_type": "markdown",
      "source": [
        "### Q 18. What is the difference between os.fork() and multiprocessing in Python ?\n",
        "\n",
        ">The fork() method creates a copy of the process that called it. Executing os.fork() creates two processes: a parent process and a child process. It returns 0 in the child process and the process ID of the child in the parent process.\n",
        "\n",
        ">Multiprocessing in Python is a built-in package that allows the system to run multiple processes simultaneously. This will enable applications to be broken into smaller threads that can run independently."
      ],
      "metadata": {
        "id": "aADy2c0w-Ib4"
      }
    },
    {
      "cell_type": "markdown",
      "source": [
        "### Q19. What is the importance of closing a file in Python ?\n",
        "\n",
        ">We've learned why it's important to close files in Python. Because files are limited resources managed by the operating system, making sure files are closed after use will protect against hard-to-debug issues like running out of file handles or experiencing corrupted data."
      ],
      "metadata": {
        "id": "v45SnQe3-413"
      }
    },
    {
      "cell_type": "markdown",
      "source": [
        "### Q 20. What is the difference between file.read() and file.readline() in Python ?\n",
        "\n",
        ">In Python, the `read()` method is used to read a specified number of characters from a file or input stream, while the `readline()` method is used to read a single line from a file or input stream. The `read()` method will read the entire content of the file or stream if no argument is provided, returning a string."
      ],
      "metadata": {
        "id": "3RfJxV5j_OqS"
      }
    },
    {
      "cell_type": "markdown",
      "source": [
        "### Q 21. What is the logging module in Python used for ?\n",
        "\n",
        ">We can use the logging module to log messages to a file, to the python logging console, or to a custom logging handler. The logging module has a number of different logging levels, which allow you to control the amount of detail that is logged ."
      ],
      "metadata": {
        "id": "XGt7-BaX_iZt"
      }
    },
    {
      "cell_type": "markdown",
      "source": [
        "### Q 22. What is the os module in Python used for in file handling?\n",
        "\n",
        ">The os module in Python allows you to interact with the operating system, enabling file and directory management, environment variable access, and process management, making it a crucial tool for file handling tasks."
      ],
      "metadata": {
        "id": "42c6jeFI_5hY"
      }
    },
    {
      "cell_type": "markdown",
      "source": [
        "### Q 23. What are the challenges associated with memory management in Python?\n",
        "\n",
        ">Python automates memory management through garbage collection and reference counting, but this abstraction can introduce several challenges:\n",
        "\n",
        ">Performance Overhead,\n",
        ">Memory Leaks,\n",
        ">Unpredictable Behavior,\n",
        ">Difficulty in Debugging,\n",
        ">Memory Fragmentation,\n",
        ">High Memory Consumption,\n",
        ">Limited Control\n"
      ],
      "metadata": {
        "id": "dXR_M9jdANdi"
      }
    },
    {
      "cell_type": "markdown",
      "source": [],
      "metadata": {
        "id": "EZTStkHkA0s4"
      }
    },
    {
      "cell_type": "markdown",
      "source": [
        "### Q 24.  How do you raise an exception manually in Python?\n",
        "\n",
        ">To manually raise an exception in Python, use the raise statement. Here is an example of how to use it: Copied! In this example, the calculate_payment function raises a ValueError exception if the payment_type is not either \"Visa\" or \"Mastercard\"."
      ],
      "metadata": {
        "id": "4P61hl7yA-zJ"
      }
    },
    {
      "cell_type": "markdown",
      "source": [
        "### Q 25. Why is it important to use multithreading in certain applications?\n",
        "\n",
        ">Multi-threading allows you to make the best use out of your existing hardware resources and also allows simple resource sharing. There are, of course, disadvantages in using multi-threaded applications. Each thread must be aware of the resources that it might be sharing with other threads in the same process."
      ],
      "metadata": {
        "id": "3MW3XEi0KMMa"
      }
    },
    {
      "cell_type": "markdown",
      "source": [
        "#Practical Questions ⭐"
      ],
      "metadata": {
        "id": "4Jyn9BZSKjyN"
      }
    },
    {
      "cell_type": "markdown",
      "source": [
        "### Q1. How can you open a file for writing in Python and write a string to it?\n",
        "\n"
      ],
      "metadata": {
        "id": "LMhvwKM6Ktm-"
      }
    },
    {
      "cell_type": "code",
      "source": [
        "# Open the file in write mode ('w')\n",
        "with open(\"example.txt\", \"w\") as file:\n",
        "    # Write a string to the file\n",
        "    file.write(\"Hello, this is a test string.\")\n"
      ],
      "metadata": {
        "id": "EtoBxiXod1Yy"
      },
      "execution_count": 32,
      "outputs": []
    },
    {
      "cell_type": "code",
      "source": [
        "with open(\"example.txt\", \"a\") as file:\n",
        "    file.write(\"\\nAppending this line.\")\n"
      ],
      "metadata": {
        "id": "OKHpolidd2_b"
      },
      "execution_count": 33,
      "outputs": []
    },
    {
      "cell_type": "markdown",
      "source": [
        "### Q2. Write a Python program to read the contents of a file and print each line?"
      ],
      "metadata": {
        "id": "w5M8gTwMeIRO"
      }
    },
    {
      "cell_type": "code",
      "source": [
        "# Open the file in read mode ('r')\n",
        "with open(\"example.txt\", \"r\") as file:\n",
        "    # Read and print each line\n",
        "    for line in file:\n",
        "        print(line.strip())  # Remove leading/trailing whitespace\n"
      ],
      "metadata": {
        "colab": {
          "base_uri": "https://localhost:8080/"
        },
        "id": "KR2Q_iFRePO-",
        "outputId": "bccbf8a3-be77-413d-efb1-c7cae0e0c8d8"
      },
      "execution_count": 5,
      "outputs": [
        {
          "output_type": "stream",
          "name": "stdout",
          "text": [
            "Hello, this is a test string.\n",
            "Appending this line.\n",
            "Appending this line.\n"
          ]
        }
      ]
    },
    {
      "cell_type": "code",
      "source": [
        "with open(\"example.txt\", \"r\") as file:\n",
        "    lines = file.readlines()  # Read all lines into a list\n",
        "    for line in lines:\n",
        "        print(line.strip())\n"
      ],
      "metadata": {
        "colab": {
          "base_uri": "https://localhost:8080/"
        },
        "id": "trEfgvmveY4w",
        "outputId": "d4d28d02-3ecd-4e12-f1b7-369be38e5dce"
      },
      "execution_count": 6,
      "outputs": [
        {
          "output_type": "stream",
          "name": "stdout",
          "text": [
            "Hello, this is a test string.\n",
            "Appending this line.\n",
            "Appending this line.\n"
          ]
        }
      ]
    },
    {
      "cell_type": "markdown",
      "source": [
        "### Q3. How would you handle a case where the file doesn't exist while trying to open it for reading?"
      ],
      "metadata": {
        "id": "d-fqyGg2ebsn"
      }
    },
    {
      "cell_type": "code",
      "source": [
        "filename = \"example.txt\"\n",
        "\n",
        "try:\n",
        "    with open(filename, \"r\") as file:\n",
        "        for line in file:\n",
        "            print(line.strip())\n",
        "except FileNotFoundError:\n",
        "    print(f\"'{filename}' not found. Creating a new file...\")\n",
        "    with open(filename, \"w\") as file:\n",
        "        file.write(\"This is a new file.\\n\")\n",
        "    print(f\"New file '{filename}' created with default content.\")\n"
      ],
      "metadata": {
        "colab": {
          "base_uri": "https://localhost:8080/"
        },
        "id": "3JrWud4jekL4",
        "outputId": "edf4610e-82b3-47aa-cac9-fd8e4571982d"
      },
      "execution_count": 7,
      "outputs": [
        {
          "output_type": "stream",
          "name": "stdout",
          "text": [
            "Hello, this is a test string.\n",
            "Appending this line.\n",
            "Appending this line.\n"
          ]
        }
      ]
    },
    {
      "cell_type": "markdown",
      "source": [
        "### Q4. Write a Python script that reads from one file and writes its content to another file?"
      ],
      "metadata": {
        "id": "5Cnq7uXmemnp"
      }
    },
    {
      "cell_type": "code",
      "source": [
        "# Define the source and destination file names\n",
        "source_file = \"source.txt\"\n",
        "destination_file = \"destination.txt\"\n",
        "\n",
        "try:\n",
        "    # Open the source file for reading and the destination file for writing\n",
        "    with open(source_file, \"r\") as src, open(destination_file, \"w\") as dest:\n",
        "        for line in src:\n",
        "            dest.write(line)  # Write each line to the destination file\n",
        "    print(f\"Contents copied from '{source_file}' to '{destination_file}'.\")\n",
        "except FileNotFoundError:\n",
        "    print(f\"Error: The file '{source_file}' does not exist.\")\n",
        "except Exception as e:\n",
        "    print(f\"An error occurred: {e}\")\n"
      ],
      "metadata": {
        "colab": {
          "base_uri": "https://localhost:8080/"
        },
        "id": "jWhYL_iFe1Rz",
        "outputId": "d6009b23-e1da-4d0a-9f85-f5cbe02eafd7"
      },
      "execution_count": 8,
      "outputs": [
        {
          "output_type": "stream",
          "name": "stdout",
          "text": [
            "Error: The file 'source.txt' does not exist.\n"
          ]
        }
      ]
    },
    {
      "cell_type": "markdown",
      "source": [
        "### Q5. How would you catch and handle division by zero error in Python?\n"
      ],
      "metadata": {
        "id": "pd1PjElBfBMd"
      }
    },
    {
      "cell_type": "code",
      "source": [
        "try:\n",
        "    num1 = int(input(\"Enter numerator: \"))\n",
        "    num2 = int(input(\"Enter denominator: \"))\n",
        "    result = num1 / num2  # This can raise a ZeroDivisionError\n",
        "    print(\"Result:\", result)\n",
        "except ZeroDivisionError:\n",
        "    print(\"Error: Division by zero is not allowed.\")\n",
        "except ValueError:\n",
        "    print(\"Error: Please enter valid numbers.\")\n"
      ],
      "metadata": {
        "colab": {
          "base_uri": "https://localhost:8080/"
        },
        "id": "QXvoVaeDfGwN",
        "outputId": "c90a3651-5c2f-41c6-d167-5c7a43a07303"
      },
      "execution_count": 10,
      "outputs": [
        {
          "output_type": "stream",
          "name": "stdout",
          "text": [
            "Enter numerator: 1\n",
            "Enter denominator: 1\n",
            "Result: 1.0\n"
          ]
        }
      ]
    },
    {
      "cell_type": "markdown",
      "source": [
        "### Q6. Write a Python program that logs an error message to a log file when a division by zero exception occurs?"
      ],
      "metadata": {
        "id": "f576Dkb-fJt9"
      }
    },
    {
      "cell_type": "code",
      "source": [
        "import logging\n",
        "\n",
        "# Configure logging to write errors to a file\n",
        "logging.basicConfig(filename=\"error.log\", level=logging.ERROR,\n",
        "                    format=\"%(asctime)s - %(levelname)s - %(message)s\")\n",
        "\n",
        "def divide_numbers():\n",
        "    try:\n",
        "        num1 = int(input(\"Enter numerator: \"))\n",
        "        num2 = int(input(\"Enter denominator: \"))\n",
        "        result = num1 / num2  # This can raise a ZeroDivisionError\n",
        "        print(\"Result:\", result)\n",
        "    except ZeroDivisionError:\n",
        "        logging.error(\"Attempted to divide by zero.\")  # Log error to file\n",
        "        print(\"Error: Division by zero is not allowed. Check 'error.log' for details.\")\n",
        "    except ValueError:\n",
        "        logging.error(\"Invalid input. Non-numeric value entered.\")\n",
        "        print(\"Error: Please enter valid numbers.\")\n",
        "\n",
        "# Run the function\n",
        "divide_numbers()\n"
      ],
      "metadata": {
        "colab": {
          "base_uri": "https://localhost:8080/"
        },
        "id": "71lnXBmWfOtn",
        "outputId": "e5aba46a-3f8e-4e54-a96a-c55a53102b46"
      },
      "execution_count": 11,
      "outputs": [
        {
          "output_type": "stream",
          "name": "stdout",
          "text": [
            "Enter numerator: 1\n",
            "Enter denominator: 2\n",
            "Result: 0.5\n"
          ]
        }
      ]
    },
    {
      "cell_type": "markdown",
      "source": [
        "###Q7.  How do you log information at different levels (INFO, ERROR, WARNING) in Python using the logging module?"
      ],
      "metadata": {
        "id": "L9Qdd_J_fr6C"
      }
    },
    {
      "cell_type": "code",
      "source": [
        "import logging\n",
        "\n",
        "# Configure logging settings\n",
        "logging.basicConfig(filename=\"app.log\", level=logging.DEBUG,\n",
        "                    format=\"%(asctime)s - %(levelname)s - %(message)s\")\n",
        "\n",
        "# Logging messages at different levels\n",
        "logging.debug(\"This is a DEBUG message.\")       # Detailed debugging info\n",
        "logging.info(\"This is an INFO message.\")        # General info about the program\n",
        "logging.warning(\"This is a WARNING message.\")   # Something unexpected but not an error\n",
        "logging.error(\"This is an ERROR message.\")      # A serious issue that needs attention\n",
        "logging.critical(\"This is a CRITICAL message.\") # A severe error that may crash the program\n",
        "\n",
        "print(\"Log messages have been written to 'app.log'.\")\n"
      ],
      "metadata": {
        "colab": {
          "base_uri": "https://localhost:8080/"
        },
        "id": "BZMWdZ_Rfvab",
        "outputId": "7e0c3e3e-aa5a-4466-8b95-7abc8fb541cd"
      },
      "execution_count": 12,
      "outputs": [
        {
          "output_type": "stream",
          "name": "stderr",
          "text": [
            "WARNING:root:This is a WARNING message.\n",
            "ERROR:root:This is an ERROR message.\n",
            "CRITICAL:root:This is a CRITICAL message.\n"
          ]
        },
        {
          "output_type": "stream",
          "name": "stdout",
          "text": [
            "Log messages have been written to 'app.log'.\n"
          ]
        }
      ]
    },
    {
      "cell_type": "markdown",
      "source": [
        "###Q8. Write a program to handle a file opening error using exception handling?"
      ],
      "metadata": {
        "id": "__u-XKMpf0HU"
      }
    },
    {
      "cell_type": "code",
      "source": [
        "def read_file(filename):\n",
        "    try:\n",
        "        with open(filename, \"r\") as file:\n",
        "            content = file.read()\n",
        "            print(\"File Contents:\\n\", content)\n",
        "    except FileNotFoundError:\n",
        "        print(f\"Error: The file '{filename}' does not exist.\")\n",
        "    except PermissionError:\n",
        "        print(f\"Error: You do not have permission to access '{filename}'.\")\n",
        "    except Exception as e:\n",
        "        print(f\"An unexpected error occurred: {e}\")\n",
        "\n",
        "# Example usage\n",
        "filename = input(\"Enter the file name: \")\n",
        "read_file(filename)\n"
      ],
      "metadata": {
        "colab": {
          "base_uri": "https://localhost:8080/"
        },
        "id": "dPkQneltf611",
        "outputId": "bac5628e-2df7-4b1b-bc37-734347939b7d"
      },
      "execution_count": 13,
      "outputs": [
        {
          "output_type": "stream",
          "name": "stdout",
          "text": [
            "Enter the file name: 1\n",
            "Error: The file '1' does not exist.\n"
          ]
        }
      ]
    },
    {
      "cell_type": "markdown",
      "source": [
        "###Q9. How can you read a file line by line and store its content in a list in Python?"
      ],
      "metadata": {
        "id": "OPCJ-76XgLRG"
      }
    },
    {
      "cell_type": "code",
      "source": [
        "def read_file_to_list(filename):\n",
        "    try:\n",
        "        with open(filename, \"r\") as file:\n",
        "            lines = file.readlines()  # Reads all lines into a list\n",
        "            return [line.strip() for line in lines]  # Remove newline characters\n",
        "    except FileNotFoundError:\n",
        "        print(f\"Error: The file '{filename}' does not exist.\")\n",
        "        return []\n",
        "    except Exception as e:\n",
        "        print(f\"An unexpected error occurred: {e}\")\n",
        "        return []\n",
        "\n",
        "# Example usage\n",
        "filename = \"example.txt\"\n",
        "lines_list = read_file_to_list(filename)\n",
        "print(lines_list)  # Output: ['First line', 'Second line', 'Third line']\n"
      ],
      "metadata": {
        "colab": {
          "base_uri": "https://localhost:8080/"
        },
        "id": "DfLlOJUZgRGY",
        "outputId": "30230e25-5e78-46d5-f7f1-5c72925b1995"
      },
      "execution_count": 14,
      "outputs": [
        {
          "output_type": "stream",
          "name": "stdout",
          "text": [
            "['Hello, this is a test string.', 'Appending this line.', 'Appending this line.']\n"
          ]
        }
      ]
    },
    {
      "cell_type": "markdown",
      "source": [
        "### Q10. How can you append data to an existing file in Python?"
      ],
      "metadata": {
        "id": "OwbbUNplgb5Z"
      }
    },
    {
      "cell_type": "code",
      "source": [
        "def append_to_file(filename, data):\n",
        "    try:\n",
        "        with open(filename, \"a\") as file:  # Open file in append mode\n",
        "            file.write(data + \"\\n\")  # Append new data with a newline\n",
        "        print(f\"Data successfully appended to '{filename}'.\")\n",
        "    except Exception as e:\n",
        "        print(f\"An error occurred: {e}\")\n",
        "\n",
        "# Example usage\n",
        "append_to_file(\"example.txt\", \"This is a new line added to the file.\")\n"
      ],
      "metadata": {
        "colab": {
          "base_uri": "https://localhost:8080/"
        },
        "id": "1872vxxBgfGp",
        "outputId": "279d8e2b-b71a-43ea-fa0c-565fa3ccd62f"
      },
      "execution_count": 15,
      "outputs": [
        {
          "output_type": "stream",
          "name": "stdout",
          "text": [
            "Data successfully appended to 'example.txt'.\n"
          ]
        }
      ]
    },
    {
      "cell_type": "markdown",
      "source": [
        "### Q11. Write a Python program that uses a try-except block to handle an error when attempting to access a dictionary key that doesn't exist?\n"
      ],
      "metadata": {
        "id": "NnY5cIfZgnCj"
      }
    },
    {
      "cell_type": "code",
      "source": [
        "def get_value(dictionary, key):\n",
        "    try:\n",
        "        value = dictionary[key]  # Attempt to access the key\n",
        "        print(f\"Value for '{key}': {value}\")\n",
        "    except KeyError:\n",
        "        print(f\"Error: The key '{key}' does not exist in the dictionary.\")\n",
        "\n",
        "# Example dictionary\n",
        "data = {\"name\": \"Alice\", \"age\": 25, \"city\": \"New York\"}\n",
        "\n",
        "# Example usage\n",
        "get_value(data, \"name\")  # Valid key\n",
        "get_value(data, \"country\")  # Missing key (will trigger exception)\n"
      ],
      "metadata": {
        "colab": {
          "base_uri": "https://localhost:8080/"
        },
        "id": "1ZCrK4EKgtLb",
        "outputId": "0e9fd394-85c9-4e95-fc07-a7d2338eb6a5"
      },
      "execution_count": 16,
      "outputs": [
        {
          "output_type": "stream",
          "name": "stdout",
          "text": [
            "Value for 'name': Alice\n",
            "Error: The key 'country' does not exist in the dictionary.\n"
          ]
        }
      ]
    },
    {
      "cell_type": "markdown",
      "source": [
        "### Q12. Write a program that demonstrates using multiple except blocks to handle different types of exceptions?"
      ],
      "metadata": {
        "id": "JaANz8Nbg4qv"
      }
    },
    {
      "cell_type": "code",
      "source": [
        "def handle_exceptions():\n",
        "    try:\n",
        "        num1 = int(input(\"Enter a number: \"))  # May raise ValueError\n",
        "        num2 = int(input(\"Enter another number: \"))  # May raise ValueError\n",
        "        result = num1 / num2  # May raise ZeroDivisionError\n",
        "        my_list = [1, 2, 3]\n",
        "        print(\"Accessing index 5:\", my_list[5])  # May raise IndexError\n",
        "\n",
        "    except ValueError:\n",
        "        print(\"Error: Invalid input! Please enter a valid integer.\")\n",
        "\n",
        "    except ZeroDivisionError:\n",
        "        print(\"Error: Division by zero is not allowed.\")\n",
        "\n",
        "    except IndexError:\n",
        "        print(\"Error: List index out of range!\")\n",
        "\n",
        "    except Exception as e:\n",
        "        print(f\"An unexpected error occurred: {e}\")\n",
        "\n",
        "# Run the function\n",
        "handle_exceptions()\n",
        ""
      ],
      "metadata": {
        "colab": {
          "base_uri": "https://localhost:8080/"
        },
        "id": "I413vYr5hCJf",
        "outputId": "3ed50693-8346-427b-f457-87ae2e3740e5"
      },
      "execution_count": 17,
      "outputs": [
        {
          "output_type": "stream",
          "name": "stdout",
          "text": [
            "Enter a number: .\n",
            "Error: Invalid input! Please enter a valid integer.\n"
          ]
        }
      ]
    },
    {
      "cell_type": "markdown",
      "source": [
        "### Q13. How would you check if a file exists before attempting to read it in Python?"
      ],
      "metadata": {
        "id": "bvUifqC-hM84"
      }
    },
    {
      "cell_type": "code",
      "source": [
        "import os\n",
        "\n",
        "filename = \"example.txt\"\n",
        "\n",
        "if os.path.exists(filename):\n",
        "    with open(filename, \"r\") as file:\n",
        "        content = file.read()\n",
        "        print(\"File content:\\n\", content)\n",
        "else:\n",
        "    print(f\"Error: The file '{filename}' does not exist.\")\n"
      ],
      "metadata": {
        "colab": {
          "base_uri": "https://localhost:8080/"
        },
        "id": "O-LMRUlqhRKw",
        "outputId": "38c992ad-9f69-475e-d32f-0c1caf917fca"
      },
      "execution_count": 18,
      "outputs": [
        {
          "output_type": "stream",
          "name": "stdout",
          "text": [
            "File content:\n",
            " Hello, this is a test string.\n",
            "Appending this line.\n",
            "Appending this line.This is a new line added to the file.\n",
            "\n"
          ]
        }
      ]
    },
    {
      "cell_type": "markdown",
      "source": [
        "### Q14. Write a program that uses the logging module to log both informational and error messages?"
      ],
      "metadata": {
        "id": "3aFkTErQhcWK"
      }
    },
    {
      "cell_type": "code",
      "source": [
        "import logging\n",
        "\n",
        "# Configure logging\n",
        "logging.basicConfig(\n",
        "    filename=\"app.log\",  # Log file name\n",
        "    level=logging.DEBUG,  # Log all messages (DEBUG, INFO, WARNING, ERROR, CRITICAL)\n",
        "    format=\"%(asctime)s - %(levelname)s - %(message)s\",  # Log message format\n",
        "    datefmt=\"%Y-%m-%d %H:%M:%S\"  # Date format\n",
        ")\n",
        "\n",
        "def divide_numbers(a, b):\n",
        "    try:\n",
        "        logging.info(f\"Attempting to divide {a} by {b}\")\n",
        "        result = a / b\n",
        "        logging.info(f\"Division successful: {a} / {b} = {result}\")\n",
        "        return result\n",
        "    except ZeroDivisionError:\n",
        "        logging.error(\"Error: Division by zero is not allowed!\")\n",
        "    except Exception as e:\n",
        "        logging.error(f\"Unexpected error: {e}\")\n",
        "\n",
        "# Example usage\n",
        "divide_numbers(10, 2)   # Logs an INFO message\n",
        "divide_numbers(5, 0)    # Logs an ERROR message\n"
      ],
      "metadata": {
        "colab": {
          "base_uri": "https://localhost:8080/"
        },
        "id": "OsXdzc8nhzvF",
        "outputId": "5c0f0da7-89b4-4a99-88ab-93727e8ecfe1"
      },
      "execution_count": 19,
      "outputs": [
        {
          "output_type": "stream",
          "name": "stderr",
          "text": [
            "ERROR:root:Error: Division by zero is not allowed!\n"
          ]
        }
      ]
    },
    {
      "cell_type": "markdown",
      "source": [
        "###Q15. Write a Python program that prints the content of a file and handles the case when the file is empty?"
      ],
      "metadata": {
        "id": "E2u44J0jh4U3"
      }
    },
    {
      "cell_type": "code",
      "source": [
        "import os\n",
        "\n",
        "def print_file_content(filename):\n",
        "    \"\"\"Reads and prints the content of a file, handling the case when the file is empty.\"\"\"\n",
        "    if not os.path.exists(filename):\n",
        "        print(f\"Error: The file '{filename}' does not exist.\")\n",
        "        return\n",
        "\n",
        "    with open(filename, \"r\") as file:\n",
        "        content = file.read()\n",
        "\n",
        "        if not content:  # Check if the file is empty\n",
        "            print(f\"The file '{filename}' is empty.\")\n",
        "        else:\n",
        "            print(f\"Content of '{filename}':\\n{content}\")\n",
        "\n",
        "# Example usage\n",
        "filename = \"example.txt\"  # Change this to the file you want to check\n",
        "print_file_content(filename)\n"
      ],
      "metadata": {
        "colab": {
          "base_uri": "https://localhost:8080/"
        },
        "id": "iGuM-d5Oh842",
        "outputId": "c1cdacfd-681a-46d6-8f37-250eed90bba0"
      },
      "execution_count": 21,
      "outputs": [
        {
          "output_type": "stream",
          "name": "stdout",
          "text": [
            "Content of 'example.txt':\n",
            "Hello, this is a test string.\n",
            "Appending this line.\n",
            "Appending this line.This is a new line added to the file.\n",
            "\n"
          ]
        }
      ]
    },
    {
      "cell_type": "markdown",
      "source": [
        "### Q16. Demonstrate how to use memory profiling to check the memory usage of a small program?"
      ],
      "metadata": {
        "id": "Yh7j7osmiA0A"
      }
    },
    {
      "cell_type": "code",
      "source": [
        "from memory_profiler import profile\n",
        "\n",
        "@profile  # This decorator tracks memory usage\n",
        "def create_large_list():\n",
        "    \"\"\"Function to create a large list and observe memory usage.\"\"\"\n",
        "    large_list = [i for i in range(1000000)]  # Creating a list with 1 million elements\n",
        "    return large_list\n",
        "\n",
        "if __name__ == \"__main__\":\n",
        "    create_large_list()\n"
      ],
      "metadata": {
        "id": "B_M0qZpFmCAD"
      },
      "execution_count": null,
      "outputs": []
    },
    {
      "cell_type": "markdown",
      "source": [
        "###Q17. Write a Python program to create and write a list of numbers to a file, one number per line?"
      ],
      "metadata": {
        "id": "oFfL3xRpiGgX"
      }
    },
    {
      "cell_type": "code",
      "source": [
        "def write_numbers_to_file(filename, numbers):\n",
        "    \"\"\"Writes a list of numbers to a file, one number per line.\"\"\"\n",
        "    with open(filename, \"w\") as file:\n",
        "        for number in numbers:\n",
        "            file.write(f\"{number}\\n\")\n",
        "    print(f\"Numbers have been written to '{filename}'.\")\n",
        "\n",
        "# Example usage\n",
        "numbers = list(range(1, 11))  # List of numbers from 1 to 10\n",
        "filename = \"numbers.txt\"\n",
        "write_numbers_to_file(filename, numbers)\n"
      ],
      "metadata": {
        "colab": {
          "base_uri": "https://localhost:8080/"
        },
        "id": "i3EPQ_rGiRZi",
        "outputId": "bc68dd3f-6720-45c0-c622-99f8f10db826"
      },
      "execution_count": 22,
      "outputs": [
        {
          "output_type": "stream",
          "name": "stdout",
          "text": [
            "Numbers have been written to 'numbers.txt'.\n"
          ]
        }
      ]
    },
    {
      "cell_type": "markdown",
      "source": [
        "###Q18. How would you implement a basic logging setup that logs to a file with rotation after 1MB?"
      ],
      "metadata": {
        "id": "SnbaZb0WiRup"
      }
    },
    {
      "cell_type": "code",
      "source": [
        "import logging\n",
        "from logging.handlers import RotatingFileHandler\n",
        "\n",
        "# Configure logging\n",
        "log_file = \"app.log\"\n",
        "\n",
        "handler = RotatingFileHandler(\n",
        "    log_file,  # Log file name\n",
        "    maxBytes=1 * 1024 * 1024,  # Rotate after 1MB (1MB = 1024 * 1024 bytes)\n",
        "    backupCount=3  # Keep the last 3 log files\n",
        ")\n",
        "\n",
        "logging.basicConfig(\n",
        "    level=logging.DEBUG,  # Log all levels (DEBUG, INFO, WARNING, ERROR, CRITICAL)\n",
        "    format=\"%(asctime)s - %(levelname)s - %(message)s\",\n",
        "    datefmt=\"%Y-%m-%d %H:%M:%S\",\n",
        "    handlers=[handler]  # Use rotating file handler\n",
        ")\n",
        "\n",
        "# Example log messages\n",
        "for i in range(10000):\n",
        "    logging.info(f\"This is log message {i}\")\n"
      ],
      "metadata": {
        "id": "MDSdUTbMiwVO"
      },
      "execution_count": 31,
      "outputs": []
    },
    {
      "cell_type": "markdown",
      "source": [
        "### Q19. Write a program that handles both IndexError and KeyError using a try-except block?"
      ],
      "metadata": {
        "id": "YgNL3C1ni0Od"
      }
    },
    {
      "cell_type": "code",
      "source": [
        "def handle_exceptions():\n",
        "    \"\"\"Handles IndexError and KeyError in a try-except block.\"\"\"\n",
        "    my_list = [10, 20, 30]\n",
        "    my_dict = {\"name\": \"Alice\", \"age\": 25}\n",
        "\n",
        "    try:\n",
        "        # Attempt to access an out-of-range index\n",
        "        print(my_list[5])  # This will raise an IndexError\n",
        "\n",
        "        # Attempt to access a non-existent dictionary key\n",
        "        print(my_dict[\"city\"])  # This will raise a KeyError\n",
        "\n",
        "    except IndexError:\n",
        "        print(\"Error: List index out of range!\")\n",
        "\n",
        "    except KeyError:\n",
        "        print(\"Error: Dictionary key not found!\")\n",
        "\n",
        "# Run the function\n",
        "handle_exceptions()\n"
      ],
      "metadata": {
        "colab": {
          "base_uri": "https://localhost:8080/"
        },
        "id": "POqtYseBjCDQ",
        "outputId": "5aa7cfa9-9677-4e00-e9e5-d6ca4a7d86d9"
      },
      "execution_count": 24,
      "outputs": [
        {
          "output_type": "stream",
          "name": "stdout",
          "text": [
            "Error: List index out of range!\n"
          ]
        }
      ]
    },
    {
      "cell_type": "markdown",
      "source": [
        "###Q20. How would you open a file and read its contents using a context manager in Python?"
      ],
      "metadata": {
        "id": "HR4_Fx7MjHL5"
      }
    },
    {
      "cell_type": "code",
      "source": [
        "def read_file(filename):\n",
        "    \"\"\"Reads a file and prints its contents using a context manager.\"\"\"\n",
        "    try:\n",
        "        with open(filename, \"r\") as file:\n",
        "            contents = file.read()\n",
        "            print(contents)\n",
        "    except FileNotFoundError:\n",
        "        print(f\"Error: The file '{filename}' was not found.\")\n",
        "    except Exception as e:\n",
        "        print(f\"An error occurred: {e}\")\n",
        "\n",
        "# Example usage\n",
        "read_file(\"example.txt\")\n"
      ],
      "metadata": {
        "colab": {
          "base_uri": "https://localhost:8080/"
        },
        "id": "FnoCZZjDjLuo",
        "outputId": "aa3680e4-4f47-499f-edc0-1e6dfa39e4dc"
      },
      "execution_count": 25,
      "outputs": [
        {
          "output_type": "stream",
          "name": "stdout",
          "text": [
            "Hello, this is a test string.\n",
            "Appending this line.\n",
            "Appending this line.This is a new line added to the file.\n",
            "\n"
          ]
        }
      ]
    },
    {
      "cell_type": "markdown",
      "source": [
        "###Q21. Write a Python program that reads a file and prints the number of occurrences of a specific word?"
      ],
      "metadata": {
        "id": "z2mZWUypjOK5"
      }
    },
    {
      "cell_type": "code",
      "source": [
        "def count_word_occurrences(filename, word):\n",
        "    \"\"\"Reads a file and counts the occurrences of a specific word.\"\"\"\n",
        "    try:\n",
        "        with open(filename, \"r\", encoding=\"utf-8\") as file:\n",
        "            content = file.read().lower()  # Read and convert to lowercase\n",
        "            word_count = content.split().count(word.lower())  # Count occurrences\n",
        "            print(f\"The word '{word}' appears {word_count} times in '{filename}'.\")\n",
        "    except FileNotFoundError:\n",
        "        print(f\"Error: The file '{filename}' was not found.\")\n",
        "    except Exception as e:\n",
        "        print(f\"An error occurred: {e}\")\n",
        "\n",
        "# Example usage\n",
        "filename = \"example.txt\"\n",
        "word_to_count = \"python\"\n",
        "count_word_occurrences(filename, word_to_count)\n"
      ],
      "metadata": {
        "colab": {
          "base_uri": "https://localhost:8080/"
        },
        "id": "jKT_PpD8jaCU",
        "outputId": "b6ec785f-541a-4203-8515-e7fa5b17301e"
      },
      "execution_count": 26,
      "outputs": [
        {
          "output_type": "stream",
          "name": "stdout",
          "text": [
            "The word 'python' appears 0 times in 'example.txt'.\n"
          ]
        }
      ]
    },
    {
      "cell_type": "markdown",
      "source": [
        "###Q22. How can you check if a file is empty before attempting to read its contents?"
      ],
      "metadata": {
        "id": "xppQH_Aljc0D"
      }
    },
    {
      "cell_type": "code",
      "source": [
        "import os\n",
        "\n",
        "def is_file_empty(filename):\n",
        "    \"\"\"Checks if a file is empty before reading.\"\"\"\n",
        "    if os.path.exists(filename) and os.path.getsize(filename) == 0:\n",
        "        print(f\"'{filename}' is empty.\")\n",
        "        return True\n",
        "    return False\n",
        "\n",
        "filename = \"example.txt\"\n",
        "if not is_file_empty(filename):\n",
        "    with open(filename, \"r\") as file:\n",
        "        print(file.read())  # Read and print the content\n"
      ],
      "metadata": {
        "colab": {
          "base_uri": "https://localhost:8080/"
        },
        "id": "AIiKaj53jhQl",
        "outputId": "1f815aa6-2531-458a-feef-985f64a061ca"
      },
      "execution_count": 27,
      "outputs": [
        {
          "output_type": "stream",
          "name": "stdout",
          "text": [
            "Hello, this is a test string.\n",
            "Appending this line.\n",
            "Appending this line.This is a new line added to the file.\n",
            "\n"
          ]
        }
      ]
    },
    {
      "cell_type": "markdown",
      "source": [
        "###Q23. Write a Python program that writes to a log file when an error occurs during file handling?"
      ],
      "metadata": {
        "id": "GdVDf4yejnyl"
      }
    },
    {
      "cell_type": "code",
      "source": [
        "import logging\n",
        "\n",
        "# Configure logging to write errors to a file\n",
        "logging.basicConfig(\n",
        "    filename=\"file_errors.log\",\n",
        "    level=logging.ERROR,\n",
        "    format=\"%(asctime)s - %(levelname)s - %(message)s\"\n",
        ")\n",
        "\n",
        "def read_file(filename):\n",
        "    \"\"\"Attempts to read a file and logs an error if it fails.\"\"\"\n",
        "    try:\n",
        "        with open(filename, \"r\") as file:\n",
        "            return file.read()\n",
        "    except FileNotFoundError:\n",
        "        logging.error(f\"File '{filename}' not found.\")\n",
        "        print(f\"Error: The file '{filename}' does not exist. Check the log for details.\")\n",
        "    except PermissionError:\n",
        "        logging.error(f\"Permission denied for file '{filename}'.\")\n",
        "        print(f\"Error: Permission denied for '{filename}'. Check the log for details.\")\n",
        "    except Exception as e:\n",
        "        logging.error(f\"An unexpected error occurred while handling '{filename}': {e}\")\n",
        "        print(f\"An unexpected error occurred. Check the log for details.\")\n",
        "\n",
        "# Example Usage\n",
        "filename = \"example.txt\"  # Change this to a non-existing file to test error logging\n",
        "read_file(filename)\n"
      ],
      "metadata": {
        "colab": {
          "base_uri": "https://localhost:8080/",
          "height": 36
        },
        "id": "4bjXqrS_jtMF",
        "outputId": "69737e54-6c96-4365-be31-d492736a564b"
      },
      "execution_count": 28,
      "outputs": [
        {
          "output_type": "execute_result",
          "data": {
            "text/plain": [
              "'Hello, this is a test string.\\nAppending this line.\\nAppending this line.This is a new line added to the file.\\n'"
            ],
            "application/vnd.google.colaboratory.intrinsic+json": {
              "type": "string"
            }
          },
          "metadata": {},
          "execution_count": 28
        }
      ]
    }
  ]
}