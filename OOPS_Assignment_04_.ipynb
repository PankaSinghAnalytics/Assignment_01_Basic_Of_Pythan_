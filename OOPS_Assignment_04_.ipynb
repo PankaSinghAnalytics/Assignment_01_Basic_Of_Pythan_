{
  "nbformat": 4,
  "nbformat_minor": 0,
  "metadata": {
    "colab": {
      "provenance": []
    },
    "kernelspec": {
      "name": "python3",
      "display_name": "Python 3"
    },
    "language_info": {
      "name": "python"
    }
  },
  "cells": [
    {
      "cell_type": "markdown",
      "source": [
        "# **Assignment 04 OOPS** ⭐\n",
        "\n"
      ],
      "metadata": {
        "id": "Q04hgj50lC3T"
      }
    },
    {
      "cell_type": "markdown",
      "source": [
        "### Q1.  What is Object-Oriented Programming (OOP)?\n",
        "\n",
        ">Object-Oriented Programming (OOP) is a programming paradigm based on the concept of objects, which can contain data (in the form of fields, often called attributes or properties) and methods (functions that operate on the data). OOP is designed to improve code reusability, scalability, and maintainability."
      ],
      "metadata": {
        "id": "cSUz5uP7lMZk"
      }
    },
    {
      "cell_type": "markdown",
      "source": [
        "### Q2. What is a class in OOP?\n",
        "\n",
        ">Class: The class is a user-defined data structure that combines the methods and data members into a single\n",
        "entity. For the production of objects, classes serve as blueprints or code templates. You can make as many\n",
        "objects as you desire using a class."
      ],
      "metadata": {
        "id": "LJQ9QEn7o6TU"
      }
    },
    {
      "cell_type": "markdown",
      "source": [
        "### Q3.  What is an object in OOP?\n",
        "\n",
        ">Object: An instance of a class is an object. It consists of a set of methods and attributes. Actions are carried out using a class's object. Objects have two qualities: They exhibit states and actions. (The object is equipped with properties and methods) Methods represent its behaviour, while attributes represent its state. We can alter its status by using its techniques."
      ],
      "metadata": {
        "id": "AVkdNdh6pY0A"
      }
    },
    {
      "cell_type": "markdown",
      "source": [
        "### Q4. What is the difference between abstraction and encapsulation?\n",
        "\n",
        ">Abstraction is a process of hiding the implementation details of a system from the user, and only the functional details will be available to the user end. On the other hand, Encapsulation is a method of wrapping up the data and code acting on the data into a single unit.\n",
        "\n"
      ],
      "metadata": {
        "id": "z1EV9tJsp_Iu"
      }
    },
    {
      "cell_type": "markdown",
      "source": [
        "### Q5.What are dunder methods in Python?\n",
        "\n",
        ">Dunder methods, also known as magic methods or special methods, in Python are special reserved methods that are surrounded by double underscores (i.e., __method__). These methods allow you to define how instances of your classes behave when they are used with built-in Python functions or operators. Understanding dunder methods is crucial for creating custom objects that behave like built-in types or implementing operator overloading in Python."
      ],
      "metadata": {
        "id": "eLKXCbYBrJFK"
      }
    },
    {
      "cell_type": "markdown",
      "source": [
        "### Q6. Explain the concept of inheritance in OOP?\n",
        "\n",
        ">Inheritance: Inheritance plays a significant role in an object-oriented programming language. Inheritance in Python refers to the process of a child class receiving the parent class's properties. The reuse of code is inheritance's main goal. Instead of starting from scratch when developing a new class, we can use the existing class instead of re-creating it from scratch."
      ],
      "metadata": {
        "id": "bMBb7apnrnBC"
      }
    },
    {
      "cell_type": "markdown",
      "source": [
        "### Q7. What is polymorphism in OOP?\n",
        "\n",
        ">Polymorphism in Python: In OOP, polymorphism refers to an object's capacity to assume several forms. Simply said, polymorphism enables us to carry out a single activity in a variety of ways From the Greek words poly (many) and morphism (forms), we get polymorphism. Polymorphism is the\n",
        "capacity to assume several shapes."
      ],
      "metadata": {
        "id": "zimsX_4ks76u"
      }
    },
    {
      "cell_type": "markdown",
      "source": [
        "### Q8. How is encapsulation achieved in Python?\n",
        "\n",
        ">Encapsulation can be achieved by Declaring all the variables in the class as private and writing public methods in the class to set and get the values of variables. It is more defined with the setter and getter method.\n",
        "\n"
      ],
      "metadata": {
        "id": "lzdL9KJmtwsw"
      }
    },
    {
      "cell_type": "markdown",
      "source": [
        "### Q9. What is a constructor in Python?\n",
        "\n",
        ">In Python, a constructor is a special method that is called when an object is created. Its purpose is to assign values ​​to data members within the class while initializing the object. The name of the constructor method is always __init__."
      ],
      "metadata": {
        "id": "_wl16BkPu-Uc"
      }
    },
    {
      "cell_type": "markdown",
      "source": [
        "### Q10.  What are class and static methods in Python?\n",
        "\n",
        ">A class method can access or modify the class state, whereas a static method cannot access or modify it. Generally, static methods do not have any knowledge about the class state. They are utility-type methods that take some parameters and operate on them. On the other hand, class methods must have the class as a parameter."
      ],
      "metadata": {
        "id": "vfOt8Fg_vtQH"
      }
    },
    {
      "cell_type": "markdown",
      "source": [
        "### Q11. What is method overloading in Python?\n",
        "\n",
        ">Method overriding in Python occurs when a child class defines a method that has the same name and parameters as a method in its parent class. The child class method overrides or replaces the parent class method when called on an instance of the child class."
      ],
      "metadata": {
        "id": "T7xdwsNKxNzb"
      }
    },
    {
      "cell_type": "markdown",
      "source": [
        "### Q12. What is method overriding in OOP?\n",
        "\n",
        ">Method overriding is a mechanism in OOP that allows a subclass to provide a specific implementation for a method that is already defined in its superclass. In other words, when a subclass defines a method with the same name and signature as a method in its superclass, it overrides the behavior of that method."
      ],
      "metadata": {
        "id": "7U3rKwTSxzx9"
      }
    },
    {
      "cell_type": "markdown",
      "source": [
        "### Q13. What is a property decorator in Python?\n",
        "\n",
        "\n",
        ">The decorator is a built-in Python decorator that allows you to turn class methods into properties in a way that's both elegant and user-friendly."
      ],
      "metadata": {
        "id": "3rGANiAtyICX"
      }
    },
    {
      "cell_type": "markdown",
      "source": [
        "### Q14. Why is polymorphism important in OOP?\n",
        "\n",
        ">Polymorphism is used in OOP to allow developers to write more efficient code and redefine methods for derived classes; however, it could raise real-time performance issues."
      ],
      "metadata": {
        "id": "S_AWHGQ6yimu"
      }
    },
    {
      "cell_type": "markdown",
      "source": [
        "### Q15. What is an abstract class in Python?\n",
        "\n",
        ">Abstract classes can specify properties that subclasses must implement in addition to methods. This feature enables developers to impose a uniform interface for properties that subclasses must declare in addition to methods"
      ],
      "metadata": {
        "id": "tiAqIGsDzBt-"
      }
    },
    {
      "cell_type": "markdown",
      "source": [
        "### Q16. What are the advantages of OOP?\n",
        "\n",
        ">OOPs simplifies software development by organizing code into reusable, modular, and scalable components. Its features, such as encapsulation, inheritance, and polymorphism, improve code maintainability, security, and efficiency."
      ],
      "metadata": {
        "id": "toO5_8dZzSxm"
      }
    },
    {
      "cell_type": "markdown",
      "source": [
        "### Q17.  What is the difference between a class variable and an instance variable?\n",
        "\n",
        "\n",
        ">Class Variable: Shared among all instances of a class, defined outside methods inside the class, and modified at the class level.\n",
        "\n",
        ">Instance Variable: Unique to each instance, defined inside the __init__ method, and modified per object."
      ],
      "metadata": {
        "id": "-1m92e6e0AUK"
      }
    },
    {
      "cell_type": "markdown",
      "source": [
        "### Q18. What is multiple inheritance in Python?\n",
        "\n",
        ">Multiple inheritance allows classes to inherit and combine the behavior of multiple parent classes, providing flexibility in designing complex class hierarchies. However, it’s important to carefully consider the design and potential complexities that can arise when using multiple inheritance."
      ],
      "metadata": {
        "id": "d3n-6OXE1mL0"
      }
    },
    {
      "cell_type": "markdown",
      "source": [
        "### Q19. Explain the purpose of ‘’__str__’ and ‘__repr__’ ‘ methods in Python?\n",
        "\n",
        ">__str__(self): This method is called when the str() function is used on an instance of the class. It should return a string representation of the object.\n",
        "\n",
        ">__repr__(self): This method is called when the repr() function is used on an instance of the class. It should return an unambiguous string representation of the object, which can be used to recreate the\n",
        "object."
      ],
      "metadata": {
        "id": "6wJHE8ja2RI_"
      }
    },
    {
      "cell_type": "markdown",
      "source": [
        "### Q20. What is the significance of the ‘super()’ function in Python?\n",
        "\n",
        "> We use functions in programming to bundle a set of instructions that you want to use repeatedly or that, because of their complexity, are better self-contained in a sub-program and called when needed. That means that a function is a piece of code written to carry out a specified task."
      ],
      "metadata": {
        "id": "WrthHE7L21hM"
      }
    },
    {
      "cell_type": "markdown",
      "source": [
        "### Q21. What is the significance of the __del__ method in Python?\n",
        "\n",
        "\n",
        ">The __del__ method exists to release any resources held by an object when that object is deleted. The __del__ is called only by the garbage collector which may call it after an indefinite delay or never. Consequently, __del__ method should not be relied on to release resources, such as file descriptors"
      ],
      "metadata": {
        "id": "V-tN7_AE3eMK"
      }
    },
    {
      "cell_type": "markdown",
      "source": [
        "### Q22. What is the difference between @staticmethod and @classmethod in Python?\n",
        "\n",
        ">The main difference between static and instance methods is: Static method: This method belongs to the class and can be called without creating an object. Instance method: This method belongs to an object and requires an object to be called."
      ],
      "metadata": {
        "id": "lQgkZmeS4dqe"
      }
    },
    {
      "cell_type": "markdown",
      "source": [
        "### Q23. How does polymorphism work in Python with inheritance?\n",
        "\n",
        "\n",
        ">Polymorphism allows different classes to use the same method name but execute different behaviors. In inheritance, polymorphism enables a child class to override a method from the parent class while keeping the method name the same."
      ],
      "metadata": {
        "id": "blVYBPdS46Wz"
      }
    },
    {
      "cell_type": "markdown",
      "source": [
        "### Q24. What is method chaining in Python OOP?\n",
        "\n",
        ">Method chaining refers to calling multiple methods sequentially on the same object in a single expression. Each method call returns an object, often the same object (modified or not), allowing the subsequent method to operate on that object."
      ],
      "metadata": {
        "id": "vL27ujr35eUE"
      }
    },
    {
      "cell_type": "markdown",
      "source": [
        "### Q25. What is the purpose of the __call__ method in Python?\n",
        "\n",
        ">__call__() is to turn your instances into callable objects. In other words, its purpose is to create objects that you can call as you would call a regular function. Most Python classes don't implement this method. Your custom classes will have it only if you need to use your instances as functions."
      ],
      "metadata": {
        "id": "Ymtev5uK5u6X"
      }
    },
    {
      "cell_type": "markdown",
      "source": [
        "#**Practical** **Questions** ⭐"
      ],
      "metadata": {
        "id": "JqhMt75l6npc"
      }
    },
    {
      "cell_type": "markdown",
      "source": [
        "### Q1.Create a parent class Animal with a method speak() that prints a generic message. Create a child class Dog that overrides the speak() method to print \"Bark!\"?"
      ],
      "metadata": {
        "id": "WUb2B6sh7BXn"
      }
    },
    {
      "cell_type": "code",
      "source": [
        "class Animal:\n",
        "    def speak(self):\n",
        "        print(\"Animal makes a sound\")\n",
        "\n",
        "class Dog(Animal):\n",
        "    def speak(self):\n",
        "        print(\"Bark!\")\n",
        "\n",
        "\n",
        "animal = Animal()\n",
        "dog = Dog()\n",
        "\n",
        "animal.speak()\n",
        "dog.speak()"
      ],
      "metadata": {
        "colab": {
          "base_uri": "https://localhost:8080/"
        },
        "id": "92oUKfXn7Zeu",
        "outputId": "f70a03ef-7f21-4e27-f656-5a1adf18ba39"
      },
      "execution_count": null,
      "outputs": [
        {
          "output_type": "stream",
          "name": "stdout",
          "text": [
            "Animal makes a sound\n",
            "Bark!\n"
          ]
        }
      ]
    },
    {
      "cell_type": "markdown",
      "source": [
        "### Q2.  Write a program to create an abstract class Shape with a method area(). Derive classes Circle and Rectangle from it and implement the area() method in both?"
      ],
      "metadata": {
        "id": "QtJjpnEK7tWc"
      }
    },
    {
      "cell_type": "code",
      "source": [
        "from abc import ABC, abstractmethod\n",
        "import math\n",
        "\n",
        "\n",
        "class Shape(ABC):\n",
        "    @abstractmethod\n",
        "    def area(self):\n",
        "        pass\n",
        "\n",
        "class Circle(Shape):\n",
        "    def __init__(self, radius):\n",
        "        self.radius = radius\n",
        "\n",
        "    def area(self):\n",
        "        return math.pi * self.radius ** 2\n",
        "\n",
        "class Rectangle(Shape):\n",
        "    def __init__(self, length, width):\n",
        "        self.length = length\n",
        "        self.width = width\n",
        "\n",
        "    def area(self):\n",
        "        return self.length * self.width\n",
        "\n",
        "circle = Circle(5)\n",
        "rectangle = Rectangle(4, 6)\n",
        "\n",
        "\n",
        "print(\"Circle Area:\", circle.area())\n",
        "print(\"Rectangle Area:\", rectangle.area())\n"
      ],
      "metadata": {
        "id": "MbSGY4xU75Pt"
      },
      "execution_count": null,
      "outputs": []
    },
    {
      "cell_type": "markdown",
      "source": [
        "### Q3. Implement a multi-level inheritance scenario where a class Vehicle has an attribute type. Derive a class Car and further derive a class ElectricCar that adds a battery attribute ?"
      ],
      "metadata": {
        "id": "Pjifxdm_pYE2"
      }
    },
    {
      "cell_type": "code",
      "source": [
        "class Vehicle:\n",
        "    def __init__(self, vehicle_type):\n",
        "        self.vehicle_type = vehicle_type\n",
        "\n",
        "    def display_info(self):\n",
        "        print(f\"Vehicle Type: {self.vehicle_type}\")\n",
        "\n",
        "class Car(Vehicle):\n",
        "    def __init__(self, brand, model, vehicle_type=\"Car\"):\n",
        "        super().__init__(vehicle_type)\n",
        "        self.brand = brand\n",
        "        self.model = model\n",
        "\n",
        "    def display_info(self):\n",
        "        super().display_info()\n",
        "        print(f\"Brand: {self.brand}, Model: {self.model}\")\n",
        "\n",
        "class ElectricCar(Car):\n",
        "    def __init__(self, brand, model, battery_capacity, vehicle_type=\"Electric Car\"):\n",
        "        super().__init__(brand, model, vehicle_type)\n",
        "        self.battery_capacity = battery_capacity\n",
        "\n",
        "    def display_info(self):\n",
        "        super().display_info()\n",
        "        print(f\"Battery Capacity: {self.battery_capacity} kWh\")\n",
        "\n",
        "\n",
        "ev = ElectricCar(\"Tata\", \"Model S\", 100)\n",
        "ev.display_info()\n"
      ],
      "metadata": {
        "colab": {
          "base_uri": "https://localhost:8080/"
        },
        "id": "P0C8OmFMpilP",
        "outputId": "2a952d2f-b49e-4bd1-b983-44d8bcbc9095"
      },
      "execution_count": 3,
      "outputs": [
        {
          "output_type": "stream",
          "name": "stdout",
          "text": [
            "Vehicle Type: Electric Car\n",
            "Brand: Tata, Model: Model S\n",
            "Battery Capacity: 100 kWh\n"
          ]
        }
      ]
    },
    {
      "cell_type": "markdown",
      "source": [
        "### Q4. Demonstrate polymorphism by creating a base class Bird with a method fly(). Create two derived classes Sparrow and Penguin that override the fly() method?\n"
      ],
      "metadata": {
        "id": "APiOzGLxp6is"
      }
    },
    {
      "cell_type": "code",
      "source": [
        "class Bird:\n",
        "    def fly(self):\n",
        "        print(\"Birds can generally fly.\")\n",
        "\n",
        "class Sparrow(Bird):\n",
        "    def fly(self):\n",
        "        print(\"Sparrows can fly high in the sky.\")\n",
        "\n",
        "class Penguin(Bird):\n",
        "    def fly(self):\n",
        "        print(\"Penguins cannot fly, but they swim very well.\")\n",
        "\n",
        "def show_flight_ability(bird):\n",
        "    bird.fly()\n",
        "\n",
        "sparrow = Sparrow()\n",
        "penguin = Penguin()\n",
        "\n",
        "show_flight_ability(sparrow)\n",
        "show_flight_ability(penguin)\n"
      ],
      "metadata": {
        "colab": {
          "base_uri": "https://localhost:8080/"
        },
        "id": "9WbY6_1sqGJL",
        "outputId": "28a54d90-3f38-44f0-8cc7-cd1292eec219"
      },
      "execution_count": 4,
      "outputs": [
        {
          "output_type": "stream",
          "name": "stdout",
          "text": [
            "Sparrows can fly high in the sky.\n",
            "Penguins cannot fly, but they swim very well.\n"
          ]
        }
      ]
    },
    {
      "cell_type": "markdown",
      "source": [
        "### Q5. Write a program to demonstrate encapsulation by creating a class BankAccount with private attributes balance and methods to deposit, withdraw, and check balance?"
      ],
      "metadata": {
        "id": "6fIq-pqJqPMW"
      }
    },
    {
      "cell_type": "code",
      "source": [
        "class BankAccount:\n",
        "    def __init__(self, account_holder, initial_balance=0):\n",
        "        self.account_holder = account_holder\n",
        "        self.__balance = initial_balance\n",
        "\n",
        "    def deposit(self, amount):\n",
        "        if amount > 0:\n",
        "            self.__balance += amount\n",
        "            print(f\"Deposited {amount}. New balance: {self.__balance}\")\n",
        "        else:\n",
        "            print(\"Deposit amount must be positive.\")\n",
        "\n",
        "    def withdraw(self, amount):\n",
        "        if amount > 0 and amount <= self.__balance:\n",
        "            self.__balance -= amount\n",
        "            print(f\"Withdrawn {amount}. Remaining balance: {self.__balance}\")\n",
        "        elif amount > self.__balance:\n",
        "            print(\"Insufficient balance!\")\n",
        "        else:\n",
        "            print(\"Withdrawal amount must be positive.\")\n",
        "\n",
        "    def check_balance(self):\n",
        "        print(f\"Account Balance: ${self.__balance}\")\n",
        "\n",
        "account = BankAccount(\"John Doe\", 1000)\n",
        "\n",
        "account.deposit(500)\n",
        "account.withdraw(300)"
      ],
      "metadata": {
        "colab": {
          "base_uri": "https://localhost:8080/"
        },
        "id": "GMwliR5kqY0f",
        "outputId": "813c7df6-0a84-4133-88ca-3115bb807194"
      },
      "execution_count": 6,
      "outputs": [
        {
          "output_type": "stream",
          "name": "stdout",
          "text": [
            "Deposited 500. New balance: 1500\n",
            "Withdrawn 300. Remaining balance: 1200\n"
          ]
        }
      ]
    },
    {
      "cell_type": "markdown",
      "source": [
        "### Q6. Demonstrate runtime polymorphism using a method play() in a base class Instrument. Derive classes Guitar and Piano that implement their own version of play()?"
      ],
      "metadata": {
        "id": "e8dRDsa_qye6"
      }
    },
    {
      "cell_type": "code",
      "source": [
        "class Instrument:\n",
        "    def play(self):\n",
        "        print(\"Playing an instrument.\")\n",
        "\n",
        "class Guitar(Instrument):\n",
        "    def play(self):\n",
        "        print(\"Strumming the guitar.\")\n",
        "\n",
        "class Piano(Instrument):\n",
        "    def play(self):\n",
        "        print(\"Playing the piano keys.\")\n",
        "\n",
        "def start_playing(instrument):\n",
        "    instrument.play()\n",
        "\n",
        "guitar = Guitar()\n",
        "piano = Piano()\n",
        "\n",
        "start_playing(guitar)\n",
        "start_playing(piano)\n"
      ],
      "metadata": {
        "colab": {
          "base_uri": "https://localhost:8080/"
        },
        "id": "mXUa5Atsqxua",
        "outputId": "72dfd9f7-8485-4b4a-930f-43e92052e293"
      },
      "execution_count": 7,
      "outputs": [
        {
          "output_type": "stream",
          "name": "stdout",
          "text": [
            "Strumming the guitar.\n",
            "Playing the piano keys.\n"
          ]
        }
      ]
    },
    {
      "cell_type": "markdown",
      "source": [
        "### Q7. Create a class MathOperations with a class method add_numbers() to add two numbers and a static method subtract_numbers() to subtract two numbers?"
      ],
      "metadata": {
        "id": "XwuT2x_UrPYW"
      }
    },
    {
      "cell_type": "code",
      "source": [
        "class MathOperations:\n",
        "    @classmethod\n",
        "    def add_numbers(cls, a, b):\n",
        "        \"\"\"Class method to add two numbers\"\"\"\n",
        "        return a + b\n",
        "\n",
        "    @staticmethod\n",
        "    def subtract_numbers(a, b):\n",
        "        \"\"\"Static method to subtract two numbers\"\"\"\n",
        "        return a - b\n",
        "\n",
        "sum_result = MathOperations.add_numbers(10, 5)\n",
        "difference_result = MathOperations.subtract_numbers(10, 5)\n",
        "\n",
        "print(f\"Sum: {sum_result}\")\n",
        "print(f\"Difference: {difference_result}\")\n"
      ],
      "metadata": {
        "colab": {
          "base_uri": "https://localhost:8080/"
        },
        "id": "P2BAL5Qbrcxv",
        "outputId": "395f344b-adf4-4b2e-a946-8c19f8c2964e"
      },
      "execution_count": 8,
      "outputs": [
        {
          "output_type": "stream",
          "name": "stdout",
          "text": [
            "Sum: 15\n",
            "Difference: 5\n"
          ]
        }
      ]
    },
    {
      "cell_type": "markdown",
      "source": [
        "###Q8. Implement a class Person with a class method to count the total number of persons created?"
      ],
      "metadata": {
        "id": "jo4EGP7Vriao"
      }
    },
    {
      "cell_type": "code",
      "source": [
        "class Person:\n",
        "    count = 0\n",
        "\n",
        "    def __init__(self, name):\n",
        "        self.name = name\n",
        "        Person.count += 1\n",
        "\n",
        "    @classmethod\n",
        "    def total_persons(cls):\n",
        "        \"\"\"Class method to return the total number of persons created\"\"\"\n",
        "        return cls.count\n",
        "\n",
        "\n",
        "p1 = Person(\"Alice\")\n",
        "p2 = Person(\"Bob\")\n",
        "p3 = Person(\"Charlie\")\n",
        "\n",
        "print(f\"Total persons created: {Person.total_persons()}\")\n"
      ],
      "metadata": {
        "colab": {
          "base_uri": "https://localhost:8080/"
        },
        "id": "ezmD_r03rwaa",
        "outputId": "506d6766-c176-4e1a-d273-f2eacb2188ff"
      },
      "execution_count": 9,
      "outputs": [
        {
          "output_type": "stream",
          "name": "stdout",
          "text": [
            "Total persons created: 3\n"
          ]
        }
      ]
    },
    {
      "cell_type": "markdown",
      "source": [
        "### Q9. Write a class Fraction with attributes numerator and denominator. Override the str method to display the fraction as \"numerator/denominator\"?\n"
      ],
      "metadata": {
        "id": "m-8wDh2Br4r7"
      }
    },
    {
      "cell_type": "code",
      "source": [
        "class Fraction:\n",
        "    def __init__(self, numerator, denominator):\n",
        "        if denominator == 0:\n",
        "            raise ValueError(\"Denominator cannot be zero.\")\n",
        "        self.numerator = numerator\n",
        "        self.denominator = denominator\n",
        "\n",
        "    def __str__(self):\n",
        "        \"\"\"Overrides the str method to display the fraction\"\"\"\n",
        "        return f\"{self.numerator}/{self.denominator}\"\n",
        "\n",
        "fraction1 = Fraction(3, 4)\n",
        "fraction2 = Fraction(5, 8)\n",
        "\n",
        "print(fraction1)\n",
        "print(fraction2)\n"
      ],
      "metadata": {
        "colab": {
          "base_uri": "https://localhost:8080/"
        },
        "id": "hYnypeKCsF6A",
        "outputId": "49944c9b-2697-40aa-f1d3-b452b20b848d"
      },
      "execution_count": 10,
      "outputs": [
        {
          "output_type": "stream",
          "name": "stdout",
          "text": [
            "3/4\n",
            "5/8\n"
          ]
        }
      ]
    },
    {
      "cell_type": "markdown",
      "source": [
        "###Q10. Demonstrate operator overloading by creating a class Vector and overriding the add method to add two vectors?"
      ],
      "metadata": {
        "id": "C-FmimmxsSoQ"
      }
    },
    {
      "cell_type": "code",
      "source": [
        "class Vector:\n",
        "    def __init__(self, x, y):\n",
        "        self.x = x\n",
        "        self.y = y\n",
        "\n",
        "    def __add__(self, other):\n",
        "        \"\"\"Overrides the + operator to add two vectors\"\"\"\n",
        "        if isinstance(other, Vector):\n",
        "            return Vector(self.x + other.x, self.y + other.y)\n",
        "        raise TypeError(\"Operand must be of type Vector\")\n",
        "\n",
        "    def __str__(self):\n",
        "        \"\"\"Overrides str method to display the vector\"\"\"\n",
        "        return f\"({self.x}, {self.y})\"\n",
        "\n",
        "v1 = Vector(2, 3)\n",
        "v2 = Vector(4, 5)\n",
        "v3 = v1 + v2\n",
        "\n",
        "print(v1)\n",
        "print(v2)\n",
        "print(v3)\n"
      ],
      "metadata": {
        "colab": {
          "base_uri": "https://localhost:8080/"
        },
        "id": "M7-PGom_scNg",
        "outputId": "b8023144-07dc-4aa8-9917-24359a47207b"
      },
      "execution_count": 11,
      "outputs": [
        {
          "output_type": "stream",
          "name": "stdout",
          "text": [
            "(2, 3)\n",
            "(4, 5)\n",
            "(6, 8)\n"
          ]
        }
      ]
    },
    {
      "cell_type": "markdown",
      "source": [
        "###Q11. Create a class Person with attributes name and age. Add a method greet() that prints \"Hello, my name is {name} and I am {age} years old \" ?"
      ],
      "metadata": {
        "id": "fhQksmLmsdEw"
      }
    },
    {
      "cell_type": "code",
      "source": [
        "class Person:\n",
        "    def __init__(self, name, age):\n",
        "        self.name = name\n",
        "        self.age = age\n",
        "\n",
        "    def greet(self):\n",
        "        \"\"\"Prints a greeting message with the person's name and age\"\"\"\n",
        "        print(f\"Hello, my name is {self.name} and I am {self.age} years old.\")\n",
        "\n",
        "person1 = Person(\"Alice\", 25)\n",
        "person2 = Person(\"Bob\", 30)\n",
        "\n",
        "person1.greet()\n",
        "person2.greet()\n"
      ],
      "metadata": {
        "colab": {
          "base_uri": "https://localhost:8080/"
        },
        "id": "lovovaExslOL",
        "outputId": "146485e7-dc37-410f-f249-73ba5c387eb0"
      },
      "execution_count": 12,
      "outputs": [
        {
          "output_type": "stream",
          "name": "stdout",
          "text": [
            "Hello, my name is Alice and I am 25 years old.\n",
            "Hello, my name is Bob and I am 30 years old.\n"
          ]
        }
      ]
    },
    {
      "cell_type": "markdown",
      "source": [
        "###Q12. Implement a class Student with attributes name and grades. Create a method average_grade() to compute the average of the grades ?\n"
      ],
      "metadata": {
        "id": "5nEH2bEas28t"
      }
    },
    {
      "cell_type": "code",
      "source": [
        "class Student:\n",
        "    def __init__(self, name, grades):\n",
        "        self.name = name\n",
        "        self.grades = grades\n",
        "\n",
        "    def average_grade(self):\n",
        "        \"\"\"Computes and returns the average grade\"\"\"\n",
        "        if not self.grades:\n",
        "            return 0\n",
        "        return sum(self.grades) / len(self.grades)\n",
        "\n",
        "student1 = Student(\"Alice\", [85, 90, 78, 92])\n",
        "student2 = Student(\"Bob\", [88, 76, 95, 89, 100])\n",
        "\n",
        "print(f\"{student1.name}'s average grade: {student1.average_grade():.2f}\")\n",
        "print(f\"{student2.name}'s average grade: {student2.average_grade():.2f}\")\n"
      ],
      "metadata": {
        "colab": {
          "base_uri": "https://localhost:8080/"
        },
        "id": "jKMheaAXtIQ3",
        "outputId": "994275f3-3a9c-4773-d7e4-288e19cc82e5"
      },
      "execution_count": 13,
      "outputs": [
        {
          "output_type": "stream",
          "name": "stdout",
          "text": [
            "Alice's average grade: 86.25\n",
            "Bob's average grade: 89.60\n"
          ]
        }
      ]
    },
    {
      "cell_type": "markdown",
      "source": [
        "###Q13. Create a class Rectangle with methods set_dimensions() to set the dimensions and area() to calculate the area ?"
      ],
      "metadata": {
        "id": "u-DuRPhKtStQ"
      }
    },
    {
      "cell_type": "code",
      "source": [
        "class Rectangle:\n",
        "    def __init__(self, length=1, width=1):\n",
        "        \"\"\"Initializes the rectangle with default or given dimensions\"\"\"\n",
        "        self.length = length\n",
        "        self.width = width\n",
        "\n",
        "    def set_dimensions(self, length, width):\n",
        "        \"\"\"Sets the length and width of the rectangle\"\"\"\n",
        "        self.length = length\n",
        "        self.width = width\n",
        "\n",
        "    def area(self):\n",
        "        \"\"\"Calculates and returns the area of the rectangle\"\"\"\n",
        "        return self.length * self.width\n",
        "\n",
        "rect = Rectangle()\n",
        "print(f\"Default Area: {rect.area()}\")\n",
        "\n",
        "rect.set_dimensions(5, 10)\n",
        "print(f\"Updated Area: {rect.area()}\")\n"
      ],
      "metadata": {
        "colab": {
          "base_uri": "https://localhost:8080/"
        },
        "id": "vth6W8cftdZh",
        "outputId": "4bf930cb-47b9-4891-e1ee-90a4e0d39803"
      },
      "execution_count": 14,
      "outputs": [
        {
          "output_type": "stream",
          "name": "stdout",
          "text": [
            "Default Area: 1\n",
            "Updated Area: 50\n"
          ]
        }
      ]
    },
    {
      "cell_type": "markdown",
      "source": [
        "###Q14. Create a class Employee with a method calculate_salary() that computes the salary based on hours worked and hourly rate. Create a derived class Manager that adds a bonus to the salary ?"
      ],
      "metadata": {
        "id": "MvYVznNete_i"
      }
    },
    {
      "cell_type": "code",
      "source": [
        "class Employee:\n",
        "    def __init__(self, name, hourly_rate):\n",
        "        self.name = name\n",
        "        self.hourly_rate = hourly_rate\n",
        "\n",
        "    def calculate_salary(self, hours_worked):\n",
        "        \"\"\"Computes salary based on hours worked and hourly rate\"\"\"\n",
        "        return self.hourly_rate * hours_worked\n",
        "\n",
        "class Manager(Employee):\n",
        "    def __init__(self, name, hourly_rate, bonus):\n",
        "        super().__init__(name, hourly_rate)\n",
        "        self.bonus = bonus\n",
        "\n",
        "    def calculate_salary(self, hours_worked):\n",
        "        \"\"\"Computes salary including the bonus for managers\"\"\"\n",
        "        base_salary = super().calculate_salary(hours_worked)\n",
        "        return base_salary + self.bonus\n",
        "\n",
        "emp = Employee(\"Alice\", 20)\n",
        "manager = Manager(\"Bob\", 30, 500)\n",
        "\n",
        "print(f\"{emp.name}'s Salary: {emp.calculate_salary(40)}\")\n",
        "print(f\"{manager.name}'s Salary: {manager.calculate_salary(40)}\")\n"
      ],
      "metadata": {
        "colab": {
          "base_uri": "https://localhost:8080/"
        },
        "id": "R9qaWdqQtoga",
        "outputId": "78f22e8a-e589-4981-c471-f1e36fd3e4b9"
      },
      "execution_count": 15,
      "outputs": [
        {
          "output_type": "stream",
          "name": "stdout",
          "text": [
            "Alice's Salary: 800\n",
            "Bob's Salary: 1700\n"
          ]
        }
      ]
    },
    {
      "cell_type": "markdown",
      "source": [
        "###Q15. Create a class Product with attributes name, price, and quantity. Implement a method total_price() that calculates the total price of the product?\n"
      ],
      "metadata": {
        "id": "RKdTHJmguC5y"
      }
    },
    {
      "cell_type": "code",
      "source": [
        "class Product:\n",
        "    def __init__(self, name, price, quantity):\n",
        "        \"\"\"Initializes the product with name, price per unit, and quantity\"\"\"\n",
        "        self.name = name\n",
        "        self.price = price\n",
        "        self.quantity = quantity\n",
        "\n",
        "    def total_price(self):\n",
        "        \"\"\"Calculates and returns the total price of the product\"\"\"\n",
        "        return self.price * self.quantity\n",
        "\n",
        "\n",
        "product1 = Product(\"Laptop\", 800, 2)\n",
        "product2 = Product(\"Phone\", 500, 3)\n",
        "\n",
        "print(f\"Total price for {product1.name}: {product1.total_price()}\")\n",
        "print(f\"Total price for {product2.name}: {product2.total_price()}\")\n"
      ],
      "metadata": {
        "colab": {
          "base_uri": "https://localhost:8080/"
        },
        "id": "mDulURDuuMb3",
        "outputId": "b74b9f59-8ba0-42eb-fc57-889bd55d107c"
      },
      "execution_count": 16,
      "outputs": [
        {
          "output_type": "stream",
          "name": "stdout",
          "text": [
            "Total price for Laptop: 1600\n",
            "Total price for Phone: 1500\n"
          ]
        }
      ]
    },
    {
      "cell_type": "markdown",
      "source": [
        "###16. Create a class Animal with an abstract method sound(). Create two derived classes Cow and Sheep that implement the sound() method?"
      ],
      "metadata": {
        "id": "F7jazkSFuNFC"
      }
    },
    {
      "cell_type": "code",
      "source": [
        "from abc import ABC, abstractmethod\n",
        "\n",
        "class Animal(ABC):\n",
        "    \"\"\"Abstract base class for animals\"\"\"\n",
        "\n",
        "    @abstractmethod\n",
        "    def sound(self):\n",
        "        \"\"\"Abstract method that must be implemented by subclasses\"\"\"\n",
        "        pass\n",
        "\n",
        "class Cow(Animal):\n",
        "    def sound(self):\n",
        "        return \"Moo\"\n",
        "\n",
        "class Sheep(Animal):\n",
        "    def sound(self):\n",
        "        return \"Baa\"\n",
        "\n",
        "cow = Cow()\n",
        "sheep = Sheep()\n",
        "\n",
        "print(f\"Cow makes: {cow.sound()}\")\n",
        "print(f\"Sheep makes: {sheep.sound()}\")\n"
      ],
      "metadata": {
        "colab": {
          "base_uri": "https://localhost:8080/"
        },
        "id": "YoRQL2R6uS8Z",
        "outputId": "0d969b66-7020-414b-de43-3f4f05096259"
      },
      "execution_count": 17,
      "outputs": [
        {
          "output_type": "stream",
          "name": "stdout",
          "text": [
            "Cow makes: Moo\n",
            "Sheep makes: Baa\n"
          ]
        }
      ]
    },
    {
      "cell_type": "markdown",
      "source": [
        "###17. Create a class Book with attributes title, author, and year_published. Add a method get_book_info() that returns a formatted string with the book's details ?"
      ],
      "metadata": {
        "id": "_XLLAhYWupC8"
      }
    },
    {
      "cell_type": "code",
      "source": [
        "class Book:\n",
        "    def __init__(self, title, author, year_published):\n",
        "        \"\"\"Initializes the book with title, author, and year published\"\"\"\n",
        "        self.title = title\n",
        "        self.author = author\n",
        "        self.year_published = year_published\n",
        "\n",
        "    def get_book_info(self):\n",
        "        \"\"\"Returns a formatted string with the book's details\"\"\"\n",
        "        return f\"'{self.title}' by {self.author}, published in {self.year_published}\"\n",
        "\n",
        "\n",
        "book1 = Book(\"To Kill a Mockingbird\", \"Harper Lee\", 1960)\n",
        "book2 = Book(\"1984\", \"George Orwell\", 1949)\n",
        "\n",
        "print(book1.get_book_info())\n",
        "print(book2.get_book_info())\n"
      ],
      "metadata": {
        "colab": {
          "base_uri": "https://localhost:8080/"
        },
        "id": "T9oVGT0XutiM",
        "outputId": "a76c792c-7073-4003-ec24-219cd7969a86"
      },
      "execution_count": 19,
      "outputs": [
        {
          "output_type": "stream",
          "name": "stdout",
          "text": [
            "'To Kill a Mockingbird' by Harper Lee, published in 1960\n",
            "'1984' by George Orwell, published in 1949\n"
          ]
        }
      ]
    },
    {
      "cell_type": "markdown",
      "source": [
        "###Q18. Create a class House with attributes address and price. Create a derived class Mansion that adds an attribute number_of_rooms ?"
      ],
      "metadata": {
        "id": "ucV8woS9uzI0"
      }
    },
    {
      "cell_type": "code",
      "source": [
        "class House:\n",
        "    def __init__(self, address, price):\n",
        "        \"\"\"Initializes the house with an address and price\"\"\"\n",
        "        self.address = address\n",
        "        self.price = price\n",
        "\n",
        "    def get_details(self):\n",
        "        \"\"\"Returns details of the house\"\"\"\n",
        "        return f\"Address: {self.address}, Price: ${self.price}\"\n",
        "\n",
        "class Mansion(House):\n",
        "    def __init__(self, address, price, number_of_rooms):\n",
        "        \"\"\"Initializes the mansion with additional rooms attribute\"\"\"\n",
        "        super().__init__(address, price)\n",
        "        self.number_of_rooms = number_of_rooms\n",
        "\n",
        "    def get_details(self):\n",
        "        \"\"\"Returns details of the mansion, including number of rooms\"\"\"\n",
        "        return f\"{super().get_details()}, Number of rooms: {self.number_of_rooms}\"\n",
        "\n",
        "house = House(\"123 Main St\", 250000)\n",
        "mansion = Mansion(\"456 Luxury Ave\", 5000000, 12)\n",
        "\n",
        "print(house.get_details())\n",
        "print(mansion.get_details())\n"
      ],
      "metadata": {
        "colab": {
          "base_uri": "https://localhost:8080/"
        },
        "id": "nv8VRf1SvIpp",
        "outputId": "6e209692-fe75-491d-8fbe-ea716ae3183f"
      },
      "execution_count": 18,
      "outputs": [
        {
          "output_type": "stream",
          "name": "stdout",
          "text": [
            "Address: 123 Main St, Price: $250000\n",
            "Address: 456 Luxury Ave, Price: $5000000, Number of rooms: 12\n"
          ]
        }
      ]
    }
  ]
}