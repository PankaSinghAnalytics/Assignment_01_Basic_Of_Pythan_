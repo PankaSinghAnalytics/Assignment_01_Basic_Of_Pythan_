{
  "nbformat": 4,
  "nbformat_minor": 0,
  "metadata": {
    "colab": {
      "provenance": []
    },
    "kernelspec": {
      "name": "python3",
      "display_name": "Python 3"
    },
    "language_info": {
      "name": "python"
    }
  },
  "cells": [
    {
      "cell_type": "markdown",
      "source": [
        "#Assignment 01 Basic Of Pythan ⭕\n"
      ],
      "metadata": {
        "id": "ldqFxzNSkh0s"
      }
    },
    {
      "cell_type": "markdown",
      "source": [],
      "metadata": {
        "id": "7nCET2b9kvD1"
      }
    },
    {
      "cell_type": "markdown",
      "source": [
        "##1. What is Python, and why is it popular?\n",
        "      >>Python is a high-level, interpreted programming language known for its simplicity, readability, and versatility.\n",
        "\n",
        "      Python is popular for several reasons:\n",
        "      \n",
        "      ** Easy-to-learn - Python has few keywords, simple structure, and a clearly defined syntax. This allows the student to pick up the language quickly.\n",
        "\n",
        "      * Easy-to-read - Python code is more clearly defined and visible to the eyes.\n",
        "\n",
        "      * Easy-to-maintain - Python's source code is fairly easy-to-maintain.\n",
        "\n",
        "      * A broad standard library - Python's bulk of the library is very portable and cross-platform compatible on UNIX, Windows, and Macintosh."
      ],
      "metadata": {
        "id": "soM3pxTlk0e2"
      }
    },
    {
      "cell_type": "markdown",
      "source": [
        "#2. What is an interpreter in Python?\n",
        "    >>A Python interpreter is a program that runs Python code line by line and converts it into machine code. Unlike compiled languages (C or Java) which need a separate compilation step, Python’s interpreter runs the code directly so it’s easier to debug and test.\n",
        "\n",
        "\n",
        "\n",
        "\n",
        "    "
      ],
      "metadata": {
        "id": "7IXtc756pDyi"
      }
    },
    {
      "cell_type": "markdown",
      "source": [
        "#3. What are pre-defined keywords in Python?\n",
        "    >>In Python, keywords (also known as reserved words) are special words that have a meaning and function within the language. Python reserves these keywords and you cannot use them as identifiers (like variable names, function names or class names).\n",
        "\n",
        "    Here's a list of Python's predefined keywords:\n",
        "\n",
        "False\n",
        "None\n",
        "True\n",
        "and\n",
        "as\n",
        "assert\n",
        "break\n",
        "class\n",
        "continue\n",
        "def\n",
        "del\n",
        "elif\n",
        "else\n",
        "except\n",
        "finally\n",
        "for\n",
        "from\n",
        "global\n",
        "if\n",
        "import\n",
        "in\n",
        "is\n",
        "lambda\n",
        "nonlocal\n",
        "not\n",
        "or\n",
        "pass\n",
        "raise\n",
        "return\n",
        "try\n",
        "while\n",
        "with\n",
        "yield\n"
      ],
      "metadata": {
        "id": "SonQK8kzpBE7"
      }
    },
    {
      "cell_type": "markdown",
      "source": [
        "#4. Can keywords be used as variable names?\n",
        "    >>No, you can’t use keywords as variable names in Python. Since keywords are special words, using them as variable names will give you a syntax error.\n",
        "\n",
        "    For example\n",
        "\n",
        "\n"
      ],
      "metadata": {
        "id": "jt5GRornp-M5"
      }
    },
    {
      "cell_type": "code",
      "source": [
        "if = 500  #SyntaxError: invalid syntax\n"
      ],
      "metadata": {
        "colab": {
          "base_uri": "https://localhost:8080/",
          "height": 106
        },
        "id": "b4qIvaE4rXxH",
        "outputId": "b62888a2-f802-45bd-aaf4-c6e8e1e9e050"
      },
      "execution_count": null,
      "outputs": [
        {
          "output_type": "error",
          "ename": "SyntaxError",
          "evalue": "invalid syntax (<ipython-input-3-13abb7e09e8a>, line 1)",
          "traceback": [
            "\u001b[0;36m  File \u001b[0;32m\"<ipython-input-3-13abb7e09e8a>\"\u001b[0;36m, line \u001b[0;32m1\u001b[0m\n\u001b[0;31m    if = 500  #SyntaxError: invalid syntax\u001b[0m\n\u001b[0m       ^\u001b[0m\n\u001b[0;31mSyntaxError\u001b[0m\u001b[0;31m:\u001b[0m invalid syntax\n"
          ]
        }
      ]
    },
    {
      "cell_type": "markdown",
      "source": [
        "#5. What is mutability in Python?\n",
        "    >>Mutability refers to whether an object’s value can be changed after it is created. In Python, objects are classified into mutable (changeable) and immutable (unchangeable) types.\n",
        "\n",
        "    Examples of mutable objects:\n",
        "\n",
        "    Lists (list)\n",
        "    Dictionaries (dict)\n",
        "    Sets (set)\n"
      ],
      "metadata": {
        "id": "KPL3q-RhppL_"
      }
    },
    {
      "cell_type": "markdown",
      "source": [
        "#6. Why are lists mutable, but tuples are immutable?\n",
        "    >>Lists are mutable because they are designed to be flexible and dynamic. You often need to add, remove, or change items in a list, and mutability allows you to do this directly without creating a new list each time.\n",
        "\n",
        "    Tuples, on the other hand, are immutable because they are designed to store data that should not be changed. This can be useful for representing things like records or data that is passed between functions. Immutability also makes tuples slightly more efficient to work with than lists.\n",
        "    \n",
        "    The key difference between lists and tuples in Python is mutability:\n",
        "\n",
        "    Lists are mutable, meaning their elements can be changed, added, or removed after creation.\n",
        "    Tuples are immutable, meaning their elements cannot be changed after creation.\n",
        "    \n",
        "    Lists Are Mutable,\n",
        "    Lists allow modifications because they are dynamic data structures. They store elements in contiguous memory locations, but their size can change dynamically by allocating more memory when needed.\n",
        "\n",
        "    Example of List Mutability:\n"
      ],
      "metadata": {
        "id": "1gk44eClsW2Y"
      }
    },
    {
      "cell_type": "code",
      "source": [
        "my_list = [5, 6, 7] #list are mutable\n",
        "print(id(my_list))\n",
        "\n",
        "my_list.append(4)\n",
        "print(my_list)  # Output: [1, 2, 3, 4]\n",
        "\n",
        "print(id(my_list))  # Same memory address (Mutable)\n"
      ],
      "metadata": {
        "colab": {
          "base_uri": "https://localhost:8080/"
        },
        "id": "RUSXWfV0uNfu",
        "outputId": "0a2326cd-589f-4bd9-9dc3-bb8d5d3f697d"
      },
      "execution_count": null,
      "outputs": [
        {
          "output_type": "stream",
          "name": "stdout",
          "text": [
            "132181269589248\n",
            "[5, 6, 7, 4]\n",
            "132181269589248\n"
          ]
        }
      ]
    },
    {
      "cell_type": "markdown",
      "source": [
        "Tuples Are Immutable\n",
        "Tuples are designed to be fixed in size and read-only. They store their elements in a single memory block, optimizing memory efficiency and performance.\n",
        "\n",
        "Example of Tuple Immutability:\n"
      ],
      "metadata": {
        "id": "YQLr6xrmujJg"
      }
    },
    {
      "cell_type": "code",
      "source": [
        "my_tuple = (5, 6, 7) #tuples Are immutable\n",
        "print(id(my_tuple))\n",
        "\n",
        "\n",
        "my_tuple[0] = 100  # TypeError: 'tuple' object does not support item assignment\n",
        "."
      ],
      "metadata": {
        "colab": {
          "base_uri": "https://localhost:8080/",
          "height": 193
        },
        "id": "TZtTvEzTuuHi",
        "outputId": "31118263-cbaa-4f3b-8c44-001329f14ac4"
      },
      "execution_count": null,
      "outputs": [
        {
          "output_type": "stream",
          "name": "stdout",
          "text": [
            "132181269590144\n"
          ]
        },
        {
          "output_type": "error",
          "ename": "TypeError",
          "evalue": "'tuple' object does not support item assignment",
          "traceback": [
            "\u001b[0;31m---------------------------------------------------------------------------\u001b[0m",
            "\u001b[0;31mTypeError\u001b[0m                                 Traceback (most recent call last)",
            "\u001b[0;32m<ipython-input-4-a7318436143e>\u001b[0m in \u001b[0;36m<cell line: 0>\u001b[0;34m()\u001b[0m\n\u001b[1;32m      3\u001b[0m \u001b[0;34m\u001b[0m\u001b[0m\n\u001b[1;32m      4\u001b[0m \u001b[0;34m\u001b[0m\u001b[0m\n\u001b[0;32m----> 5\u001b[0;31m \u001b[0mmy_tuple\u001b[0m\u001b[0;34m[\u001b[0m\u001b[0;36m0\u001b[0m\u001b[0;34m]\u001b[0m \u001b[0;34m=\u001b[0m \u001b[0;36m100\u001b[0m  \u001b[0;31m# TypeError: 'tuple' object does not support item assignment\u001b[0m\u001b[0;34m\u001b[0m\u001b[0;34m\u001b[0m\u001b[0m\n\u001b[0m",
            "\u001b[0;31mTypeError\u001b[0m: 'tuple' object does not support item assignment"
          ]
        }
      ]
    },
    {
      "cell_type": "markdown",
      "source": [
        "#7. What is the difference between \"==\" and \"is\" operators in Python?\n",
        "    >>In Python, == and is operators are both used for comparison but they serve different purposes. The == operator checks for equality of values which means it evaluates whether the values of two objects are the same. On the other hand, is operator checks for identity, meaning it determines whether two variables point to the same object in memory.\n",
        "\n",
        "    == Operator\n",
        "    To compare objects based on their values, Python’s equality operators (==) are employed. It calls the left object’s __eq__() class method which specifies the criteria for determining equality. However, these constraints are typically written so that the equality operator == returns True if two objects, have the same value and returns False if both have different value.   "
      ],
      "metadata": {
        "id": "ZN6D-qBg38kQ"
      }
    },
    {
      "cell_type": "code",
      "source": [
        "x = [1, 2, 3]\n",
        "y = [1, 2, 3]\n",
        "z = x\n",
        "\n",
        "# Equality comparison (==)\n",
        "if x == y:\n",
        "    print(\"True\")\n",
        "else:\n",
        "    print(\"False\")  #x == y checks if both lists have the same values. Since both lists contain [1, 2, 3], the output will be True."
      ],
      "metadata": {
        "id": "o2M7SO9l5sHd"
      },
      "execution_count": null,
      "outputs": []
    },
    {
      "cell_type": "markdown",
      "source": [
        "‘is’ Operator\n",
        "Python identity operators (is, is not) are used to compare objects based on their identity. When the variables on either side of an operator point at the exact same object, the “is” operator’s evaluation is true. Otherwise, it would provide us with a false assessment.\n",
        "\n",
        "Code Example of == operator and ‘is’ Operator :"
      ],
      "metadata": {
        "id": "MAhz6NMJ53if"
      }
    },
    {
      "cell_type": "code",
      "source": [
        "x = [1, 2, 3]\n",
        "y = [1, 2, 3]\n",
        "z = x\n",
        "\n",
        "\n",
        "# Case 1: Identity comparison (is)\n",
        "if x is y:\n",
        "    print(\"True\")\n",
        "else:\n",
        "    print(\"False\")\n",
        "\n",
        "# Case 2: Comparing references (is)\n",
        "if x is z:\n",
        "    print(\"True\")\n",
        "else:\n",
        "    print(\"False\")"
      ],
      "metadata": {
        "id": "kNCZ3_cD6NB6"
      },
      "execution_count": null,
      "outputs": []
    },
    {
      "cell_type": "markdown",
      "source": [
        "#8. What are logical operators in Python?\n",
        "    >>Logical operators in Python are symbols or words that combine multiple conditions into a single boolean expression. The three types of logical operators in Python are:\n",
        "\n",
        "    And: Returns True if both conditions are true, and False otherwise\n",
        "    Or: Returns True if at least one condition is true, and False otherwise\n",
        "    Not: Returns the opposite boolean value of its operand\n",
        "\n",
        "    Examples\n",
        "    And: x and y returns True if both x and y are true\n",
        "    Or: a or b returns True if either a or b is true\n",
        "    Not: not z returns the opposite of the value of z"
      ],
      "metadata": {
        "id": "wElZkm6o6bSq"
      }
    },
    {
      "cell_type": "markdown",
      "source": [
        "#9. What is type casting in Python?\n",
        "    >>Type casting (also known as **type conversion**) is the process of **converting one data type into another**.  \n",
        "\n",
        "    Type Casting in Python\n",
        "\n",
        "    Type casting (also known as type conversion) in Python is the process of converting one data type into another. Python provides two types of type casting:\n",
        "\n",
        "    1. Implicit Type Casting (Automatic Conversion)\n",
        "    2. Explicit Type Casting (Manual Conversion)"
      ],
      "metadata": {
        "id": "XOIVe3zZCM9s"
      }
    },
    {
      "cell_type": "markdown",
      "source": [
        "#10. What is the difference between implicit and explicit type casting?\n",
        "    >>Implicit type casting is automatic, while explicit type casting is manual. Implicit type casting is often used to convert smaller data types to larger data types, while explicit type casting is used to convert larger data types to smaller data types.\n",
        "\n",
        "    Explanation>>\n",
        "\n",
        "    \n",
        "\n",
        "    1. Implicit Type Casting (Automatic)\n",
        "    Python automatically converts smaller data types into larger ones to prevent data loss.\n",
        "\n",
        "     Example:"
      ],
      "metadata": {
        "id": "JywzgFIiD4u1"
      }
    },
    {
      "cell_type": "code",
      "source": [
        "x = 10   # Integer\n",
        "y = 3.5  # Float\n",
        "z = x + y  # x (int) is automatically converted to float\n",
        "print(z, type(z))  # Output: 13.5 <class 'float'>\n"
      ],
      "metadata": {
        "id": "apizGZD_FDJm"
      },
      "execution_count": null,
      "outputs": []
    },
    {
      "cell_type": "code",
      "source": [
        "2. Explicit Type Casting (Manual)\n",
        "Programmers manually convert data types using functions like int(), float(), str(), list(), etc.\n",
        "\n",
        " Example:"
      ],
      "metadata": {
        "id": "OZHNBvJ4FQtv"
      },
      "execution_count": null,
      "outputs": []
    },
    {
      "cell_type": "code",
      "source": [
        "a = \"100\"  # String\n",
        "b = int(a)  # Explicitly converting string to integer\n",
        "print(b, type(b))  # Output: 100 <class 'int'>\n",
        "\n",
        "c = 10.7\n",
        "d = int(c)  # Explicitly converting float to int (decimal part is removed)\n",
        "print(d, type(d))  # Output: 10 <class 'int'>\n"
      ],
      "metadata": {
        "id": "fZfWZX6bFXFG"
      },
      "execution_count": null,
      "outputs": []
    },
    {
      "cell_type": "markdown",
      "source": [
        "#11. What is the purpose of conditional statements in Python?\n",
        "    >>Purpose of Conditional Statements in Python\n",
        "      Conditional statements in Python are used to control the flow of execution based on specific conditions. They allow a program to make decisions and execute different code blocks depending on whether a condition is True or False.\n",
        "\n",
        "      Types of Conditional Statements in Python:\n",
        "\n",
        "      if statement > Executes code only if the condition is True.\n",
        "\n",
        "      if-else statement > Provides an alternative action when the condition is False.\n",
        "\n",
        "      if-elif-else statement > Handles multiple conditions.\n",
        "\n",
        "      Nested if statement > An if inside another if for complex decision-making\n",
        "\n",
        "      Examples of Conditional Statements\n",
        "\n",
        "      >if Statement (Single Condition)"
      ],
      "metadata": {
        "id": "lrhztNz9FdPC"
      }
    },
    {
      "cell_type": "code",
      "source": [
        "age = 18\n",
        "if age >= 18:\n",
        "    print(\"You are eligible to vote.\")\n"
      ],
      "metadata": {
        "id": "zf-yV-ZeGx8z"
      },
      "execution_count": null,
      "outputs": []
    },
    {
      "cell_type": "markdown",
      "source": [
        "#12. How does the elif statement work?\n",
        "    >>The elif statement (short for \"else if\") is used when you need to check multiple conditions in a structured way. It allows the program to evaluate several conditions one by one, executing the code for the first condition that is True, and skipping the rest.\n",
        "\n",
        "     Example\n"
      ],
      "metadata": {
        "id": "Rv_kiWShG09L"
      }
    },
    {
      "cell_type": "code",
      "source": [
        "score = 75\n",
        "\n",
        "if score >= 90:\n",
        "    print(\"Grade: A\")\n",
        "elif score >= 80:\n",
        "    print(\"Grade: B\")\n",
        "elif score >= 70:\n",
        "    print(\"Grade: C\")\n",
        "elif score >= 60:\n",
        "    print(\"Grade: D\")\n",
        "else:\n",
        "    print(\"Grade: F\")\n"
      ],
      "metadata": {
        "id": "nILg-Co1HQjw"
      },
      "execution_count": null,
      "outputs": []
    },
    {
      "cell_type": "markdown",
      "source": [
        "#13. What is the difference between for and while loops?\n",
        "    >>The main difference between a for loop and a while loop is the number of times the code is repeated. A for loop is used when the number of iterations is known, while a while loop is used when the number of iterations is unknown.\n",
        "\n",
        "    Explanation >\n",
        "\n",
        "    For loop:\n",
        "\n",
        "    Used to repeat a section of code a known number of times. For example, you can use a for loop to iterate over a list, tuple, or string.\n",
        "\n",
        "    While loop:\n",
        "\n",
        "    Used to repeat a section of code an unknown number of times until a specific condition is met. For example, you can use a while loop when you don't know how many times you need your code to repeat.\n",
        "\n",
        "    >for Loop Example\n",
        "  "
      ],
      "metadata": {
        "id": "b21FoElvHgkq"
      }
    },
    {
      "cell_type": "code",
      "source": [
        "fruits = [\"apple\", \"banana\", \"cherry\"]\n",
        "for fruit in fruits:\n",
        "    print(fruit)\n"
      ],
      "metadata": {
        "id": "ERhHnU3-IDmX"
      },
      "execution_count": null,
      "outputs": []
    },
    {
      "cell_type": "markdown",
      "source": [
        ">while Loop Example"
      ],
      "metadata": {
        "id": "-_TghEANIH-O"
      }
    },
    {
      "cell_type": "code",
      "source": [
        "x = 1\n",
        "while x <= 3:\n",
        "    print(x)\n",
        "    x += 1  # Increment to prevent infinite loop\n"
      ],
      "metadata": {
        "id": "_2htyhUIIPIP"
      },
      "execution_count": null,
      "outputs": []
    },
    {
      "cell_type": "markdown",
      "source": [
        "#14. Describe a scenario where a while loop is more suitable than a for loop\n",
        "     >>A while loop is more suitable when wedon't know in advance how many times you need to repeat a task. For example, in a game where we want to keep asking the user for input until they decide to quit, a while loop would be more suitable because we don't know how many times the user will want to play."
      ],
      "metadata": {
        "id": "bYrCyQuWIQPO"
      }
    },
    {
      "cell_type": "markdown",
      "source": [
        "# **Practical Questions**  ⭕\n",
        "\n",
        "\n"
      ],
      "metadata": {
        "id": "g6yEPqm5Jxu0"
      }
    },
    {
      "cell_type": "markdown",
      "source": [
        "#1. Write a Python program to print \"Hello, World!\"\n",
        "    \n"
      ],
      "metadata": {
        "id": "RRI22n_ZKIkH"
      }
    },
    {
      "cell_type": "markdown",
      "source": [],
      "metadata": {
        "id": "LbgEvEGYSGkk"
      }
    },
    {
      "cell_type": "code",
      "source": [
        "print(\"Hello, World!\")\n"
      ],
      "metadata": {
        "colab": {
          "base_uri": "https://localhost:8080/"
        },
        "id": "scZG98GnK240",
        "outputId": "73a5e8b5-8c79-4a21-83be-be94a2999e69"
      },
      "execution_count": null,
      "outputs": [
        {
          "output_type": "stream",
          "name": "stdout",
          "text": [
            "Hello, World!\n"
          ]
        }
      ]
    },
    {
      "cell_type": "markdown",
      "source": [
        "#2. Write a Python program that displays your name and age?\n",
        "    >>\n"
      ],
      "metadata": {
        "id": "Uz4IwXZ1LI7p"
      }
    },
    {
      "cell_type": "code",
      "source": [
        "name = \"Pankaj Singh\"  # Replace with your name\n",
        "age = 25  # Replace with your age\n",
        "\n",
        "# Display the output\n",
        "print(\"My name is\", name)\n",
        "print(\"I am\", age, \"years old.\")\n"
      ],
      "metadata": {
        "colab": {
          "base_uri": "https://localhost:8080/"
        },
        "id": "X1roKFerLRvR",
        "outputId": "587e6b1f-a9c8-4e39-baef-d7642d7b8f5a"
      },
      "execution_count": null,
      "outputs": [
        {
          "output_type": "stream",
          "name": "stdout",
          "text": [
            "My name is Pankaj Singh\n",
            "I am 25 years old.\n"
          ]
        }
      ]
    },
    {
      "cell_type": "markdown",
      "source": [
        "#3. Write code to print all the pre-defined keywords in Python using the keyword library?\n",
        "    >>"
      ],
      "metadata": {
        "id": "Sxqx7WpbLbpB"
      }
    },
    {
      "cell_type": "code",
      "source": [
        "import keyword\n",
        "keywords_list = keyword.kwlist\n",
        "print(\"Python Keywords:\")\n",
        "for kw in keywords_list:\n",
        "    print(kw)\n"
      ],
      "metadata": {
        "colab": {
          "base_uri": "https://localhost:8080/"
        },
        "id": "KE3vf4i8Lo6E",
        "outputId": "3f75ca3a-7d3e-4f5d-fe1f-fee9a76e0c6b"
      },
      "execution_count": null,
      "outputs": [
        {
          "output_type": "stream",
          "name": "stdout",
          "text": [
            "Python Keywords:\n",
            "False\n",
            "None\n",
            "True\n",
            "and\n",
            "as\n",
            "assert\n",
            "async\n",
            "await\n",
            "break\n",
            "class\n",
            "continue\n",
            "def\n",
            "del\n",
            "elif\n",
            "else\n",
            "except\n",
            "finally\n",
            "for\n",
            "from\n",
            "global\n",
            "if\n",
            "import\n",
            "in\n",
            "is\n",
            "lambda\n",
            "nonlocal\n",
            "not\n",
            "or\n",
            "pass\n",
            "raise\n",
            "return\n",
            "try\n",
            "while\n",
            "with\n",
            "yield\n"
          ]
        }
      ]
    },
    {
      "cell_type": "markdown",
      "source": [
        "#4. Write a program that checks if a given word is a Python keyword?\n",
        "    >>"
      ],
      "metadata": {
        "id": "c_gGIyq7MAMu"
      }
    },
    {
      "cell_type": "code",
      "source": [
        "import keyword\n",
        "\n",
        "# Get user input\n",
        "word = input(\"Enter a word: \")\n",
        "\n",
        "# Check if it's a Python keyword\n",
        "if keyword.iskeyword(word):\n",
        "    print(f\"'{word}' is a Python keyword.\")\n",
        "else:\n",
        "    print(f\"'{word}' is NOT a Python keyword.\")\n"
      ],
      "metadata": {
        "colab": {
          "base_uri": "https://localhost:8080/"
        },
        "id": "KugjIaY0MOwY",
        "outputId": "91ecfe54-20cd-451c-957a-166be26f1ba7"
      },
      "execution_count": null,
      "outputs": [
        {
          "output_type": "stream",
          "name": "stdout",
          "text": [
            "Enter a word: pankaj\n",
            "'pankaj' is NOT a Python keyword.\n"
          ]
        }
      ]
    },
    {
      "cell_type": "code",
      "source": [
        "import keyword\n",
        "\n",
        "# Get user input\n",
        "word = input(\"Enter a word: \")\n",
        "\n",
        "# Check if it's a Python keyword\n",
        "if keyword.iskeyword(word):\n",
        "    print(f\"'{word}' is a Python keyword.\")\n",
        "else:\n",
        "    print(f\"'{word}' is NOT a Python keyword.\")\n"
      ],
      "metadata": {
        "colab": {
          "base_uri": "https://localhost:8080/"
        },
        "id": "3cBc8d42MjYk",
        "outputId": "524cd6a6-559a-4a2b-e37b-514f748f37f0"
      },
      "execution_count": null,
      "outputs": [
        {
          "output_type": "stream",
          "name": "stdout",
          "text": [
            "Enter a word: for\n",
            "'for' is a Python keyword.\n"
          ]
        }
      ]
    },
    {
      "cell_type": "markdown",
      "source": [
        "#5. Create a list and tuple in Python, and demonstrate how attempting to change an element works differently for each?\n",
        "    >>"
      ],
      "metadata": {
        "id": "X-j-r2KXMp1a"
      }
    },
    {
      "cell_type": "code",
      "source": [
        "my_list = [1, 2, 3, 4]\n",
        "print(\"Original List:\", my_list)\n",
        "\n",
        "# Modifying an element in the list\n",
        "my_list[1] = 99\n",
        "print(\"Modified List:\", my_list)\n",
        "\n",
        "# Creating a tuple (immutable)\n",
        "my_tuple = (1, 2, 3, 4)\n",
        "print(\"Original Tuple:\", my_tuple)\n"
      ],
      "metadata": {
        "colab": {
          "base_uri": "https://localhost:8080/"
        },
        "id": "_wJkgz9zM7wX",
        "outputId": "1253eac4-1949-4dda-ce60-02afddf52127"
      },
      "execution_count": null,
      "outputs": [
        {
          "output_type": "stream",
          "name": "stdout",
          "text": [
            "Original List: [1, 2, 3, 4]\n",
            "Modified List: [1, 99, 3, 4]\n",
            "Original Tuple: (1, 2, 3, 4)\n"
          ]
        }
      ]
    },
    {
      "cell_type": "markdown",
      "source": [
        "#6.Write a function to demonstrate the behavior of mutable and immutable arguments?\n",
        "    >>"
      ],
      "metadata": {
        "id": "czBeXZXMN2E8"
      }
    },
    {
      "cell_type": "code",
      "source": [
        "def modify_values(mutable_list, immutable_num):\n",
        "    # Modifying the list (mutable)\n",
        "    mutable_list.append(99)\n",
        "\n",
        "\n",
        "    immutable_num += 10  # This creates a new integer object, does not modify the original\n",
        "\n",
        "    print(\"Inside Function - List:\", mutable_list)\n",
        "    print(\"Inside Function - Number:\", immutable_num)\n",
        "\n",
        "\n",
        "my_list = [1, 2, 3]\n",
        "my_number = 10\n",
        "\n",
        "\n",
        "modify_values(my_list, my_number)\n",
        "\n",
        "print(\"Outside Function - List:\", my_list)   # List is modified\n",
        "print(\"Outside Function - Number:\", my_number)  # Number remains unchanged\n"
      ],
      "metadata": {
        "colab": {
          "base_uri": "https://localhost:8080/"
        },
        "id": "2JEaYYLUOCmW",
        "outputId": "4bd940a1-b8fe-492e-b228-ae5e14be7011"
      },
      "execution_count": null,
      "outputs": [
        {
          "output_type": "stream",
          "name": "stdout",
          "text": [
            "Inside Function - List: [1, 2, 3, 99]\n",
            "Inside Function - Number: 20\n",
            "Outside Function - List: [1, 2, 3, 99]\n",
            "Outside Function - Number: 10\n"
          ]
        }
      ]
    },
    {
      "cell_type": "markdown",
      "source": [
        "#7. Write a function to demonstrate the behavior of mutable and immutable arguments?\n",
        "    >>"
      ],
      "metadata": {
        "id": "iwCJjWg0OTUB"
      }
    },
    {
      "cell_type": "code",
      "source": [
        "def demonstrate_mutable_immutable(mutable_list, immutable_string):\n",
        "\n",
        "    mutable_list.append(\"new item\")\n",
        "\n",
        "    immutable_string += \" modified\"  # Creates a new string, does not modify the original\n",
        "\n",
        "    print(\"Inside Function - List:\", mutable_list)\n",
        "    print(\"Inside Function - String:\", immutable_string)\n",
        "\n",
        "my_list = [\"apple\", \"banana\"]\n",
        "my_string = \"Hello\"\n",
        "\n",
        "demonstrate_mutable_immutable(my_list, my_string)\n",
        "\n",
        "print(\"Outside Function - List:\", my_list)   # List is modified\n",
        "print(\"Outside Function - String:\", my_string)  # String remains unchanged\n"
      ],
      "metadata": {
        "colab": {
          "base_uri": "https://localhost:8080/"
        },
        "id": "M5Lbc6lCOS6B",
        "outputId": "0c8cdf8c-b8e0-4588-cc68-388c6f97cd2c"
      },
      "execution_count": null,
      "outputs": [
        {
          "output_type": "stream",
          "name": "stdout",
          "text": [
            "Inside Function - List: ['apple', 'banana', 'new item']\n",
            "Inside Function - String: Hello modified\n",
            "Outside Function - List: ['apple', 'banana', 'new item']\n",
            "Outside Function - String: Hello\n"
          ]
        }
      ]
    },
    {
      "cell_type": "markdown",
      "source": [
        "#8. Write a program to demonstrate the use of logical operators?\n",
        "    >>"
      ],
      "metadata": {
        "id": "BzItri7pOtkO"
      }
    },
    {
      "cell_type": "code",
      "source": [
        "\n",
        "a = True\n",
        "b = False\n",
        "\n",
        "# Logical AND\n",
        "print(\"a and b:\", a and b)  # False (since one is False)\n",
        "\n",
        "# Logical OR\n",
        "print(\"a or b:\", a or b)  # True (since one is True)\n",
        "\n",
        "# Logical NOT\n",
        "print(\"not a:\", not a)  # False (reverses True to False)\n",
        "print(\"not b:\", not b)  # True (reverses False to True)\n",
        "\n",
        "# Using logical operators in conditions\n",
        "x = 10\n",
        "y = 5\n",
        "\n",
        "print(\"\\nChecking Conditions:\")\n",
        "print(\"x > 5 and y < 10:\", x > 5 and y < 10)  # True (both conditions are True)\n",
        "print(\"x < 5 or y < 10:\", x < 5 or y < 10)  # True (one condition is True)\n",
        "print(\"not(x == 10):\", not(x == 10))  # False (because x == 10 is True, and not reverses it)\n"
      ],
      "metadata": {
        "colab": {
          "base_uri": "https://localhost:8080/"
        },
        "id": "oSx-k3KIO4BG",
        "outputId": "b405f293-28cd-4302-a492-e612d5d2bd8a"
      },
      "execution_count": null,
      "outputs": [
        {
          "output_type": "stream",
          "name": "stdout",
          "text": [
            "a and b: False\n",
            "a or b: True\n",
            "not a: False\n",
            "not b: True\n",
            "\n",
            "Checking Conditions:\n",
            "x > 5 and y < 10: True\n",
            "x < 5 or y < 10: True\n",
            "not(x == 10): False\n"
          ]
        }
      ]
    },
    {
      "cell_type": "markdown",
      "source": [
        "#9. Write a Python program to convert user input from string to integer, float, and boolean types?\n",
        "    >>"
      ],
      "metadata": {
        "id": "nbRuFh7jPD6o"
      }
    },
    {
      "cell_type": "code",
      "source": [
        "# Taking user input as a string\n",
        "user_input = input(\"Enter a value: \")\n",
        "\n",
        "# Converting to integer (if possible)\n",
        "try:\n",
        "    int_value = int(user_input)\n",
        "    print(\"Integer:\", int_value)\n",
        "except ValueError:\n",
        "    print(\"Cannot convert to Integer\")\n",
        "\n",
        "# Converting to float (if possible)\n",
        "try:\n",
        "    float_value = float(user_input)\n",
        "    print(\"Float:\", float_value)\n",
        "except ValueError:\n",
        "    print(\"Cannot convert to Float\")\n",
        "\n",
        "# Converting to boolean\n",
        "bool_value = bool(user_input)  # Empty string is False, non-empty is True\n",
        "print(\"Boolean:\", bool_value)\n"
      ],
      "metadata": {
        "colab": {
          "base_uri": "https://localhost:8080/"
        },
        "id": "XdcTpah-PQm5",
        "outputId": "bad942e6-5d95-425e-f0d8-9b24f2e6c665"
      },
      "execution_count": null,
      "outputs": [
        {
          "output_type": "stream",
          "name": "stdout",
          "text": [
            "Enter a value: 55\n",
            "Integer: 55\n",
            "Float: 55.0\n",
            "Boolean: True\n"
          ]
        }
      ]
    },
    {
      "cell_type": "markdown",
      "source": [
        "#10. Write code to demonstrate type casting with list elements?\n",
        "    >>\n"
      ],
      "metadata": {
        "id": "-TJODHNPPmIf"
      }
    },
    {
      "cell_type": "code",
      "source": [
        "# Creating a list with mixed data types (strings, numbers)\n",
        "data_list = [\"10\", \"20.5\", \"30\", \"True\", \"45\"]\n",
        "\n",
        "# Converting string numbers to integers\n",
        "int_list = [int(float(item)) for item in data_list if item.replace(\".\", \"\", 1).isdigit()]\n",
        "print(\"Converted to Integers:\", int_list)\n",
        "\n",
        "# Converting string numbers to floats\n",
        "float_list = [float(item) for item in data_list if item.replace(\".\", \"\", 1).isdigit()]\n",
        "print(\"Converted to Floats:\", float_list)\n",
        "\n",
        "# Converting string values to boolean\n",
        "bool_list = [bool(eval(item)) if item in [\"True\", \"False\"] else bool(item) for item in data_list]\n",
        "print(\"Converted to Booleans:\", bool_list)\n"
      ],
      "metadata": {
        "colab": {
          "base_uri": "https://localhost:8080/"
        },
        "id": "SOiZuR2cP1xt",
        "outputId": "cb620682-47ed-419d-ce4b-19fa59555645"
      },
      "execution_count": null,
      "outputs": [
        {
          "output_type": "stream",
          "name": "stdout",
          "text": [
            "Converted to Integers: [10, 20, 30, 45]\n",
            "Converted to Floats: [10.0, 20.5, 30.0, 45.0]\n",
            "Converted to Booleans: [True, True, True, True, True]\n"
          ]
        }
      ]
    },
    {
      "cell_type": "markdown",
      "source": [
        "#11.Write a program that checks if a number is positive, negative, or zero?\n",
        "    >>"
      ],
      "metadata": {
        "id": "jcvMVVlKP65g"
      }
    },
    {
      "cell_type": "code",
      "source": [
        "# Taking user input\n",
        "num = float(input(\"Enter a number: \"))\n",
        "\n",
        "# Checking the number\n",
        "if num > 0:\n",
        "    print(f\"{num} is positive.\")\n",
        "elif num < 0:\n",
        "    print(f\"{num} is negative.\")\n",
        "else:\n",
        "    print(f\"{num} is zero.\")\n"
      ],
      "metadata": {
        "colab": {
          "base_uri": "https://localhost:8080/"
        },
        "id": "cHdN_SN7QH3p",
        "outputId": "9e02224c-8cab-4261-9546-330c238dc042"
      },
      "execution_count": null,
      "outputs": [
        {
          "output_type": "stream",
          "name": "stdout",
          "text": [
            "Enter a number: 1\n",
            "1.0 is positive.\n"
          ]
        }
      ]
    },
    {
      "cell_type": "markdown",
      "source": [
        "#12. Write a for loop to print numbers from 1 to 100 ?\n",
        "    >>\n"
      ],
      "metadata": {
        "id": "yE0sHh9vQVEy"
      }
    },
    {
      "cell_type": "code",
      "source": [
        "# Using a for loop to print numbers from 1 to 100\n",
        "for number in range(1, 101):\n",
        "    print(number)\n"
      ],
      "metadata": {
        "colab": {
          "base_uri": "https://localhost:8080/"
        },
        "id": "vKm7yXesQjsU",
        "outputId": "4206eb22-5b16-42cf-9a3c-3533727fe4f0"
      },
      "execution_count": null,
      "outputs": [
        {
          "output_type": "stream",
          "name": "stdout",
          "text": [
            "1\n",
            "2\n",
            "3\n",
            "4\n",
            "5\n",
            "6\n",
            "7\n",
            "8\n",
            "9\n",
            "10\n",
            "11\n",
            "12\n",
            "13\n",
            "14\n",
            "15\n",
            "16\n",
            "17\n",
            "18\n",
            "19\n",
            "20\n",
            "21\n",
            "22\n",
            "23\n",
            "24\n",
            "25\n",
            "26\n",
            "27\n",
            "28\n",
            "29\n",
            "30\n",
            "31\n",
            "32\n",
            "33\n",
            "34\n",
            "35\n",
            "36\n",
            "37\n",
            "38\n",
            "39\n",
            "40\n",
            "41\n",
            "42\n",
            "43\n",
            "44\n",
            "45\n",
            "46\n",
            "47\n",
            "48\n",
            "49\n",
            "50\n",
            "51\n",
            "52\n",
            "53\n",
            "54\n",
            "55\n",
            "56\n",
            "57\n",
            "58\n",
            "59\n",
            "60\n",
            "61\n",
            "62\n",
            "63\n",
            "64\n",
            "65\n",
            "66\n",
            "67\n",
            "68\n",
            "69\n",
            "70\n",
            "71\n",
            "72\n",
            "73\n",
            "74\n",
            "75\n",
            "76\n",
            "77\n",
            "78\n",
            "79\n",
            "80\n",
            "81\n",
            "82\n",
            "83\n",
            "84\n",
            "85\n",
            "86\n",
            "87\n",
            "88\n",
            "89\n",
            "90\n",
            "91\n",
            "92\n",
            "93\n",
            "94\n",
            "95\n",
            "96\n",
            "97\n",
            "98\n",
            "99\n",
            "100\n"
          ]
        }
      ]
    },
    {
      "cell_type": "markdown",
      "source": [
        "#13. Write a Python program to find the sum of all even numbers between 1 and 500?\n",
        "    >>\n"
      ],
      "metadata": {
        "id": "_DdNqPDPQttU"
      }
    },
    {
      "cell_type": "code",
      "source": [
        "# Initialize sum\n",
        "even_sum = 0\n",
        "\n",
        "# Using a for loop to find even numbers between 1 and 500\n",
        "for number in range(2, 501, 2):  # Start at 2, step by 2 to get even numbers\n",
        "    even_sum += number\n",
        "\n",
        "# Print the sum of even numbers\n",
        "print(\"Sum of all even numbers between 1 and 500:\", even_sum)\n"
      ],
      "metadata": {
        "colab": {
          "base_uri": "https://localhost:8080/"
        },
        "id": "gQ9hAJMzRDMA",
        "outputId": "e1d8a6d5-446d-42a7-8259-c05e735f480c"
      },
      "execution_count": null,
      "outputs": [
        {
          "output_type": "stream",
          "name": "stdout",
          "text": [
            "Sum of all even numbers between 1 and 500: 62750\n"
          ]
        }
      ]
    },
    {
      "cell_type": "markdown",
      "source": [
        "#14. Write a program to reverse a string using a while loop?\n",
        "    >>\n"
      ],
      "metadata": {
        "id": "yds67W_JRJOD"
      }
    },
    {
      "cell_type": "code",
      "source": [
        "# Take user input\n",
        "input_string = input(\"Enter a string: \")\n",
        "\n",
        "# Initialize an empty string for the reversed string\n",
        "reversed_string = \"\"\n",
        "\n",
        "# Initialize an index starting from the last character of the input string\n",
        "index = len(input_string) - 1\n",
        "\n",
        "# While loop to reverse the string\n",
        "while index >= 0:\n",
        "    reversed_string += input_string[index]  # Add character to the reversed string\n",
        "    index -= 1  # Move to the previous character\n",
        "\n",
        "# Print the reversed string\n",
        "print(\"Reversed string:\", reversed_string)\n"
      ],
      "metadata": {
        "colab": {
          "base_uri": "https://localhost:8080/"
        },
        "id": "jvOD2q6WRV3r",
        "outputId": "8dcda637-0c22-4072-df25-e66ba070580d"
      },
      "execution_count": null,
      "outputs": [
        {
          "output_type": "stream",
          "name": "stdout",
          "text": [
            "Enter a string: Pankaj\n",
            "Reversed string: jaknaP\n"
          ]
        }
      ]
    },
    {
      "cell_type": "markdown",
      "source": [
        "#15.  Write a Python program to calculate the factorial of a number provided by the user using a while loop?\n",
        "    >>\n",
        "    \n"
      ],
      "metadata": {
        "id": "vZNlzsNRRbZs"
      }
    },
    {
      "cell_type": "code",
      "source": [
        "# Take user input\n",
        "num = int(input(\"Enter a number to calculate its factorial: \"))\n",
        "\n",
        "# Initialize variables\n",
        "factorial = 1\n",
        "i = 1\n",
        "\n",
        "# Using a while loop to calculate the factorial\n",
        "while i <= num:\n",
        "    factorial *= i\n",
        "    i += 1\n",
        "\n",
        "# Print the factorial of the number\n",
        "print(f\"The factorial of {num} is {factorial}\")\n"
      ],
      "metadata": {
        "colab": {
          "base_uri": "https://localhost:8080/"
        },
        "id": "Yu4Y7SCIRoGk",
        "outputId": "1fe50f84-b19e-494b-9c63-8e6c18e4061e"
      },
      "execution_count": null,
      "outputs": [
        {
          "output_type": "stream",
          "name": "stdout",
          "text": [
            "Enter a number to calculate its factorial: 10\n",
            "The factorial of 10 is 3628800\n"
          ]
        }
      ]
    }
  ]
}